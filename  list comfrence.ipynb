{
 "cells": [
  {
   "cell_type": "raw",
   "id": "a01a10d6-5612-40a6-9049-a480470d0d0d",
   "metadata": {},
   "source": [
    "List"
   ]
  },
  {
   "cell_type": "code",
   "execution_count": 15,
   "id": "151a8389-57b2-41af-b672-116599d70c24",
   "metadata": {},
   "outputs": [],
   "source": [
    "l=['arun',1.5,True,1+2j]"
   ]
  },
  {
   "cell_type": "code",
   "execution_count": 17,
   "id": "98b3b9a3-7e6f-4863-a577-5799162897ca",
   "metadata": {},
   "outputs": [
    {
     "name": "stdout",
     "output_type": "stream",
     "text": [
      "['arun', 1.5, True, (1+2j)]\n"
     ]
    }
   ],
   "source": [
    "print(l)"
   ]
  },
  {
   "cell_type": "code",
   "execution_count": 19,
   "id": "935f7536-61be-4438-b47c-7fa26b090fe8",
   "metadata": {},
   "outputs": [
    {
     "data": {
      "text/plain": [
       "1.5"
      ]
     },
     "execution_count": 19,
     "metadata": {},
     "output_type": "execute_result"
    }
   ],
   "source": [
    "l[1]"
   ]
  },
  {
   "cell_type": "code",
   "execution_count": 21,
   "id": "955216aa-d8a0-4df9-895c-1db7712de308",
   "metadata": {},
   "outputs": [],
   "source": [
    "l.append(3)"
   ]
  },
  {
   "cell_type": "code",
   "execution_count": 23,
   "id": "2280f383-c193-48fd-ab04-0a766db7ef65",
   "metadata": {},
   "outputs": [
    {
     "data": {
      "text/plain": [
       "['arun', 1.5, True, (1+2j), 3]"
      ]
     },
     "execution_count": 23,
     "metadata": {},
     "output_type": "execute_result"
    }
   ],
   "source": [
    "l"
   ]
  },
  {
   "cell_type": "code",
   "execution_count": 25,
   "id": "0a0f1e9b-d415-4d9d-b38b-ddb66e2d783f",
   "metadata": {},
   "outputs": [],
   "source": [
    "l.extend([1,2])"
   ]
  },
  {
   "cell_type": "code",
   "execution_count": 27,
   "id": "0c8faa46-ad78-4d82-b5fa-5f704d54c221",
   "metadata": {},
   "outputs": [
    {
     "data": {
      "text/plain": [
       "['arun', 1.5, True, (1+2j), 3, 1, 2]"
      ]
     },
     "execution_count": 27,
     "metadata": {},
     "output_type": "execute_result"
    }
   ],
   "source": [
    "l"
   ]
  },
  {
   "cell_type": "code",
   "execution_count": 29,
   "id": "650df4ac-fe99-4bb7-867a-7afe5e9ac958",
   "metadata": {},
   "outputs": [
    {
     "data": {
      "text/plain": [
       "2"
      ]
     },
     "execution_count": 29,
     "metadata": {},
     "output_type": "execute_result"
    }
   ],
   "source": [
    "l.pop()"
   ]
  },
  {
   "cell_type": "code",
   "execution_count": 31,
   "id": "20d80ab3-42b4-4f4c-b46d-968e6e0d6dd4",
   "metadata": {},
   "outputs": [
    {
     "data": {
      "text/plain": [
       "['arun', 1.5, True, (1+2j), 3, 1]"
      ]
     },
     "execution_count": 31,
     "metadata": {},
     "output_type": "execute_result"
    }
   ],
   "source": [
    "l"
   ]
  },
  {
   "cell_type": "code",
   "execution_count": 33,
   "id": "71611c68-18bd-469c-b359-2858068c44e8",
   "metadata": {},
   "outputs": [
    {
     "data": {
      "text/plain": [
       "1.5"
      ]
     },
     "execution_count": 33,
     "metadata": {},
     "output_type": "execute_result"
    }
   ],
   "source": [
    "l.pop(1)"
   ]
  },
  {
   "cell_type": "code",
   "execution_count": 35,
   "id": "c859725d-f4de-4243-a267-38e482b047f9",
   "metadata": {},
   "outputs": [
    {
     "data": {
      "text/plain": [
       "['arun', True, (1+2j), 3, 1]"
      ]
     },
     "execution_count": 35,
     "metadata": {},
     "output_type": "execute_result"
    }
   ],
   "source": [
    "l"
   ]
  },
  {
   "cell_type": "markdown",
   "id": "df59ddfb-3b65-47ca-9f68-053e48e6c032",
   "metadata": {},
   "source": [
    "List=[exp for iteam in itarble if condition ]"
   ]
  },
  {
   "cell_type": "code",
   "execution_count": 37,
   "id": "777d18c9-0d6e-4e93-a54c-424007541541",
   "metadata": {},
   "outputs": [
    {
     "data": {
      "text/plain": [
       "['arun', True, (1+2j), 3, 1]"
      ]
     },
     "execution_count": 37,
     "metadata": {},
     "output_type": "execute_result"
    }
   ],
   "source": [
    "l"
   ]
  },
  {
   "cell_type": "code",
   "execution_count": 39,
   "id": "05601348-c19a-4ff1-8537-0a20b4a96013",
   "metadata": {},
   "outputs": [
    {
     "name": "stdout",
     "output_type": "stream",
     "text": [
      "arun\n",
      "True\n",
      "(1+2j)\n",
      "3\n",
      "1\n"
     ]
    }
   ],
   "source": [
    "for i in l:\n",
    "    print(i)"
   ]
  },
  {
   "cell_type": "code",
   "execution_count": 41,
   "id": "09a150b0-15b2-41b6-9609-35dd9f90408b",
   "metadata": {},
   "outputs": [],
   "source": [
    "new = [x for x in l]"
   ]
  },
  {
   "cell_type": "code",
   "execution_count": 43,
   "id": "fd2907be-2daa-47b6-aedf-ee976a44af01",
   "metadata": {},
   "outputs": [
    {
     "data": {
      "text/plain": [
       "['arun', True, (1+2j), 3, 1]"
      ]
     },
     "execution_count": 43,
     "metadata": {},
     "output_type": "execute_result"
    }
   ],
   "source": [
    "new"
   ]
  },
  {
   "cell_type": "code",
   "execution_count": 45,
   "id": "855897cc-01e4-411a-ad40-108c0b638c8d",
   "metadata": {},
   "outputs": [],
   "source": [
    "new = [x for x in l if x=='arun']"
   ]
  },
  {
   "cell_type": "code",
   "execution_count": 47,
   "id": "30232f68-6f94-468d-8d19-a37c061432dd",
   "metadata": {},
   "outputs": [
    {
     "data": {
      "text/plain": [
       "['arun']"
      ]
     },
     "execution_count": 47,
     "metadata": {},
     "output_type": "execute_result"
    }
   ],
   "source": [
    "new"
   ]
  },
  {
   "cell_type": "code",
   "execution_count": 49,
   "id": "84a1e716-ca69-4f16-ae31-f148647939cb",
   "metadata": {},
   "outputs": [],
   "source": [
    "a = [1,2,3]"
   ]
  },
  {
   "cell_type": "code",
   "execution_count": 51,
   "id": "0d6cd15e-6859-4c4d-8d7a-80f7d304d4fd",
   "metadata": {},
   "outputs": [
    {
     "name": "stdout",
     "output_type": "stream",
     "text": [
      "1\n",
      "2\n",
      "3\n"
     ]
    }
   ],
   "source": [
    "for i in a:\n",
    "    print(i)"
   ]
  },
  {
   "cell_type": "code",
   "execution_count": 53,
   "id": "0eff257c-e4ef-4b1f-b2cc-34bf3d03abe6",
   "metadata": {},
   "outputs": [],
   "source": [
    "list = [x for x in a ]"
   ]
  },
  {
   "cell_type": "code",
   "execution_count": 55,
   "id": "1e111e2e-7c78-42c7-96be-3837b3d5bc13",
   "metadata": {},
   "outputs": [
    {
     "data": {
      "text/plain": [
       "[1, 2, 3]"
      ]
     },
     "execution_count": 55,
     "metadata": {},
     "output_type": "execute_result"
    }
   ],
   "source": [
    "list"
   ]
  },
  {
   "cell_type": "code",
   "execution_count": 57,
   "id": "8f7c125c-a44b-44b2-8124-366527084969",
   "metadata": {},
   "outputs": [],
   "source": [
    "list = [x for x in a if x==2 ]"
   ]
  },
  {
   "cell_type": "code",
   "execution_count": 59,
   "id": "5f48b494-1850-405a-8587-ea6854293e71",
   "metadata": {},
   "outputs": [
    {
     "data": {
      "text/plain": [
       "[2]"
      ]
     },
     "execution_count": 59,
     "metadata": {},
     "output_type": "execute_result"
    }
   ],
   "source": [
    "list"
   ]
  },
  {
   "cell_type": "code",
   "execution_count": 61,
   "id": "a27f7d1d-a922-4e00-8164-67130071fb5a",
   "metadata": {},
   "outputs": [
    {
     "name": "stdout",
     "output_type": "stream",
     "text": [
      "4\n",
      "5\n",
      "6\n"
     ]
    }
   ],
   "source": [
    "b = [4,5,6]\n",
    "for i in b:\n",
    "    print(i)"
   ]
  },
  {
   "cell_type": "code",
   "execution_count": 67,
   "id": "ecf6275c-18f9-42f1-b36d-1da645d3d727",
   "metadata": {},
   "outputs": [],
   "source": [
    "list = [x for x in b]"
   ]
  },
  {
   "cell_type": "code",
   "execution_count": 69,
   "id": "8ab8f804-b0e3-4e01-a3a0-61d6265287bf",
   "metadata": {},
   "outputs": [
    {
     "data": {
      "text/plain": [
       "[4, 5, 6]"
      ]
     },
     "execution_count": 69,
     "metadata": {},
     "output_type": "execute_result"
    }
   ],
   "source": [
    "list"
   ]
  },
  {
   "cell_type": "code",
   "execution_count": 73,
   "id": "785a9de7-0f38-406d-885c-1d33159e0449",
   "metadata": {},
   "outputs": [],
   "source": [
    "list = [x for x in b if x==5]"
   ]
  },
  {
   "cell_type": "code",
   "execution_count": 75,
   "id": "334cefe4-9119-45f9-a9b8-fd00026b2467",
   "metadata": {},
   "outputs": [
    {
     "data": {
      "text/plain": [
       "[5]"
      ]
     },
     "execution_count": 75,
     "metadata": {},
     "output_type": "execute_result"
    }
   ],
   "source": [
    "list"
   ]
  },
  {
   "cell_type": "code",
   "execution_count": 77,
   "id": "0276a5af-4c2a-4360-89b8-4d60275f7700",
   "metadata": {},
   "outputs": [],
   "source": [
    "d=[4,5,6,4,8,6,12,14,16,18,20]"
   ]
  },
  {
   "cell_type": "code",
   "execution_count": 79,
   "id": "c9534e80-dd8e-418b-ac60-8ef0eaf42c83",
   "metadata": {},
   "outputs": [],
   "source": [
    "list=[y for y in d] "
   ]
  },
  {
   "cell_type": "code",
   "execution_count": 81,
   "id": "4fd59950-f688-4ccf-b3d1-2636357af693",
   "metadata": {},
   "outputs": [
    {
     "data": {
      "text/plain": [
       "[4, 5, 6, 4, 8, 6, 12, 14, 16, 18, 20]"
      ]
     },
     "execution_count": 81,
     "metadata": {},
     "output_type": "execute_result"
    }
   ],
   "source": [
    "list"
   ]
  },
  {
   "cell_type": "code",
   "execution_count": 83,
   "id": "75e19708-88ff-4e33-9f70-4dce7a5c5136",
   "metadata": {},
   "outputs": [],
   "source": [
    "list=[y for y in d if y %2==0] "
   ]
  },
  {
   "cell_type": "code",
   "execution_count": 85,
   "id": "f3bb7203-0662-4752-9a24-6fc438cd6899",
   "metadata": {},
   "outputs": [
    {
     "data": {
      "text/plain": [
       "[4, 6, 4, 8, 6, 12, 14, 16, 18, 20]"
      ]
     },
     "execution_count": 85,
     "metadata": {},
     "output_type": "execute_result"
    }
   ],
   "source": [
    "list"
   ]
  },
  {
   "cell_type": "code",
   "execution_count": 87,
   "id": "9a06e58f-ba51-4826-8c9d-a35f85b580dc",
   "metadata": {},
   "outputs": [],
   "source": [
    "e=[1,2,3,4,5,6,7,8,9,10]"
   ]
  },
  {
   "cell_type": "code",
   "execution_count": 89,
   "id": "b8a98546-0c3f-43a8-9a51-cbf9c4c8e10d",
   "metadata": {},
   "outputs": [
    {
     "name": "stdout",
     "output_type": "stream",
     "text": [
      "1\n",
      "2\n",
      "3\n",
      "4\n",
      "5\n",
      "6\n",
      "7\n",
      "8\n",
      "9\n",
      "10\n"
     ]
    }
   ],
   "source": [
    "for i in e:\n",
    "    print(i)"
   ]
  },
  {
   "cell_type": "code",
   "execution_count": 91,
   "id": "667505c8-0110-4464-b0e3-ca4c9b0a374d",
   "metadata": {},
   "outputs": [],
   "source": [
    "list=[a for a in e]"
   ]
  },
  {
   "cell_type": "code",
   "execution_count": 93,
   "id": "d8661eb1-9838-4224-9df7-18e390e84319",
   "metadata": {},
   "outputs": [
    {
     "data": {
      "text/plain": [
       "[1, 2, 3, 4, 5, 6, 7, 8, 9, 10]"
      ]
     },
     "execution_count": 93,
     "metadata": {},
     "output_type": "execute_result"
    }
   ],
   "source": [
    "list"
   ]
  },
  {
   "cell_type": "code",
   "execution_count": 97,
   "id": "2ae0456e-e889-4709-83c9-4891944f24c4",
   "metadata": {},
   "outputs": [],
   "source": [
    "list=[a for a in e if a%3==0]\n"
   ]
  },
  {
   "cell_type": "code",
   "execution_count": 99,
   "id": "83255c58-b883-4251-9938-f076adbbc610",
   "metadata": {},
   "outputs": [
    {
     "data": {
      "text/plain": [
       "[3, 6, 9]"
      ]
     },
     "execution_count": 99,
     "metadata": {},
     "output_type": "execute_result"
    }
   ],
   "source": [
    "list"
   ]
  },
  {
   "cell_type": "code",
   "execution_count": 101,
   "id": "2e498c2a-ffe9-484d-9cb9-5073c79fd57e",
   "metadata": {},
   "outputs": [],
   "source": [
    "b=[11,12,13,14,15,16,17,18,19,20,21]"
   ]
  },
  {
   "cell_type": "code",
   "execution_count": 103,
   "id": "7fc859f2-1f17-4122-8e35-5f1c5256c032",
   "metadata": {},
   "outputs": [],
   "source": [
    "list=[y for y in b] "
   ]
  },
  {
   "cell_type": "code",
   "execution_count": 105,
   "id": "9f06f531-23f7-423e-94e3-1b70d80862ac",
   "metadata": {},
   "outputs": [
    {
     "data": {
      "text/plain": [
       "[11, 12, 13, 14, 15, 16, 17, 18, 19, 20, 21]"
      ]
     },
     "execution_count": 105,
     "metadata": {},
     "output_type": "execute_result"
    }
   ],
   "source": [
    "list"
   ]
  },
  {
   "cell_type": "code",
   "execution_count": 107,
   "id": "06e24af9-c77c-45e4-b852-7c6c07153d45",
   "metadata": {},
   "outputs": [],
   "source": [
    "list=[a for a in b if a%5==0]"
   ]
  },
  {
   "cell_type": "code",
   "execution_count": 109,
   "id": "1569234a-4b2f-4aef-93b1-6393e82e7fb6",
   "metadata": {},
   "outputs": [
    {
     "data": {
      "text/plain": [
       "[15, 20]"
      ]
     },
     "execution_count": 109,
     "metadata": {},
     "output_type": "execute_result"
    }
   ],
   "source": [
    "list"
   ]
  },
  {
   "cell_type": "code",
   "execution_count": 113,
   "id": "b817dcd1-835b-49b0-9aa6-416a9a7c7573",
   "metadata": {},
   "outputs": [],
   "source": [
    "e=['mango','banana','apple','orange','papaya']"
   ]
  },
  {
   "cell_type": "code",
   "execution_count": 115,
   "id": "aa631770-8bf9-46e3-b953-c4f9fe2a7f48",
   "metadata": {},
   "outputs": [],
   "source": [
    "list=[y for y in e]"
   ]
  },
  {
   "cell_type": "code",
   "execution_count": 117,
   "id": "cbceb889-8040-4de2-984e-77c4c6ace2c9",
   "metadata": {},
   "outputs": [
    {
     "data": {
      "text/plain": [
       "['mango', 'banana', 'apple', 'orange', 'papaya']"
      ]
     },
     "execution_count": 117,
     "metadata": {},
     "output_type": "execute_result"
    }
   ],
   "source": [
    "list"
   ]
  },
  {
   "cell_type": "code",
   "execution_count": 119,
   "id": "21f2d42a-55d2-49bf-bbfa-ae5d6346a74d",
   "metadata": {},
   "outputs": [],
   "source": [
    "list=[a for a in e if a=='mango' ]"
   ]
  },
  {
   "cell_type": "code",
   "execution_count": 121,
   "id": "157b2457-01ee-4034-839d-c8d08982a7f6",
   "metadata": {},
   "outputs": [
    {
     "data": {
      "text/plain": [
       "['mango']"
      ]
     },
     "execution_count": 121,
     "metadata": {},
     "output_type": "execute_result"
    }
   ],
   "source": [
    "list"
   ]
  },
  {
   "cell_type": "code",
   "execution_count": 127,
   "id": "3fc44fb2-68e2-43b9-9e3e-bcd5760f11e7",
   "metadata": {},
   "outputs": [
    {
     "name": "stdout",
     "output_type": "stream",
     "text": [
      "mango\n"
     ]
    }
   ],
   "source": [
    "for i in list :\n",
    "    print(i)"
   ]
  },
  {
   "cell_type": "code",
   "execution_count": 129,
   "id": "3ae23c69-8942-4441-8af5-950ee585c2f5",
   "metadata": {},
   "outputs": [],
   "source": [
    "y=['sunday','monday','tuesday','wednesday','thuersday','friday','saturday']"
   ]
  },
  {
   "cell_type": "code",
   "execution_count": 131,
   "id": "c4950877-de5c-47c7-a3a7-0276ee5b4204",
   "metadata": {},
   "outputs": [
    {
     "data": {
      "text/plain": [
       "['sunday', 'monday', 'tuesday', 'wednesday', 'thuersday', 'friday', 'saturday']"
      ]
     },
     "execution_count": 131,
     "metadata": {},
     "output_type": "execute_result"
    }
   ],
   "source": [
    "y"
   ]
  },
  {
   "cell_type": "code",
   "execution_count": 133,
   "id": "10e00c4a-306d-4e6a-9634-4609381f090e",
   "metadata": {},
   "outputs": [],
   "source": [
    "list=[x for x in y]"
   ]
  },
  {
   "cell_type": "code",
   "execution_count": 135,
   "id": "8a2ce605-ca22-478e-9a6d-2dd6a30f484e",
   "metadata": {},
   "outputs": [
    {
     "data": {
      "text/plain": [
       "['sunday', 'monday', 'tuesday', 'wednesday', 'thuersday', 'friday', 'saturday']"
      ]
     },
     "execution_count": 135,
     "metadata": {},
     "output_type": "execute_result"
    }
   ],
   "source": [
    "list"
   ]
  },
  {
   "cell_type": "code",
   "execution_count": 137,
   "id": "8d104eeb-a25f-4b2c-b793-40fa1120ec16",
   "metadata": {},
   "outputs": [],
   "source": [
    "list=[x for x in y if x=='monday']"
   ]
  },
  {
   "cell_type": "code",
   "execution_count": 139,
   "id": "52a2c9ba-821c-4875-a888-f0a83a20eb87",
   "metadata": {},
   "outputs": [
    {
     "data": {
      "text/plain": [
       "['monday']"
      ]
     },
     "execution_count": 139,
     "metadata": {},
     "output_type": "execute_result"
    }
   ],
   "source": [
    "list"
   ]
  },
  {
   "cell_type": "code",
   "execution_count": 141,
   "id": "f0859622-23a5-41d6-81d9-e5d8886b4fd1",
   "metadata": {},
   "outputs": [],
   "source": [
    "a = [1,2,3]\n"
   ]
  },
  {
   "cell_type": "code",
   "execution_count": 149,
   "id": "3e49b8a5-1a04-48da-a030-bda0ff889042",
   "metadata": {},
   "outputs": [
    {
     "name": "stdout",
     "output_type": "stream",
     "text": [
      "1\n"
     ]
    }
   ],
   "source": [
    "for i in a:\n",
    "    if i==1:\n",
    "        print(i)\n",
    "    "
   ]
  },
  {
   "cell_type": "code",
   "execution_count": 151,
   "id": "6bc3820f-7524-4dab-a73b-dcb613f08f92",
   "metadata": {},
   "outputs": [],
   "source": [
    "list = [x for x in a if x==2]"
   ]
  },
  {
   "cell_type": "code",
   "execution_count": 153,
   "id": "6ebb43ff-3a51-4df3-a5de-ff448e5ef85b",
   "metadata": {},
   "outputs": [
    {
     "data": {
      "text/plain": [
       "[2]"
      ]
     },
     "execution_count": 153,
     "metadata": {},
     "output_type": "execute_result"
    }
   ],
   "source": [
    "list"
   ]
  },
  {
   "cell_type": "code",
   "execution_count": 155,
   "id": "639088b9-b93e-4787-95ad-94ad1d77af4c",
   "metadata": {},
   "outputs": [],
   "source": [
    "y=[1,2,3,4,5,6,7,8,9,10]"
   ]
  },
  {
   "cell_type": "code",
   "execution_count": 157,
   "id": "8e472417-6f47-49e5-8b27-125b7ce6271e",
   "metadata": {},
   "outputs": [
    {
     "data": {
      "text/plain": [
       "[1, 2, 3, 4, 5, 6, 7, 8, 9, 10]"
      ]
     },
     "execution_count": 157,
     "metadata": {},
     "output_type": "execute_result"
    }
   ],
   "source": [
    "y"
   ]
  },
  {
   "cell_type": "code",
   "execution_count": 161,
   "id": "325025c5-1f2c-4644-b2b7-0a5808786aab",
   "metadata": {},
   "outputs": [
    {
     "name": "stdout",
     "output_type": "stream",
     "text": [
      "5\n"
     ]
    }
   ],
   "source": [
    "for i in y:\n",
    "    if i==5:\n",
    "        print(i)"
   ]
  },
  {
   "cell_type": "code",
   "execution_count": 163,
   "id": "e94eadab-36cf-406c-be52-171b4b32fcf1",
   "metadata": {},
   "outputs": [],
   "source": [
    "list=[x for x in y if x==6]"
   ]
  },
  {
   "cell_type": "code",
   "execution_count": 165,
   "id": "3f6ce857-42bd-4e77-8d93-c10e0ce0b5e8",
   "metadata": {},
   "outputs": [
    {
     "data": {
      "text/plain": [
       "[6]"
      ]
     },
     "execution_count": 165,
     "metadata": {},
     "output_type": "execute_result"
    }
   ],
   "source": [
    "list"
   ]
  },
  {
   "cell_type": "code",
   "execution_count": null,
   "id": "433103d1-72f4-4a31-bd30-2cd59cb816d5",
   "metadata": {},
   "outputs": [],
   "source": []
  }
 ],
 "metadata": {
  "kernelspec": {
   "display_name": "Python [conda env:base] *",
   "language": "python",
   "name": "conda-base-py"
  },
  "language_info": {
   "codemirror_mode": {
    "name": "ipython",
    "version": 3
   },
   "file_extension": ".py",
   "mimetype": "text/x-python",
   "name": "python",
   "nbconvert_exporter": "python",
   "pygments_lexer": "ipython3",
   "version": "3.12.7"
  }
 },
 "nbformat": 4,
 "nbformat_minor": 5
}
