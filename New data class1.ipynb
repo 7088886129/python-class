{
 "cells": [
  {
   "cell_type": "code",
   "execution_count": 3,
   "id": "3d16ac6b-5c42-4d18-ad82-f98abeca8419",
   "metadata": {},
   "outputs": [],
   "source": [
    "import numpy as np\n",
    "import pandas as pd\n",
    "import matplotlib.pyplot as plt\n",
    "import seaborn as sns\n",
    "import warnings"
   ]
  },
  {
   "cell_type": "code",
   "execution_count": 4,
   "id": "487ea0e0-ac88-4089-8d4d-7c71b66dfcf1",
   "metadata": {},
   "outputs": [],
   "source": [
    "data = {\n",
    "    'Name': [ 'Arun ','Dushyant','Sadhvi','Akash','karan',],\n",
    "    'Age': [25,24,23,26,42],\n",
    "    'Salary': [50000,52000,55000,32000,12000],\n",
    "    'City': ['Faridabad','Aligarh','Narungabad','Nodia','Delhi']\n",
    "}\n",
    "Ds= pd.DataFrame(data)"
   ]
  },
  {
   "cell_type": "code",
   "execution_count": 5,
   "id": "65104008-8bde-4a9b-a043-dd8acb1b1db8",
   "metadata": {},
   "outputs": [
    {
     "data": {
      "text/html": [
       "<div>\n",
       "<style scoped>\n",
       "    .dataframe tbody tr th:only-of-type {\n",
       "        vertical-align: middle;\n",
       "    }\n",
       "\n",
       "    .dataframe tbody tr th {\n",
       "        vertical-align: top;\n",
       "    }\n",
       "\n",
       "    .dataframe thead th {\n",
       "        text-align: right;\n",
       "    }\n",
       "</style>\n",
       "<table border=\"1\" class=\"dataframe\">\n",
       "  <thead>\n",
       "    <tr style=\"text-align: right;\">\n",
       "      <th></th>\n",
       "      <th>Name</th>\n",
       "      <th>Age</th>\n",
       "      <th>Salary</th>\n",
       "      <th>City</th>\n",
       "    </tr>\n",
       "  </thead>\n",
       "  <tbody>\n",
       "    <tr>\n",
       "      <th>0</th>\n",
       "      <td>Arun</td>\n",
       "      <td>25</td>\n",
       "      <td>50000</td>\n",
       "      <td>Faridabad</td>\n",
       "    </tr>\n",
       "    <tr>\n",
       "      <th>1</th>\n",
       "      <td>Dushyant</td>\n",
       "      <td>24</td>\n",
       "      <td>52000</td>\n",
       "      <td>Aligarh</td>\n",
       "    </tr>\n",
       "    <tr>\n",
       "      <th>2</th>\n",
       "      <td>Sadhvi</td>\n",
       "      <td>23</td>\n",
       "      <td>55000</td>\n",
       "      <td>Narungabad</td>\n",
       "    </tr>\n",
       "    <tr>\n",
       "      <th>3</th>\n",
       "      <td>Akash</td>\n",
       "      <td>26</td>\n",
       "      <td>32000</td>\n",
       "      <td>Nodia</td>\n",
       "    </tr>\n",
       "    <tr>\n",
       "      <th>4</th>\n",
       "      <td>karan</td>\n",
       "      <td>42</td>\n",
       "      <td>12000</td>\n",
       "      <td>Delhi</td>\n",
       "    </tr>\n",
       "  </tbody>\n",
       "</table>\n",
       "</div>"
      ],
      "text/plain": [
       "       Name  Age  Salary        City\n",
       "0     Arun    25   50000   Faridabad\n",
       "1  Dushyant   24   52000     Aligarh\n",
       "2    Sadhvi   23   55000  Narungabad\n",
       "3     Akash   26   32000       Nodia\n",
       "4     karan   42   12000       Delhi"
      ]
     },
     "execution_count": 5,
     "metadata": {},
     "output_type": "execute_result"
    }
   ],
   "source": [
    "Ds"
   ]
  },
  {
   "cell_type": "markdown",
   "id": "3b3c522e-8138-4a4e-b0f2-efa18d758779",
   "metadata": {},
   "source": [
    "    How to Save Different Data Format"
   ]
  },
  {
   "cell_type": "code",
   "execution_count": 7,
   "id": "e50b0ce0-cd50-44cc-8c11-35409059175a",
   "metadata": {},
   "outputs": [],
   "source": [
    "Ds.to_csv('Ds.csv')"
   ]
  },
  {
   "cell_type": "code",
   "execution_count": 8,
   "id": "29cd1254-117a-4b2d-a3d7-eeba71f05dfc",
   "metadata": {},
   "outputs": [],
   "source": [
    "Ds.to_html('Ds.html')"
   ]
  },
  {
   "cell_type": "code",
   "execution_count": 9,
   "id": "8e089b67-7473-4eaa-9228-eab59be750a5",
   "metadata": {},
   "outputs": [],
   "source": [
    "Ds.to_json('Ds.json')\n"
   ]
  },
  {
   "cell_type": "code",
   "execution_count": 10,
   "id": "56b9947f-d825-4c8a-a282-ff960e6d9469",
   "metadata": {},
   "outputs": [],
   "source": [
    "Ds.to_excel('Ds.xlsx')\n"
   ]
  },
  {
   "cell_type": "markdown",
   "id": "4feb27cf-3ede-4b2e-b2c3-6f562a77f321",
   "metadata": {},
   "source": [
    "    How to Load Different Data Load"
   ]
  },
  {
   "cell_type": "code",
   "execution_count": 12,
   "id": "f28697d4-2ed7-4fde-9bde-db80e42008cf",
   "metadata": {},
   "outputs": [],
   "source": [
    "Ds_csv=pd.read_csv('Ds.csv')\n",
    "Ds_html=pd.read_html('Ds.html')\n",
    "Ds_json=pd.read_json('Ds.json')\n",
    "Ds_excel=pd.read_excel('Ds.xlsx')"
   ]
  },
  {
   "cell_type": "code",
   "execution_count": 13,
   "id": "2ee846cc-bada-4237-ab5a-aa39f9ce110a",
   "metadata": {},
   "outputs": [
    {
     "data": {
      "text/html": [
       "<div>\n",
       "<style scoped>\n",
       "    .dataframe tbody tr th:only-of-type {\n",
       "        vertical-align: middle;\n",
       "    }\n",
       "\n",
       "    .dataframe tbody tr th {\n",
       "        vertical-align: top;\n",
       "    }\n",
       "\n",
       "    .dataframe thead th {\n",
       "        text-align: right;\n",
       "    }\n",
       "</style>\n",
       "<table border=\"1\" class=\"dataframe\">\n",
       "  <thead>\n",
       "    <tr style=\"text-align: right;\">\n",
       "      <th></th>\n",
       "      <th>Unnamed: 0</th>\n",
       "      <th>Name</th>\n",
       "      <th>Age</th>\n",
       "      <th>Salary</th>\n",
       "      <th>City</th>\n",
       "    </tr>\n",
       "  </thead>\n",
       "  <tbody>\n",
       "    <tr>\n",
       "      <th>0</th>\n",
       "      <td>0</td>\n",
       "      <td>Arun</td>\n",
       "      <td>25</td>\n",
       "      <td>50000</td>\n",
       "      <td>Faridabad</td>\n",
       "    </tr>\n",
       "    <tr>\n",
       "      <th>1</th>\n",
       "      <td>1</td>\n",
       "      <td>Dushyant</td>\n",
       "      <td>24</td>\n",
       "      <td>52000</td>\n",
       "      <td>Aligarh</td>\n",
       "    </tr>\n",
       "    <tr>\n",
       "      <th>2</th>\n",
       "      <td>2</td>\n",
       "      <td>Sadhvi</td>\n",
       "      <td>23</td>\n",
       "      <td>55000</td>\n",
       "      <td>Narungabad</td>\n",
       "    </tr>\n",
       "    <tr>\n",
       "      <th>3</th>\n",
       "      <td>3</td>\n",
       "      <td>Akash</td>\n",
       "      <td>26</td>\n",
       "      <td>32000</td>\n",
       "      <td>Nodia</td>\n",
       "    </tr>\n",
       "    <tr>\n",
       "      <th>4</th>\n",
       "      <td>4</td>\n",
       "      <td>karan</td>\n",
       "      <td>42</td>\n",
       "      <td>12000</td>\n",
       "      <td>Delhi</td>\n",
       "    </tr>\n",
       "  </tbody>\n",
       "</table>\n",
       "</div>"
      ],
      "text/plain": [
       "   Unnamed: 0      Name  Age  Salary        City\n",
       "0           0     Arun    25   50000   Faridabad\n",
       "1           1  Dushyant   24   52000     Aligarh\n",
       "2           2    Sadhvi   23   55000  Narungabad\n",
       "3           3     Akash   26   32000       Nodia\n",
       "4           4     karan   42   12000       Delhi"
      ]
     },
     "execution_count": 13,
     "metadata": {},
     "output_type": "execute_result"
    }
   ],
   "source": [
    "Ds_csv"
   ]
  },
  {
   "cell_type": "code",
   "execution_count": 20,
   "id": "ec84217c-84b7-448e-bf10-b665b817a587",
   "metadata": {},
   "outputs": [
    {
     "data": {
      "text/plain": [
       "[   Unnamed: 0      Name  Age  Salary        City\n",
       " 0           0      Arun   25   50000   Faridabad\n",
       " 1           1  Dushyant   24   52000     Aligarh\n",
       " 2           2    Sadhvi   23   55000  Narungabad\n",
       " 3           3     Akash   26   32000       Nodia\n",
       " 4           4     karan   42   12000       Delhi]"
      ]
     },
     "execution_count": 20,
     "metadata": {},
     "output_type": "execute_result"
    }
   ],
   "source": [
    "Ds_html"
   ]
  },
  {
   "cell_type": "code",
   "execution_count": 21,
   "id": "3b1eecfa-a31a-42e6-bca8-8435b64f5fd0",
   "metadata": {},
   "outputs": [
    {
     "data": {
      "text/html": [
       "<div>\n",
       "<style scoped>\n",
       "    .dataframe tbody tr th:only-of-type {\n",
       "        vertical-align: middle;\n",
       "    }\n",
       "\n",
       "    .dataframe tbody tr th {\n",
       "        vertical-align: top;\n",
       "    }\n",
       "\n",
       "    .dataframe thead th {\n",
       "        text-align: right;\n",
       "    }\n",
       "</style>\n",
       "<table border=\"1\" class=\"dataframe\">\n",
       "  <thead>\n",
       "    <tr style=\"text-align: right;\">\n",
       "      <th></th>\n",
       "      <th>Name</th>\n",
       "      <th>Age</th>\n",
       "      <th>Salary</th>\n",
       "      <th>City</th>\n",
       "    </tr>\n",
       "  </thead>\n",
       "  <tbody>\n",
       "    <tr>\n",
       "      <th>0</th>\n",
       "      <td>Arun</td>\n",
       "      <td>25</td>\n",
       "      <td>50000</td>\n",
       "      <td>Faridabad</td>\n",
       "    </tr>\n",
       "    <tr>\n",
       "      <th>1</th>\n",
       "      <td>Dushyant</td>\n",
       "      <td>24</td>\n",
       "      <td>52000</td>\n",
       "      <td>Aligarh</td>\n",
       "    </tr>\n",
       "    <tr>\n",
       "      <th>2</th>\n",
       "      <td>Sadhvi</td>\n",
       "      <td>23</td>\n",
       "      <td>55000</td>\n",
       "      <td>Narungabad</td>\n",
       "    </tr>\n",
       "    <tr>\n",
       "      <th>3</th>\n",
       "      <td>Akash</td>\n",
       "      <td>26</td>\n",
       "      <td>32000</td>\n",
       "      <td>Nodia</td>\n",
       "    </tr>\n",
       "    <tr>\n",
       "      <th>4</th>\n",
       "      <td>karan</td>\n",
       "      <td>42</td>\n",
       "      <td>12000</td>\n",
       "      <td>Delhi</td>\n",
       "    </tr>\n",
       "  </tbody>\n",
       "</table>\n",
       "</div>"
      ],
      "text/plain": [
       "       Name  Age  Salary        City\n",
       "0     Arun    25   50000   Faridabad\n",
       "1  Dushyant   24   52000     Aligarh\n",
       "2    Sadhvi   23   55000  Narungabad\n",
       "3     Akash   26   32000       Nodia\n",
       "4     karan   42   12000       Delhi"
      ]
     },
     "execution_count": 21,
     "metadata": {},
     "output_type": "execute_result"
    }
   ],
   "source": [
    "Ds_json"
   ]
  },
  {
   "cell_type": "code",
   "execution_count": 23,
   "id": "9ba6f618-26f2-49ca-9d1b-c5b77f416f61",
   "metadata": {},
   "outputs": [
    {
     "data": {
      "text/plain": [
       "[   Unnamed: 0      Name  Age  Salary        City\n",
       " 0           0      Arun   25   50000   Faridabad\n",
       " 1           1  Dushyant   24   52000     Aligarh\n",
       " 2           2    Sadhvi   23   55000  Narungabad\n",
       " 3           3     Akash   26   32000       Nodia\n",
       " 4           4     karan   42   12000       Delhi]"
      ]
     },
     "execution_count": 23,
     "metadata": {},
     "output_type": "execute_result"
    }
   ],
   "source": [
    "Ds_html"
   ]
  },
  {
   "cell_type": "code",
   "execution_count": 29,
   "id": "9525f594-cc02-4b69-a01b-c01d4158eff7",
   "metadata": {},
   "outputs": [
    {
     "data": {
      "text/plain": [
       "(5, 5)"
      ]
     },
     "execution_count": 29,
     "metadata": {},
     "output_type": "execute_result"
    }
   ],
   "source": [
    "Ds_csv.shape"
   ]
  },
  {
   "cell_type": "code",
   "execution_count": 31,
   "id": "6230209b-8bb6-4444-9db1-6d541d80e007",
   "metadata": {},
   "outputs": [
    {
     "name": "stdout",
     "output_type": "stream",
     "text": [
      "<class 'pandas.core.frame.DataFrame'>\n",
      "RangeIndex: 5 entries, 0 to 4\n",
      "Data columns (total 5 columns):\n",
      " #   Column      Non-Null Count  Dtype \n",
      "---  ------      --------------  ----- \n",
      " 0   Unnamed: 0  5 non-null      int64 \n",
      " 1   Name        5 non-null      object\n",
      " 2   Age         5 non-null      int64 \n",
      " 3   Salary      5 non-null      int64 \n",
      " 4   City        5 non-null      object\n",
      "dtypes: int64(3), object(2)\n",
      "memory usage: 332.0+ bytes\n"
     ]
    }
   ],
   "source": [
    "Ds_csv.info()"
   ]
  },
  {
   "cell_type": "code",
   "execution_count": 33,
   "id": "00212751-83ab-4450-821c-e9aa6c13cb87",
   "metadata": {},
   "outputs": [
    {
     "data": {
      "text/plain": [
       "Index(['Unnamed: 0', 'Name', 'Age', 'Salary', 'City'], dtype='object')"
      ]
     },
     "execution_count": 33,
     "metadata": {},
     "output_type": "execute_result"
    }
   ],
   "source": [
    "Ds_csv.columns"
   ]
  },
  {
   "cell_type": "code",
   "execution_count": 35,
   "id": "8f5d9f4f-5ade-4072-bc85-8598b0dee54c",
   "metadata": {},
   "outputs": [
    {
     "data": {
      "text/html": [
       "<div>\n",
       "<style scoped>\n",
       "    .dataframe tbody tr th:only-of-type {\n",
       "        vertical-align: middle;\n",
       "    }\n",
       "\n",
       "    .dataframe tbody tr th {\n",
       "        vertical-align: top;\n",
       "    }\n",
       "\n",
       "    .dataframe thead th {\n",
       "        text-align: right;\n",
       "    }\n",
       "</style>\n",
       "<table border=\"1\" class=\"dataframe\">\n",
       "  <thead>\n",
       "    <tr style=\"text-align: right;\">\n",
       "      <th></th>\n",
       "      <th>Unnamed: 0</th>\n",
       "      <th>Age</th>\n",
       "      <th>Salary</th>\n",
       "    </tr>\n",
       "  </thead>\n",
       "  <tbody>\n",
       "    <tr>\n",
       "      <th>count</th>\n",
       "      <td>5.000000</td>\n",
       "      <td>5.000000</td>\n",
       "      <td>5.000000</td>\n",
       "    </tr>\n",
       "    <tr>\n",
       "      <th>mean</th>\n",
       "      <td>2.000000</td>\n",
       "      <td>28.000000</td>\n",
       "      <td>40200.000000</td>\n",
       "    </tr>\n",
       "    <tr>\n",
       "      <th>std</th>\n",
       "      <td>1.581139</td>\n",
       "      <td>7.905694</td>\n",
       "      <td>18143.869488</td>\n",
       "    </tr>\n",
       "    <tr>\n",
       "      <th>min</th>\n",
       "      <td>0.000000</td>\n",
       "      <td>23.000000</td>\n",
       "      <td>12000.000000</td>\n",
       "    </tr>\n",
       "    <tr>\n",
       "      <th>25%</th>\n",
       "      <td>1.000000</td>\n",
       "      <td>24.000000</td>\n",
       "      <td>32000.000000</td>\n",
       "    </tr>\n",
       "    <tr>\n",
       "      <th>50%</th>\n",
       "      <td>2.000000</td>\n",
       "      <td>25.000000</td>\n",
       "      <td>50000.000000</td>\n",
       "    </tr>\n",
       "    <tr>\n",
       "      <th>75%</th>\n",
       "      <td>3.000000</td>\n",
       "      <td>26.000000</td>\n",
       "      <td>52000.000000</td>\n",
       "    </tr>\n",
       "    <tr>\n",
       "      <th>max</th>\n",
       "      <td>4.000000</td>\n",
       "      <td>42.000000</td>\n",
       "      <td>55000.000000</td>\n",
       "    </tr>\n",
       "  </tbody>\n",
       "</table>\n",
       "</div>"
      ],
      "text/plain": [
       "       Unnamed: 0        Age        Salary\n",
       "count    5.000000   5.000000      5.000000\n",
       "mean     2.000000  28.000000  40200.000000\n",
       "std      1.581139   7.905694  18143.869488\n",
       "min      0.000000  23.000000  12000.000000\n",
       "25%      1.000000  24.000000  32000.000000\n",
       "50%      2.000000  25.000000  50000.000000\n",
       "75%      3.000000  26.000000  52000.000000\n",
       "max      4.000000  42.000000  55000.000000"
      ]
     },
     "execution_count": 35,
     "metadata": {},
     "output_type": "execute_result"
    }
   ],
   "source": [
    "Ds_csv.describe()"
   ]
  },
  {
   "cell_type": "code",
   "execution_count": 37,
   "id": "1bfc1c96-a38e-49b5-8b6e-e6a2657fb9f2",
   "metadata": {},
   "outputs": [
    {
     "data": {
      "text/plain": [
       "Unnamed: 0    0\n",
       "Name          0\n",
       "Age           0\n",
       "Salary        0\n",
       "City          0\n",
       "dtype: int64"
      ]
     },
     "execution_count": 37,
     "metadata": {},
     "output_type": "execute_result"
    }
   ],
   "source": [
    "Ds_csv.isnull().sum()"
   ]
  },
  {
   "cell_type": "markdown",
   "id": "4458b93c-9675-4b50-9256-e7a3be49157b",
   "metadata": {},
   "source": [
    "  Data Cleaning"
   ]
  },
  {
   "cell_type": "code",
   "execution_count": 40,
   "id": "6ba7e1b0-9945-46cb-8c32-9ae47455f733",
   "metadata": {},
   "outputs": [
    {
     "data": {
      "text/html": [
       "<div>\n",
       "<style scoped>\n",
       "    .dataframe tbody tr th:only-of-type {\n",
       "        vertical-align: middle;\n",
       "    }\n",
       "\n",
       "    .dataframe tbody tr th {\n",
       "        vertical-align: top;\n",
       "    }\n",
       "\n",
       "    .dataframe thead th {\n",
       "        text-align: right;\n",
       "    }\n",
       "</style>\n",
       "<table border=\"1\" class=\"dataframe\">\n",
       "  <thead>\n",
       "    <tr style=\"text-align: right;\">\n",
       "      <th></th>\n",
       "      <th>Unnamed: 0</th>\n",
       "      <th>Name</th>\n",
       "      <th>Age</th>\n",
       "      <th>Salary</th>\n",
       "      <th>City</th>\n",
       "    </tr>\n",
       "  </thead>\n",
       "  <tbody>\n",
       "    <tr>\n",
       "      <th>0</th>\n",
       "      <td>0</td>\n",
       "      <td>Arun</td>\n",
       "      <td>25</td>\n",
       "      <td>50000</td>\n",
       "      <td>Faridabad</td>\n",
       "    </tr>\n",
       "    <tr>\n",
       "      <th>1</th>\n",
       "      <td>1</td>\n",
       "      <td>Dushyant</td>\n",
       "      <td>24</td>\n",
       "      <td>52000</td>\n",
       "      <td>Aligarh</td>\n",
       "    </tr>\n",
       "    <tr>\n",
       "      <th>2</th>\n",
       "      <td>2</td>\n",
       "      <td>Sadhvi</td>\n",
       "      <td>23</td>\n",
       "      <td>55000</td>\n",
       "      <td>Narungabad</td>\n",
       "    </tr>\n",
       "    <tr>\n",
       "      <th>3</th>\n",
       "      <td>3</td>\n",
       "      <td>Akash</td>\n",
       "      <td>26</td>\n",
       "      <td>32000</td>\n",
       "      <td>Nodia</td>\n",
       "    </tr>\n",
       "    <tr>\n",
       "      <th>4</th>\n",
       "      <td>4</td>\n",
       "      <td>karan</td>\n",
       "      <td>42</td>\n",
       "      <td>12000</td>\n",
       "      <td>Delhi</td>\n",
       "    </tr>\n",
       "  </tbody>\n",
       "</table>\n",
       "</div>"
      ],
      "text/plain": [
       "   Unnamed: 0      Name  Age  Salary        City\n",
       "0           0     Arun    25   50000   Faridabad\n",
       "1           1  Dushyant   24   52000     Aligarh\n",
       "2           2    Sadhvi   23   55000  Narungabad\n",
       "3           3     Akash   26   32000       Nodia\n",
       "4           4     karan   42   12000       Delhi"
      ]
     },
     "execution_count": 40,
     "metadata": {},
     "output_type": "execute_result"
    }
   ],
   "source": [
    "Ds_csv"
   ]
  },
  {
   "cell_type": "code",
   "execution_count": 42,
   "id": "fa6a1063-af16-43ef-a1cc-d8e762ff7431",
   "metadata": {},
   "outputs": [],
   "source": [
    "Ds_csv.drop(['Unnamed: 0'], axis=1, inplace=True)\n"
   ]
  },
  {
   "cell_type": "code",
   "execution_count": 44,
   "id": "489e1fec-f512-42a7-9fb1-1b95c5746a62",
   "metadata": {},
   "outputs": [
    {
     "data": {
      "text/html": [
       "<div>\n",
       "<style scoped>\n",
       "    .dataframe tbody tr th:only-of-type {\n",
       "        vertical-align: middle;\n",
       "    }\n",
       "\n",
       "    .dataframe tbody tr th {\n",
       "        vertical-align: top;\n",
       "    }\n",
       "\n",
       "    .dataframe thead th {\n",
       "        text-align: right;\n",
       "    }\n",
       "</style>\n",
       "<table border=\"1\" class=\"dataframe\">\n",
       "  <thead>\n",
       "    <tr style=\"text-align: right;\">\n",
       "      <th></th>\n",
       "      <th>Name</th>\n",
       "      <th>Age</th>\n",
       "      <th>Salary</th>\n",
       "      <th>City</th>\n",
       "    </tr>\n",
       "  </thead>\n",
       "  <tbody>\n",
       "    <tr>\n",
       "      <th>0</th>\n",
       "      <td>Arun</td>\n",
       "      <td>25</td>\n",
       "      <td>50000</td>\n",
       "      <td>Faridabad</td>\n",
       "    </tr>\n",
       "    <tr>\n",
       "      <th>1</th>\n",
       "      <td>Dushyant</td>\n",
       "      <td>24</td>\n",
       "      <td>52000</td>\n",
       "      <td>Aligarh</td>\n",
       "    </tr>\n",
       "    <tr>\n",
       "      <th>2</th>\n",
       "      <td>Sadhvi</td>\n",
       "      <td>23</td>\n",
       "      <td>55000</td>\n",
       "      <td>Narungabad</td>\n",
       "    </tr>\n",
       "    <tr>\n",
       "      <th>3</th>\n",
       "      <td>Akash</td>\n",
       "      <td>26</td>\n",
       "      <td>32000</td>\n",
       "      <td>Nodia</td>\n",
       "    </tr>\n",
       "    <tr>\n",
       "      <th>4</th>\n",
       "      <td>karan</td>\n",
       "      <td>42</td>\n",
       "      <td>12000</td>\n",
       "      <td>Delhi</td>\n",
       "    </tr>\n",
       "  </tbody>\n",
       "</table>\n",
       "</div>"
      ],
      "text/plain": [
       "       Name  Age  Salary        City\n",
       "0     Arun    25   50000   Faridabad\n",
       "1  Dushyant   24   52000     Aligarh\n",
       "2    Sadhvi   23   55000  Narungabad\n",
       "3     Akash   26   32000       Nodia\n",
       "4     karan   42   12000       Delhi"
      ]
     },
     "execution_count": 44,
     "metadata": {},
     "output_type": "execute_result"
    }
   ],
   "source": [
    "Ds_csv"
   ]
  },
  {
   "cell_type": "code",
   "execution_count": 46,
   "id": "1fb8ac6b-6e68-445b-ab91-f1b54a46f799",
   "metadata": {},
   "outputs": [],
   "source": [
    "import pandas as pd"
   ]
  },
  {
   "cell_type": "code",
   "execution_count": 48,
   "id": "11fd2b5d-9df4-4c72-8dca-8e3266e0b6f7",
   "metadata": {},
   "outputs": [],
   "source": [
    "data_list = [\n",
    "    ['Dushyant', 24, 19000,'Manik Choak'],\n",
    "    ['Sadhvi', 23, 35000,'Naurangabad'],\n",
    "    ['Mohit', 25, 10000,'Paala'],\n",
    "    ['Kiran', 22, 70000,'Agra'],\n",
    "    ['Mukul', 21, 20000,'Aligarh'],\n",
    "    ['Nandini', 20, 16000,'Spd']\n",
    "]\n",
    "DS = pd.DataFrame(data_list, columns=['Name', 'Age', 'Salary','City'])"
   ]
  },
  {
   "cell_type": "code",
   "execution_count": 50,
   "id": "d0169da8-52c6-44b9-98a7-b66efb842485",
   "metadata": {},
   "outputs": [
    {
     "data": {
      "text/html": [
       "<div>\n",
       "<style scoped>\n",
       "    .dataframe tbody tr th:only-of-type {\n",
       "        vertical-align: middle;\n",
       "    }\n",
       "\n",
       "    .dataframe tbody tr th {\n",
       "        vertical-align: top;\n",
       "    }\n",
       "\n",
       "    .dataframe thead th {\n",
       "        text-align: right;\n",
       "    }\n",
       "</style>\n",
       "<table border=\"1\" class=\"dataframe\">\n",
       "  <thead>\n",
       "    <tr style=\"text-align: right;\">\n",
       "      <th></th>\n",
       "      <th>Name</th>\n",
       "      <th>Age</th>\n",
       "      <th>Salary</th>\n",
       "      <th>City</th>\n",
       "    </tr>\n",
       "  </thead>\n",
       "  <tbody>\n",
       "    <tr>\n",
       "      <th>0</th>\n",
       "      <td>Dushyant</td>\n",
       "      <td>24</td>\n",
       "      <td>19000</td>\n",
       "      <td>Manik Choak</td>\n",
       "    </tr>\n",
       "    <tr>\n",
       "      <th>1</th>\n",
       "      <td>Sadhvi</td>\n",
       "      <td>23</td>\n",
       "      <td>35000</td>\n",
       "      <td>Naurangabad</td>\n",
       "    </tr>\n",
       "    <tr>\n",
       "      <th>2</th>\n",
       "      <td>Mohit</td>\n",
       "      <td>25</td>\n",
       "      <td>10000</td>\n",
       "      <td>Paala</td>\n",
       "    </tr>\n",
       "    <tr>\n",
       "      <th>3</th>\n",
       "      <td>Kiran</td>\n",
       "      <td>22</td>\n",
       "      <td>70000</td>\n",
       "      <td>Agra</td>\n",
       "    </tr>\n",
       "    <tr>\n",
       "      <th>4</th>\n",
       "      <td>Mukul</td>\n",
       "      <td>21</td>\n",
       "      <td>20000</td>\n",
       "      <td>Aligarh</td>\n",
       "    </tr>\n",
       "    <tr>\n",
       "      <th>5</th>\n",
       "      <td>Nandini</td>\n",
       "      <td>20</td>\n",
       "      <td>16000</td>\n",
       "      <td>Spd</td>\n",
       "    </tr>\n",
       "  </tbody>\n",
       "</table>\n",
       "</div>"
      ],
      "text/plain": [
       "       Name  Age  Salary         City\n",
       "0  Dushyant   24   19000  Manik Choak\n",
       "1    Sadhvi   23   35000  Naurangabad\n",
       "2     Mohit   25   10000        Paala\n",
       "3     Kiran   22   70000         Agra\n",
       "4     Mukul   21   20000      Aligarh\n",
       "5   Nandini   20   16000          Spd"
      ]
     },
     "execution_count": 50,
     "metadata": {},
     "output_type": "execute_result"
    }
   ],
   "source": [
    "DS"
   ]
  },
  {
   "cell_type": "code",
   "execution_count": 52,
   "id": "1e29abab-108c-4af3-9fa1-4443cc49bc4f",
   "metadata": {},
   "outputs": [],
   "source": [
    "# 1. Grouping by 'City' and summing the 'Salary'\n",
    "grouped_DS = DS.groupby('Name')['Salary'].sum()\n",
    " "
   ]
  },
  {
   "cell_type": "code",
   "execution_count": 58,
   "id": "67deeb1e-5fdc-4747-ad97-2bdf5cc24909",
   "metadata": {},
   "outputs": [
    {
     "ename": "AttributeError",
     "evalue": "'Series' object has no attribute 'pyplot'",
     "output_type": "error",
     "traceback": [
      "\u001b[1;31m---------------------------------------------------------------------------\u001b[0m",
      "\u001b[1;31mAttributeError\u001b[0m                            Traceback (most recent call last)",
      "\u001b[1;32m~\\AppData\\Local\\Temp\\ipykernel_11012\\3502068804.py\u001b[0m in \u001b[0;36m?\u001b[1;34m()\u001b[0m\n\u001b[1;32m----> 1\u001b[1;33m \u001b[0mgrouped_DS\u001b[0m \u001b[1;33m=\u001b[0m \u001b[0mDS\u001b[0m\u001b[1;33m.\u001b[0m\u001b[0mgroupby\u001b[0m\u001b[1;33m(\u001b[0m\u001b[1;34m'Name'\u001b[0m\u001b[1;33m)\u001b[0m\u001b[1;33m[\u001b[0m\u001b[1;34m'Salary'\u001b[0m\u001b[1;33m]\u001b[0m\u001b[1;33m.\u001b[0m\u001b[0msum\u001b[0m\u001b[1;33m(\u001b[0m\u001b[1;33m)\u001b[0m\u001b[1;33m.\u001b[0m\u001b[0mpyplot\u001b[0m\u001b[1;33m(\u001b[0m\u001b[0mkind\u001b[0m\u001b[1;33m=\u001b[0m\u001b[1;34m'bar'\u001b[0m\u001b[1;33m)\u001b[0m\u001b[1;33m\u001b[0m\u001b[1;33m\u001b[0m\u001b[0m\n\u001b[0m",
      "\u001b[1;32m~\\anaconda3\\Lib\\site-packages\\pandas\\core\\generic.py\u001b[0m in \u001b[0;36m?\u001b[1;34m(self, name)\u001b[0m\n\u001b[0;32m   6295\u001b[0m             \u001b[1;32mand\u001b[0m \u001b[0mname\u001b[0m \u001b[1;32mnot\u001b[0m \u001b[1;32min\u001b[0m \u001b[0mself\u001b[0m\u001b[1;33m.\u001b[0m\u001b[0m_accessors\u001b[0m\u001b[1;33m\u001b[0m\u001b[1;33m\u001b[0m\u001b[0m\n\u001b[0;32m   6296\u001b[0m             \u001b[1;32mand\u001b[0m \u001b[0mself\u001b[0m\u001b[1;33m.\u001b[0m\u001b[0m_info_axis\u001b[0m\u001b[1;33m.\u001b[0m\u001b[0m_can_hold_identifiers_and_holds_name\u001b[0m\u001b[1;33m(\u001b[0m\u001b[0mname\u001b[0m\u001b[1;33m)\u001b[0m\u001b[1;33m\u001b[0m\u001b[1;33m\u001b[0m\u001b[0m\n\u001b[0;32m   6297\u001b[0m         \u001b[1;33m)\u001b[0m\u001b[1;33m:\u001b[0m\u001b[1;33m\u001b[0m\u001b[1;33m\u001b[0m\u001b[0m\n\u001b[0;32m   6298\u001b[0m             \u001b[1;32mreturn\u001b[0m \u001b[0mself\u001b[0m\u001b[1;33m[\u001b[0m\u001b[0mname\u001b[0m\u001b[1;33m]\u001b[0m\u001b[1;33m\u001b[0m\u001b[1;33m\u001b[0m\u001b[0m\n\u001b[1;32m-> 6299\u001b[1;33m         \u001b[1;32mreturn\u001b[0m \u001b[0mobject\u001b[0m\u001b[1;33m.\u001b[0m\u001b[0m__getattribute__\u001b[0m\u001b[1;33m(\u001b[0m\u001b[0mself\u001b[0m\u001b[1;33m,\u001b[0m \u001b[0mname\u001b[0m\u001b[1;33m)\u001b[0m\u001b[1;33m\u001b[0m\u001b[1;33m\u001b[0m\u001b[0m\n\u001b[0m",
      "\u001b[1;31mAttributeError\u001b[0m: 'Series' object has no attribute 'pyplot'"
     ]
    }
   ],
   "source": [
    "grouped_DS = DS.groupby('Name')['Salary'].sum().pyplot(kind='bar') "
   ]
  },
  {
   "cell_type": "code",
   "execution_count": 128,
   "id": "753ae322-a4bd-4b3f-8201-d9a7e6915146",
   "metadata": {},
   "outputs": [
    {
     "data": {
      "text/plain": [
       "Name\n",
       "Dushyant    19000\n",
       "Kiran       70000\n",
       "Mohit       10000\n",
       "Mukul       20000\n",
       "Nandini     16000\n",
       "Sadhvi      35000\n",
       "Name: Salary, dtype: int64"
      ]
     },
     "execution_count": 128,
     "metadata": {},
     "output_type": "execute_result"
    }
   ],
   "source": [
    "grouped_DS "
   ]
  },
  {
   "cell_type": "code",
   "execution_count": null,
   "id": "b6c637c8-02c3-4d4c-af6c-3e9f1ee6aa11",
   "metadata": {},
   "outputs": [],
   "source": []
  }
 ],
 "metadata": {
  "kernelspec": {
   "display_name": "Python 3 (ipykernel)",
   "language": "python",
   "name": "python3"
  },
  "language_info": {
   "codemirror_mode": {
    "name": "ipython",
    "version": 3
   },
   "file_extension": ".py",
   "mimetype": "text/x-python",
   "name": "python",
   "nbconvert_exporter": "python",
   "pygments_lexer": "ipython3",
   "version": "3.12.7"
  }
 },
 "nbformat": 4,
 "nbformat_minor": 5
}
