{
 "cells": [
  {
   "cell_type": "markdown",
   "id": "8555414f-be28-4c1b-952c-d6858437b94f",
   "metadata": {},
   "source": [
    "Print Function"
   ]
  },
  {
   "cell_type": "code",
   "execution_count": 2,
   "id": "b6bf557d-4420-40b0-a122-4835b155f479",
   "metadata": {},
   "outputs": [
    {
     "name": "stdout",
     "output_type": "stream",
     "text": [
      "\n"
     ]
    }
   ],
   "source": [
    "print()"
   ]
  },
  {
   "cell_type": "code",
   "execution_count": 4,
   "id": "60238221-d5b8-45e6-b3f9-81489cf82c6f",
   "metadata": {},
   "outputs": [
    {
     "name": "stdout",
     "output_type": "stream",
     "text": [
      "1.5\n"
     ]
    }
   ],
   "source": [
    "print(1.5)"
   ]
  },
  {
   "cell_type": "code",
   "execution_count": 8,
   "id": "961eb97e-c917-4273-b23d-13589f0221d9",
   "metadata": {},
   "outputs": [
    {
     "name": "stdout",
     "output_type": "stream",
     "text": [
      "ram 2.2 1 False\n"
     ]
    }
   ],
   "source": [
    "print('ram',2.2,1,False)"
   ]
  },
  {
   "cell_type": "code",
   "execution_count": 20,
   "id": "096c6931-5eb6-4086-8c34-4ebe59008642",
   "metadata": {},
   "outputs": [
    {
     "name": "stdout",
     "output_type": "stream",
     "text": [
      "ram is=gong=market\n"
     ]
    }
   ],
   "source": [
    "print('ram is', 'gong',\"market\",sep=\"=\")"
   ]
  },
  {
   "cell_type": "code",
   "execution_count": 28,
   "id": "ce91b10d-f16d-42ee-92d7-4ae740d0d78c",
   "metadata": {},
   "outputs": [
    {
     "name": "stdout",
     "output_type": "stream",
     "text": [
      "helloworld\n"
     ]
    }
   ],
   "source": [
    "print('hello',end='')\n",
    "print('world')"
   ]
  },
  {
   "cell_type": "code",
   "execution_count": 30,
   "id": "230fecca-10fb-4930-b61f-ac14094a181e",
   "metadata": {},
   "outputs": [
    {
     "name": "stdout",
     "output_type": "stream",
     "text": [
      "[1, 2, 3]\n"
     ]
    }
   ],
   "source": [
    "print([1,2,3])"
   ]
  },
  {
   "cell_type": "markdown",
   "id": "9e29b05c-5b05-4868-8268-a16dcedf0822",
   "metadata": {},
   "source": [
    "variable"
   ]
  },
  {
   "cell_type": "code",
   "execution_count": 33,
   "id": "92e241df-63de-4458-8ff2-f995bb4c2bd2",
   "metadata": {},
   "outputs": [],
   "source": [
    "#c int a = 1\n",
    "a = 1"
   ]
  },
  {
   "cell_type": "code",
   "execution_count": 35,
   "id": "81fe28af-54d7-4053-a039-e79eb1d44e44",
   "metadata": {},
   "outputs": [
    {
     "data": {
      "text/plain": [
       "1"
      ]
     },
     "execution_count": 35,
     "metadata": {},
     "output_type": "execute_result"
    }
   ],
   "source": [
    "a"
   ]
  },
  {
   "cell_type": "code",
   "execution_count": 37,
   "id": "21f6337c-1bcc-457b-8c92-5333505d559b",
   "metadata": {},
   "outputs": [
    {
     "data": {
      "text/plain": [
       "int"
      ]
     },
     "execution_count": 37,
     "metadata": {},
     "output_type": "execute_result"
    }
   ],
   "source": [
    "type(a)"
   ]
  },
  {
   "cell_type": "markdown",
   "id": "525cbb14-fe42-4e7c-b11e-e050b16b0651",
   "metadata": {},
   "source": [
    "datatype"
   ]
  },
  {
   "cell_type": "raw",
   "id": "2d4cae4f-c95c-4f3a-95e9-c9358550f9ce",
   "metadata": {},
   "source": [
    "#basic datatpe-int,float,straing,boolean,complex\n",
    "#container datatype-list,tuple,dict,set\n",
    "#user defined - object"
   ]
  },
  {
   "cell_type": "code",
   "execution_count": 45,
   "id": "eb2fa021-c8a7-417b-a386-66664c433f14",
   "metadata": {},
   "outputs": [
    {
     "name": "stdout",
     "output_type": "stream",
     "text": [
      "1\n",
      "<class 'int'>\n"
     ]
    }
   ],
   "source": [
    "a = 1\n",
    "print(a)\n",
    "print(type(a))"
   ]
  },
  {
   "cell_type": "code",
   "execution_count": 47,
   "id": "fe9aa8fe-39a2-40d8-94da-f73fb42af08a",
   "metadata": {},
   "outputs": [
    {
     "name": "stdout",
     "output_type": "stream",
     "text": [
      "1.0\n",
      "<class 'float'>\n"
     ]
    }
   ],
   "source": [
    "a = 1.0\n",
    "print(a)\n",
    "print(type(a))"
   ]
  },
  {
   "cell_type": "code",
   "execution_count": 49,
   "id": "3ec5a073-64b8-4a8d-9cce-ea5a6cfcafc9",
   "metadata": {},
   "outputs": [
    {
     "name": "stdout",
     "output_type": "stream",
     "text": [
      "(1+4j)\n",
      "<class 'complex'>\n"
     ]
    }
   ],
   "source": [
    "a = 1+4j\n",
    "print(a)\n",
    "print(type(a))"
   ]
  },
  {
   "cell_type": "code",
   "execution_count": 51,
   "id": "3b945c4e-e3dd-4946-8187-bc67ec9bec0e",
   "metadata": {},
   "outputs": [
    {
     "name": "stdout",
     "output_type": "stream",
     "text": [
      "False\n",
      "<class 'bool'>\n"
     ]
    }
   ],
   "source": [
    "a = False\n",
    "print(a)\n",
    "print(type(a))"
   ]
  },
  {
   "cell_type": "code",
   "execution_count": 53,
   "id": "32ee775f-2808-4230-9c98-ba91a771afeb",
   "metadata": {},
   "outputs": [
    {
     "name": "stdout",
     "output_type": "stream",
     "text": [
      "ram\n",
      "<class 'str'>\n"
     ]
    }
   ],
   "source": [
    "a = 'ram'\n",
    "print(a)\n",
    "print(type(a))"
   ]
  },
  {
   "cell_type": "code",
   "execution_count": 55,
   "id": "7d3f3bdc-bbe1-46fd-ab76-251153f63ee2",
   "metadata": {},
   "outputs": [
    {
     "data": {
      "text/plain": [
       "2"
      ]
     },
     "execution_count": 55,
     "metadata": {},
     "output_type": "execute_result"
    }
   ],
   "source": [
    "True+True#1+1"
   ]
  },
  {
   "cell_type": "code",
   "execution_count": 57,
   "id": "3b70c02a-3263-41cf-95e5-fe3b9e3fddf9",
   "metadata": {},
   "outputs": [
    {
     "data": {
      "text/plain": [
       "1"
      ]
     },
     "execution_count": 57,
     "metadata": {},
     "output_type": "execute_result"
    }
   ],
   "source": [
    "True+False#1+0"
   ]
  },
  {
   "cell_type": "code",
   "execution_count": 59,
   "id": "ee985588-69ef-44cb-8f02-9ee7ec2897fb",
   "metadata": {},
   "outputs": [
    {
     "data": {
      "text/plain": [
       "0"
      ]
     },
     "execution_count": 59,
     "metadata": {},
     "output_type": "execute_result"
    }
   ],
   "source": [
    "False+False"
   ]
  },
  {
   "cell_type": "raw",
   "id": "608c9c39-57e2-4614-bfc1-a8ad2dd0a2fe",
   "metadata": {},
   "source": [
    "#indentation\n",
    "#keywords"
   ]
  },
  {
   "cell_type": "code",
   "execution_count": 67,
   "id": "8a002a2c-06f6-4600-8b7e-0999a6835b5d",
   "metadata": {},
   "outputs": [
    {
     "name": "stdout",
     "output_type": "stream",
     "text": [
      "0\n",
      "1\n",
      "2\n",
      "3\n",
      "4\n",
      "5\n",
      "6\n",
      "7\n",
      "8\n",
      "9\n"
     ]
    }
   ],
   "source": [
    "for i in range(10):\n",
    "    print(i)  "
   ]
  },
  {
   "cell_type": "code",
   "execution_count": 75,
   "id": "1aba2259-be68-4c96-ada9-93cb296a3045",
   "metadata": {},
   "outputs": [
    {
     "name": "stdout",
     "output_type": "stream",
     "text": [
      "['False', 'None', 'True', 'and', 'as', 'assert', 'async', 'await', 'break', 'class', 'continue', 'def', 'del', 'elif', 'else', 'except', 'finally', 'for', 'from', 'global', 'if', 'import', 'in', 'is', 'lambda', 'nonlocal', 'not', 'or', 'pass', 'raise', 'return', 'try', 'while', 'with', 'yield']\n"
     ]
    }
   ],
   "source": [
    "import keyword\n",
    "print(keyword.kwlist)\n"
   ]
  },
  {
   "cell_type": "code",
   "execution_count": null,
   "id": "cfc8ce6b-35c0-479c-b664-02ed7ad16690",
   "metadata": {},
   "outputs": [],
   "source": [
    "print(keyword.kwlist)"
   ]
  },
  {
   "cell_type": "code",
   "execution_count": 77,
   "id": "aaf65cac-5091-4b9e-82f2-d137fa4737f2",
   "metadata": {},
   "outputs": [
    {
     "data": {
      "text/plain": [
       "35"
      ]
     },
     "execution_count": 77,
     "metadata": {},
     "output_type": "execute_result"
    }
   ],
   "source": [
    "len(keyword.kwlist)"
   ]
  },
  {
   "cell_type": "code",
   "execution_count": 81,
   "id": "74d95942-aa58-43cb-8e73-b86d91851a74",
   "metadata": {},
   "outputs": [
    {
     "ename": "SyntaxError",
     "evalue": "cannot assign to literal here. Maybe you meant '==' instead of '='? (690299106.py, line 1)",
     "output_type": "error",
     "traceback": [
      "\u001b[1;36m  Cell \u001b[1;32mIn[81], line 1\u001b[1;36m\u001b[0m\n\u001b[1;33m    1 ='ram'\u001b[0m\n\u001b[1;37m    ^\u001b[0m\n\u001b[1;31mSyntaxError\u001b[0m\u001b[1;31m:\u001b[0m cannot assign to literal here. Maybe you meant '==' instead of '='?\n"
     ]
    }
   ],
   "source": [
    "1 ='ram'"
   ]
  },
  {
   "cell_type": "code",
   "execution_count": 83,
   "id": "899cf66d-2355-4f69-b55d-9256a220d993",
   "metadata": {},
   "outputs": [
    {
     "data": {
      "text/plain": [
       "2.0"
      ]
     },
     "execution_count": 83,
     "metadata": {},
     "output_type": "execute_result"
    }
   ],
   "source": [
    "import math\n",
    "math.sqrt(4)"
   ]
  },
  {
   "cell_type": "code",
   "execution_count": 85,
   "id": "414cc747-5a30-4c7a-85fe-480d08f909df",
   "metadata": {},
   "outputs": [],
   "source": [
    "from math import sqrt"
   ]
  },
  {
   "cell_type": "code",
   "execution_count": 87,
   "id": "9616bc6c-4b49-41ae-a4aa-c92ca255ea62",
   "metadata": {},
   "outputs": [
    {
     "data": {
      "text/plain": [
       "2.0"
      ]
     },
     "execution_count": 87,
     "metadata": {},
     "output_type": "execute_result"
    }
   ],
   "source": [
    "sqrt(4)"
   ]
  },
  {
   "cell_type": "code",
   "execution_count": 89,
   "id": "52782309-7df9-4061-965a-582b367c4d96",
   "metadata": {},
   "outputs": [],
   "source": [
    "from math import *"
   ]
  },
  {
   "cell_type": "code",
   "execution_count": 91,
   "id": "f7553768-c554-4450-a970-c1ffa4d0a1dc",
   "metadata": {},
   "outputs": [
    {
     "data": {
      "text/plain": [
       "2.0"
      ]
     },
     "execution_count": 91,
     "metadata": {},
     "output_type": "execute_result"
    }
   ],
   "source": [
    "sqrt(4)"
   ]
  },
  {
   "cell_type": "raw",
   "id": "76ce76b7-1a5f-4618-9c88-9d40cf70ecf5",
   "metadata": {},
   "source": [
    "#comment"
   ]
  },
  {
   "cell_type": "code",
   "execution_count": 95,
   "id": "752a46a0-22a4-41eb-9f49-47b367d19ee8",
   "metadata": {},
   "outputs": [],
   "source": [
    "#1"
   ]
  },
  {
   "cell_type": "code",
   "execution_count": 97,
   "id": "b81e132d-66d6-453f-8128-86b528925948",
   "metadata": {},
   "outputs": [],
   "source": [
    "a =2"
   ]
  },
  {
   "cell_type": "code",
   "execution_count": 99,
   "id": "9f0071ee-e8a6-45b2-82f4-ab44751dcd88",
   "metadata": {},
   "outputs": [
    {
     "data": {
      "text/plain": [
       "int"
      ]
     },
     "execution_count": 99,
     "metadata": {},
     "output_type": "execute_result"
    }
   ],
   "source": [
    "type(a)"
   ]
  },
  {
   "cell_type": "code",
   "execution_count": 101,
   "id": "e0b3478b-bf24-4a74-bf6b-a83f4077999c",
   "metadata": {},
   "outputs": [],
   "source": [
    "#range"
   ]
  },
  {
   "cell_type": "code",
   "execution_count": 103,
   "id": "5b0a0739-db2e-48d8-9980-0523c74c6443",
   "metadata": {},
   "outputs": [
    {
     "name": "stdout",
     "output_type": "stream",
     "text": [
      "0\n",
      "1\n",
      "2\n",
      "3\n",
      "4\n",
      "5\n",
      "6\n",
      "7\n",
      "8\n",
      "9\n"
     ]
    }
   ],
   "source": [
    "for i in range(10):\n",
    "    print(i)\n"
   ]
  },
  {
   "cell_type": "code",
   "execution_count": 105,
   "id": "808be8bb-ed38-475f-9554-d8422dbcfa87",
   "metadata": {},
   "outputs": [],
   "source": [
    "#start value,end value excluded,step size)"
   ]
  },
  {
   "cell_type": "code",
   "execution_count": 107,
   "id": "3814de70-6675-44bd-82c6-d66bba1cfa0e",
   "metadata": {},
   "outputs": [
    {
     "name": "stdout",
     "output_type": "stream",
     "text": [
      "2\n",
      "4\n",
      "6\n",
      "8\n",
      "10\n",
      "12\n",
      "14\n",
      "16\n",
      "18\n",
      "20\n"
     ]
    }
   ],
   "source": [
    "for i in range(2,21,2):\n",
    "    print(i)"
   ]
  },
  {
   "cell_type": "code",
   "execution_count": 109,
   "id": "a06b5160-07b4-4a32-b89d-3afbbebf9561",
   "metadata": {},
   "outputs": [
    {
     "name": "stdout",
     "output_type": "stream",
     "text": [
      "2\n",
      "5\n",
      "8\n",
      "11\n",
      "14\n",
      "17\n",
      "20\n"
     ]
    }
   ],
   "source": [
    "for i in range(2,21,3):\n",
    "    print(i)"
   ]
  },
  {
   "cell_type": "code",
   "execution_count": 111,
   "id": "ddd8b5da-d52e-41db-a037-19966e0858ed",
   "metadata": {},
   "outputs": [],
   "source": [
    "a = [1,2,3]#sequence ,list,string,dict"
   ]
  },
  {
   "cell_type": "code",
   "execution_count": 113,
   "id": "6c84faa5-7463-4775-9644-810c840754fd",
   "metadata": {},
   "outputs": [
    {
     "name": "stdout",
     "output_type": "stream",
     "text": [
      "1\n",
      "2\n",
      "3\n"
     ]
    }
   ],
   "source": [
    "for i in a:\n",
    "    print(i)"
   ]
  },
  {
   "cell_type": "code",
   "execution_count": 127,
   "id": "7ed8f043-9877-4b45-968c-e5fe1fae60a9",
   "metadata": {},
   "outputs": [],
   "source": [
    "for i in range(2,21,3):\n",
    "    print(i)"
   ]
  },
  {
   "cell_type": "code",
   "execution_count": 119,
   "id": "36dafef3-8cdf-424e-924f-f05cde434bd0",
   "metadata": {},
   "outputs": [
    {
     "name": "stdout",
     "output_type": "stream",
     "text": [
      "apple\n",
      "mango\n",
      "graps\n"
     ]
    }
   ],
   "source": [
    "for i in a:\n",
    "    if i=='banana':\n",
    "        break\n",
    "    print(i)"
   ]
  },
  {
   "cell_type": "code",
   "execution_count": 131,
   "id": "fc02800e-9ef3-485d-a624-cb3cb079ce27",
   "metadata": {},
   "outputs": [
    {
     "name": "stdout",
     "output_type": "stream",
     "text": [
      "apple\n",
      "mango\n",
      "banana\n",
      "papaya\n"
     ]
    }
   ],
   "source": [
    "for i in a:\n",
    "    if i == 'graps':\n",
    "        continue\n",
    "    print(i)\n"
   ]
  },
  {
   "cell_type": "code",
   "execution_count": 1,
   "id": "dd6cb32a-eaf2-4ad4-978f-3b140ae7bcd0",
   "metadata": {},
   "outputs": [],
   "source": [
    "#contaol syate\n"
   ]
  },
  {
   "cell_type": "code",
   "execution_count": 9,
   "id": "915f5242-1825-49e7-9a42-cffdb440e34d",
   "metadata": {},
   "outputs": [
    {
     "name": "stdout",
     "output_type": "stream",
     "text": [
      "no\n"
     ]
    }
   ],
   "source": [
    "a = 2\n",
    "if a==3:\n",
    "    print('arun')\n",
    "else :\n",
    "    print('no')"
   ]
  },
  {
   "cell_type": "code",
   "execution_count": null,
   "id": "8a9322ad-7ecd-4eec-9104-04ab322c4174",
   "metadata": {},
   "outputs": [],
   "source": []
  }
 ],
 "metadata": {
  "kernelspec": {
   "display_name": "Python [conda env:base] *",
   "language": "python",
   "name": "conda-base-py"
  },
  "language_info": {
   "codemirror_mode": {
    "name": "ipython",
    "version": 3
   },
   "file_extension": ".py",
   "mimetype": "text/x-python",
   "name": "python",
   "nbconvert_exporter": "python",
   "pygments_lexer": "ipython3",
   "version": "3.12.7"
  }
 },
 "nbformat": 4,
 "nbformat_minor": 5
}
