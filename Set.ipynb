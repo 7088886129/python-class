{
 "cells": [
  {
   "cell_type": "markdown",
   "id": "da150ecc-0c12-4efe-8db7-3e832d6a27ed",
   "metadata": {},
   "source": [
    "set"
   ]
  },
  {
   "cell_type": "raw",
   "id": "15f18cbf-b3df-4550-a5c5-0db17128f0a8",
   "metadata": {},
   "source": [
    "my_set = {1, 2, 3, 4, 5, 6, 7, 8, 9, 10}\n",
    "\n",
    "# Questions about the set\n",
    "#questions = [\n",
    "    \"1. What is the length of the set?\",\n",
    "    \"2. How can you check if 5 is in the set?\",\n",
    "    \"3. How can you add the element 11 to the set?\",\n",
    "    \"4. How can you remove the element 4 from the set?\",\n",
    "    \"5. How can you find the union of this set with another set {11, 12, 13}?\",\n",
    "    \"6. How can you find the intersection with another set {5, 6, 12}?\",\n",
    "    \"7. How can you find the difference from another set {5, 6, 12}?\",\n",
    "    \"8. How can you clear all elements from the set?\",\n",
    "    \"9. How can you check if the set is empty after clearing it?\",\n",
    "    \"10. How can you convert the set to a list?\""
   ]
  },
  {
   "cell_type": "code",
   "execution_count": 18,
   "id": "52261d21-be1d-4337-b7c1-a94045a9d256",
   "metadata": {},
   "outputs": [
    {
     "data": {
      "text/plain": [
       "10"
      ]
     },
     "execution_count": 18,
     "metadata": {},
     "output_type": "execute_result"
    }
   ],
   "source": [
    "len(my_set)"
   ]
  },
  {
   "cell_type": "markdown",
   "id": "b81baa0a-c808-465f-97ad-f00545ce9baf",
   "metadata": {},
   "source": [
    "my_set = {1, 2, 3, 4, 5, 6, 7, 8, 9, 10}"
   ]
  },
  {
   "cell_type": "code",
   "execution_count": 20,
   "id": "540b9708-560a-48f3-a131-f9e17883f76b",
   "metadata": {},
   "outputs": [
    {
     "data": {
      "text/plain": [
       "True"
      ]
     },
     "execution_count": 20,
     "metadata": {},
     "output_type": "execute_result"
    }
   ],
   "source": [
    "5 in my_set"
   ]
  },
  {
   "cell_type": "code",
   "execution_count": 24,
   "id": "954835d8-263e-4409-86d4-dacff4f4c6d1",
   "metadata": {},
   "outputs": [],
   "source": [
    "my_set.add(11)"
   ]
  },
  {
   "cell_type": "code",
   "execution_count": 26,
   "id": "04056652-cbb8-4310-b3a0-8653c4eb5bad",
   "metadata": {},
   "outputs": [
    {
     "data": {
      "text/plain": [
       "{1, 2, 3, 4, 5, 6, 7, 8, 9, 10, 11}"
      ]
     },
     "execution_count": 26,
     "metadata": {},
     "output_type": "execute_result"
    }
   ],
   "source": [
    "my_set"
   ]
  },
  {
   "cell_type": "code",
   "execution_count": 28,
   "id": "c4d811d8-76e0-4c42-b933-e5660b690e9c",
   "metadata": {},
   "outputs": [],
   "source": [
    "my_set.remove(4)"
   ]
  },
  {
   "cell_type": "code",
   "execution_count": 30,
   "id": "370b35b2-af12-4c84-a134-7f11c6563e27",
   "metadata": {},
   "outputs": [
    {
     "data": {
      "text/plain": [
       "{1, 2, 3, 5, 6, 7, 8, 9, 10, 11}"
      ]
     },
     "execution_count": 30,
     "metadata": {},
     "output_type": "execute_result"
    }
   ],
   "source": [
    "my_set"
   ]
  },
  {
   "cell_type": "code",
   "execution_count": 32,
   "id": "35e11766-ea98-4978-b401-34d0f869f892",
   "metadata": {},
   "outputs": [
    {
     "data": {
      "text/plain": [
       "{1, 2, 3, 5, 6, 7, 8, 9, 10, 11, 12, 13}"
      ]
     },
     "execution_count": 32,
     "metadata": {},
     "output_type": "execute_result"
    }
   ],
   "source": [
    "my_set.union({11, 12, 13})"
   ]
  },
  {
   "cell_type": "code",
   "execution_count": 34,
   "id": "157c0c42-ce11-4a0b-9169-840034fcce71",
   "metadata": {},
   "outputs": [
    {
     "data": {
      "text/plain": [
       "{5, 6}"
      ]
     },
     "execution_count": 34,
     "metadata": {},
     "output_type": "execute_result"
    }
   ],
   "source": [
    "my_set.intersection({5, 6, 12})"
   ]
  },
  {
   "cell_type": "code",
   "execution_count": 36,
   "id": "8dfb13a3-e5b3-42a1-aaa5-f966be2a0067",
   "metadata": {},
   "outputs": [
    {
     "data": {
      "text/plain": [
       "{1, 2, 3, 5, 6, 7, 8, 9, 10, 11}"
      ]
     },
     "execution_count": 36,
     "metadata": {},
     "output_type": "execute_result"
    }
   ],
   "source": [
    "my_set"
   ]
  },
  {
   "cell_type": "code",
   "execution_count": 38,
   "id": "161ff845-614f-43f7-b67f-a892a26deb38",
   "metadata": {},
   "outputs": [
    {
     "data": {
      "text/plain": [
       "{1, 2, 3, 7, 8, 9, 10, 11}"
      ]
     },
     "execution_count": 38,
     "metadata": {},
     "output_type": "execute_result"
    }
   ],
   "source": [
    "my_set.difference({5, 6, 12})"
   ]
  },
  {
   "cell_type": "code",
   "execution_count": 40,
   "id": "3c8515e9-0ec9-4aca-86b8-c472bf3b3989",
   "metadata": {},
   "outputs": [
    {
     "data": {
      "text/plain": [
       "{1, 2, 3, 5, 6, 7, 8, 9, 10, 11}"
      ]
     },
     "execution_count": 40,
     "metadata": {},
     "output_type": "execute_result"
    }
   ],
   "source": [
    "my_set"
   ]
  },
  {
   "cell_type": "code",
   "execution_count": 42,
   "id": "60b0171e-ce57-4aba-b61b-916494f6c417",
   "metadata": {},
   "outputs": [],
   "source": [
    "my_set.clear()"
   ]
  },
  {
   "cell_type": "code",
   "execution_count": 44,
   "id": "e66ffc35-de06-4bee-bb8e-ab47b9dfc5bd",
   "metadata": {},
   "outputs": [
    {
     "data": {
      "text/plain": [
       "set()"
      ]
     },
     "execution_count": 44,
     "metadata": {},
     "output_type": "execute_result"
    }
   ],
   "source": [
    "my_set"
   ]
  },
  {
   "cell_type": "code",
   "execution_count": 58,
   "id": "ee1fa77a-d45f-4525-86f0-88a9271459f6",
   "metadata": {},
   "outputs": [],
   "source": [
    "my_set = {1, 2, 3, 4, 5, 6, 7, 8, 9, 10}"
   ]
  },
  {
   "cell_type": "code",
   "execution_count": 48,
   "id": "75477c06-37c6-48ee-ac04-95edf7b7c13f",
   "metadata": {},
   "outputs": [
    {
     "data": {
      "text/plain": [
       "{1, 2, 3, 4, 5, 6, 7, 8, 9, 10}"
      ]
     },
     "execution_count": 48,
     "metadata": {},
     "output_type": "execute_result"
    }
   ],
   "source": [
    "my_set"
   ]
  },
  {
   "cell_type": "code",
   "execution_count": 50,
   "id": "01db68fe-e3c7-4428-8b3a-e2ee4ece4ab4",
   "metadata": {},
   "outputs": [],
   "source": [
    "a=list(my_set)"
   ]
  },
  {
   "cell_type": "code",
   "execution_count": 52,
   "id": "b2809e1a-4b5b-4bd3-a2b6-91b7e17a4d88",
   "metadata": {},
   "outputs": [
    {
     "data": {
      "text/plain": [
       "[1, 2, 3, 4, 5, 6, 7, 8, 9, 10]"
      ]
     },
     "execution_count": 52,
     "metadata": {},
     "output_type": "execute_result"
    }
   ],
   "source": [
    "a"
   ]
  },
  {
   "cell_type": "code",
   "execution_count": 54,
   "id": "e8fad619-637a-4d1a-b885-9a37b1be906e",
   "metadata": {},
   "outputs": [],
   "source": [
    "b={1,2,2,3,4,5,5}"
   ]
  },
  {
   "cell_type": "code",
   "execution_count": 56,
   "id": "8c92076b-ff31-46ea-8339-338965abd7db",
   "metadata": {},
   "outputs": [
    {
     "data": {
      "text/plain": [
       "{1, 2, 3, 4, 5}"
      ]
     },
     "execution_count": 56,
     "metadata": {},
     "output_type": "execute_result"
    }
   ],
   "source": [
    "b"
   ]
  },
  {
   "cell_type": "code",
   "execution_count": null,
   "id": "afd34259-88b3-4ff3-9181-45bf73ddeabb",
   "metadata": {},
   "outputs": [],
   "source": []
  }
 ],
 "metadata": {
  "kernelspec": {
   "display_name": "Python [conda env:base] *",
   "language": "python",
   "name": "conda-base-py"
  },
  "language_info": {
   "codemirror_mode": {
    "name": "ipython",
    "version": 3
   },
   "file_extension": ".py",
   "mimetype": "text/x-python",
   "name": "python",
   "nbconvert_exporter": "python",
   "pygments_lexer": "ipython3",
   "version": "3.12.7"
  }
 },
 "nbformat": 4,
 "nbformat_minor": 5
}
