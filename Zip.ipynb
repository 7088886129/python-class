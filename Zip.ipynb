{
 "cells": [
  {
   "cell_type": "code",
   "execution_count": 5,
   "id": "20e6d845-70e6-4ed6-8dce-5626a859da47",
   "metadata": {},
   "outputs": [],
   "source": [
    "list1=['a','b','c']\n",
    "list2=[1,2,3]\n",
    "\n"
   ]
  },
  {
   "cell_type": "code",
   "execution_count": 13,
   "id": "649784d2-b089-44ee-905a-5b3f1334a099",
   "metadata": {},
   "outputs": [
    {
     "name": "stdout",
     "output_type": "stream",
     "text": [
      "[('a', 1), ('b', 2), ('c', 3)]\n"
     ]
    }
   ],
   "source": [
    "zipped = zip(list1, list2)\n",
    "print(list(zipped))"
   ]
  },
  {
   "cell_type": "code",
   "execution_count": 15,
   "id": "1cf11bf7-9012-4970-bcde-4504fa9e1d82",
   "metadata": {},
   "outputs": [],
   "source": [
    "list1=['apple','mango','papaya']\n",
    "list2=[3,4,5]"
   ]
  },
  {
   "cell_type": "code",
   "execution_count": 17,
   "id": "61ea83f8-9ab7-46df-91b2-3735a7c57ffa",
   "metadata": {},
   "outputs": [
    {
     "name": "stdout",
     "output_type": "stream",
     "text": [
      "[('apple', 3), ('mango', 4), ('papaya', 5)]\n"
     ]
    }
   ],
   "source": [
    "zipped=zip(list1,list2)\n",
    "print(list(zipped))"
   ]
  },
  {
   "cell_type": "code",
   "execution_count": 19,
   "id": "79524a6f-a21e-4e9d-b7c5-dee03c5d46d7",
   "metadata": {},
   "outputs": [],
   "source": [
    "list3=['sunday','monday','tuesday','wednesday','thuesday','friday','satuarday']\n",
    "list4=[1,2,3,4,5,6]\n"
   ]
  },
  {
   "cell_type": "code",
   "execution_count": 23,
   "id": "d4d145c7-252b-41a8-b79a-59ca107d9a92",
   "metadata": {},
   "outputs": [
    {
     "name": "stdout",
     "output_type": "stream",
     "text": [
      "[('sunday', 1), ('monday', 2), ('tuesday', 3), ('wednesday', 4), ('thuesday', 5), ('friday', 6)]\n"
     ]
    }
   ],
   "source": [
    "zipped=zip(list3,list4)\n",
    "print(list(zipped))"
   ]
  },
  {
   "cell_type": "code",
   "execution_count": 1,
   "id": "fbe75298-2903-4ec2-8c01-fa854fd1fa3e",
   "metadata": {},
   "outputs": [],
   "source": [
    "list1=['Dushyant','Saini','Sadhvi','Sharma']\n",
    "list2=[1,2,3,4]\n"
   ]
  },
  {
   "cell_type": "code",
   "execution_count": 3,
   "id": "42e334ee-6dad-451b-80eb-0b116317e06a",
   "metadata": {},
   "outputs": [
    {
     "name": "stdout",
     "output_type": "stream",
     "text": [
      "[('Dushyant', 1), ('Saini', 2), ('Sadhvi', 3), ('Sharma', 4)]\n"
     ]
    }
   ],
   "source": [
    "zipped=zip(list1,list2)\n",
    "print(list(zipped))"
   ]
  },
  {
   "cell_type": "code",
   "execution_count": 21,
   "id": "22df48a3-961b-4d02-955c-bb0fe3c50e48",
   "metadata": {},
   "outputs": [],
   "source": [
    "list1=['Dushyant','Sadhvi','Saini']\n",
    "list2=[7,3]\n"
   ]
  },
  {
   "cell_type": "code",
   "execution_count": 23,
   "id": "28fb7250-aea5-4488-8ebf-6bf9949ff0af",
   "metadata": {},
   "outputs": [
    {
     "name": "stdout",
     "output_type": "stream",
     "text": [
      "[('Dushyant', 7), ('Sadhvi', 3)]\n"
     ]
    }
   ],
   "source": [
    "Ds=zip(list1,list2)\n",
    "print(list(Ds))"
   ]
  },
  {
   "cell_type": "code",
   "execution_count": 41,
   "id": "c81039a0-e3d6-40f5-878b-77b70251d018",
   "metadata": {},
   "outputs": [],
   "source": [
    "family1=['Mahenra','Rekha','Dushyant','Diwakar','rupali']\n",
    "family2=[1,2,3,4,5]"
   ]
  },
  {
   "cell_type": "code",
   "execution_count": 43,
   "id": "82270bdc-a13f-4d88-b09b-019a253378c1",
   "metadata": {},
   "outputs": [
    {
     "name": "stdout",
     "output_type": "stream",
     "text": [
      "[('Mahenra', 1), ('Rekha', 2), ('Dushyant', 3), ('Diwakar', 4), ('rupali', 5)]\n"
     ]
    }
   ],
   "source": [
    "Ds=zip(family1,family2)\n",
    "print(list(Ds))"
   ]
  },
  {
   "cell_type": "code",
   "execution_count": null,
   "id": "c37adb0c-f214-4e6e-8ac8-f40e6a29a607",
   "metadata": {},
   "outputs": [],
   "source": []
  }
 ],
 "metadata": {
  "kernelspec": {
   "display_name": "Python [conda env:base] *",
   "language": "python",
   "name": "conda-base-py"
  },
  "language_info": {
   "codemirror_mode": {
    "name": "ipython",
    "version": 3
   },
   "file_extension": ".py",
   "mimetype": "text/x-python",
   "name": "python",
   "nbconvert_exporter": "python",
   "pygments_lexer": "ipython3",
   "version": "3.12.7"
  }
 },
 "nbformat": 4,
 "nbformat_minor": 5
}
