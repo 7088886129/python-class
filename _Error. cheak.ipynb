{
 "cells": [
  {
   "cell_type": "code",
   "execution_count": 23,
   "id": "73137cd3-6caf-4297-bab3-8ef7a83528c5",
   "metadata": {},
   "outputs": [
    {
     "ename": "SyntaxError",
     "evalue": "invalid syntax. Maybe you meant '==' or ':=' instead of '='? (1708839844.py, line 3)",
     "output_type": "error",
     "traceback": [
      "\u001b[1;36m  Cell \u001b[1;32mIn[23], line 3\u001b[1;36m\u001b[0m\n\u001b[1;33m    if a =3\u001b[0m\n\u001b[1;37m       ^\u001b[0m\n\u001b[1;31mSyntaxError\u001b[0m\u001b[1;31m:\u001b[0m invalid syntax. Maybe you meant '==' or ':=' instead of '='?\n"
     ]
    }
   ],
   "source": [
    "a = 5\n",
    "\n",
    "if a ==3\n",
    "  print('hello')"
   ]
  },
  {
   "cell_type": "code",
   "execution_count": 41,
   "id": "61aa67b7-5b5a-46e8-9a1f-5445d8ef2a7c",
   "metadata": {},
   "outputs": [
    {
     "ename": "AttributeError",
     "evalue": "'list' object has no attribute 'upper'",
     "output_type": "error",
     "traceback": [
      "\u001b[1;31m---------------------------------------------------------------------------\u001b[0m",
      "\u001b[1;31mAttributeError\u001b[0m                            Traceback (most recent call last)",
      "Cell \u001b[1;32mIn[41], line 2\u001b[0m\n\u001b[0;32m      1\u001b[0m L \u001b[38;5;241m=\u001b[39m [\u001b[38;5;241m1\u001b[39m, \u001b[38;5;241m2\u001b[39m, \u001b[38;5;241m3\u001b[39m]\n\u001b[1;32m----> 2\u001b[0m L\u001b[38;5;241m.\u001b[39mupper\n",
      "\u001b[1;31mAttributeError\u001b[0m: 'list' object has no attribute 'upper'"
     ]
    }
   ],
   "source": [
    "L = [1, 2, 3]\n",
    "L.upper"
   ]
  },
  {
   "cell_type": "code",
   "execution_count": 43,
   "id": "377310c0-7e7c-47b4-b764-267737114772",
   "metadata": {},
   "outputs": [],
   "source": [
    "L = [1, 2, 3]\n",
    "L = [str(x).upper() for x in L]\n"
   ]
  },
  {
   "cell_type": "code",
   "execution_count": 45,
   "id": "59e0ddbc-6818-4a26-8d94-11f685175fbd",
   "metadata": {},
   "outputs": [
    {
     "data": {
      "text/plain": [
       "['1', '2', '3']"
      ]
     },
     "execution_count": 45,
     "metadata": {},
     "output_type": "execute_result"
    }
   ],
   "source": [
    "L"
   ]
  },
  {
   "cell_type": "code",
   "execution_count": 53,
   "id": "38e028c7-0ef2-48cc-890f-877a7badfa37",
   "metadata": {},
   "outputs": [],
   "source": [
    "D=['d','u','s','s','a','d']\n",
    "D=[(x).upper() for x in D]"
   ]
  },
  {
   "cell_type": "code",
   "execution_count": 55,
   "id": "d53b398d-1b73-4aa3-8f5b-024f380c0b43",
   "metadata": {},
   "outputs": [
    {
     "data": {
      "text/plain": [
       "['D', 'U', 'S', 'S', 'A', 'D']"
      ]
     },
     "execution_count": 55,
     "metadata": {},
     "output_type": "execute_result"
    }
   ],
   "source": [
    "D"
   ]
  },
  {
   "cell_type": "code",
   "execution_count": 75,
   "id": "5c01fe36-b4c5-470b-bb31-b56b783b2366",
   "metadata": {},
   "outputs": [],
   "source": [
    "d1={'dushyant':'sadhvi'}\n",
    "d=['age']"
   ]
  },
  {
   "cell_type": "code",
   "execution_count": 77,
   "id": "98421062-70b6-4262-beae-f1dd2cf82f1e",
   "metadata": {},
   "outputs": [
    {
     "data": {
      "text/plain": [
       "{'dushyant': 'sadhvi'}"
      ]
     },
     "execution_count": 77,
     "metadata": {},
     "output_type": "execute_result"
    }
   ],
   "source": [
    "d1"
   ]
  },
  {
   "cell_type": "code",
   "execution_count": 122,
   "id": "90307fbb-16c8-4530-b0f2-cdf369052200",
   "metadata": {},
   "outputs": [
    {
     "ename": "SyntaxError",
     "evalue": "unterminated string literal (detected at line 2) (3728922183.py, line 2)",
     "output_type": "error",
     "traceback": [
      "\u001b[1;36m  Cell \u001b[1;32mIn[122], line 2\u001b[1;36m\u001b[0m\n\u001b[1;33m    d.write('Dushyant lovers )\u001b[0m\n\u001b[1;37m            ^\u001b[0m\n\u001b[1;31mSyntaxError\u001b[0m\u001b[1;31m:\u001b[0m unterminated string literal (detected at line 2)\n"
     ]
    }
   ],
   "source": [
    "with open('Dushyant sadhvi.txt','w') as d:\n",
    "    d.write('Dushyant lovers )"
   ]
  },
  {
   "cell_type": "code",
   "execution_count": 130,
   "id": "ae7568e1-ac65-4607-877b-99c43080065b",
   "metadata": {},
   "outputs": [],
   "source": [
    "with open('Dushyant sadhvi.txt','w') as d:\n",
    "    d.write('Dushyant lovers')"
   ]
  },
  {
   "cell_type": "code",
   "execution_count": 126,
   "id": "06507d65-d1c4-4d60-90da-aec404effe55",
   "metadata": {},
   "outputs": [
    {
     "ename": "AttributeError",
     "evalue": "'_io.TextIOWrapper' object has no attribute 'readf'",
     "output_type": "error",
     "traceback": [
      "\u001b[1;31m---------------------------------------------------------------------------\u001b[0m",
      "\u001b[1;31mAttributeError\u001b[0m                            Traceback (most recent call last)",
      "Cell \u001b[1;32mIn[126], line 2\u001b[0m\n\u001b[0;32m      1\u001b[0m \u001b[38;5;28;01mwith\u001b[39;00m \u001b[38;5;28mopen\u001b[39m(\u001b[38;5;124m'\u001b[39m\u001b[38;5;124mDushyant sadhvi.txt\u001b[39m\u001b[38;5;124m'\u001b[39m,\u001b[38;5;124m'\u001b[39m\u001b[38;5;124mr\u001b[39m\u001b[38;5;124m'\u001b[39m) \u001b[38;5;28;01mas\u001b[39;00m d:\n\u001b[1;32m----> 2\u001b[0m     \u001b[38;5;28mprint\u001b[39m(d\u001b[38;5;241m.\u001b[39mreadf())\n",
      "\u001b[1;31mAttributeError\u001b[0m: '_io.TextIOWrapper' object has no attribute 'readf'"
     ]
    }
   ],
   "source": [
    "with open('Dushyant sadhvi.txt','r') as d:\n",
    "    print(d.readf())"
   ]
  },
  {
   "cell_type": "code",
   "execution_count": 128,
   "id": "9a5465e8-28db-4f50-bf43-12548743f88c",
   "metadata": {},
   "outputs": [
    {
     "name": "stdout",
     "output_type": "stream",
     "text": [
      "Dushyant lovers\n"
     ]
    }
   ],
   "source": [
    "with open('Dushyant sadhvi.txt','r') as d:\n",
    "    print(d.read())"
   ]
  },
  {
   "cell_type": "code",
   "execution_count": 9,
   "id": "c24f948b-0090-4a4b-853a-64dad3f36d5e",
   "metadata": {},
   "outputs": [
    {
     "name": "stdout",
     "output_type": "stream",
     "text": [
      "\n"
     ]
    }
   ],
   "source": [
    "# `else` in Try-Except\n",
    "\n",
    "try:\n",
    "  f = open('sample1.txt', 'r')\n",
    "except FileNotFoundError:\n",
    "  print('')\n",
    "except Exception:\n",
    "  print('kuch to lafda hai')\n",
    "else:\n",
    "  print(f.read())"
   ]
  },
  {
   "cell_type": "code",
   "execution_count": null,
   "id": "14bfa53b-d20d-435e-9268-2a6b5d0dd362",
   "metadata": {},
   "outputs": [],
   "source": []
  }
 ],
 "metadata": {
  "kernelspec": {
   "display_name": "Python [conda env:base] *",
   "language": "python",
   "name": "conda-base-py"
  },
  "language_info": {
   "codemirror_mode": {
    "name": "ipython",
    "version": 3
   },
   "file_extension": ".py",
   "mimetype": "text/x-python",
   "name": "python",
   "nbconvert_exporter": "python",
   "pygments_lexer": "ipython3",
   "version": "3.12.7"
  }
 },
 "nbformat": 4,
 "nbformat_minor": 5
}
