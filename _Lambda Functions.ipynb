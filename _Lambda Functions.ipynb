{
 "cells": [
  {
   "cell_type": "markdown",
   "id": "df8f329c-465a-4454-b0c1-6550cb539113",
   "metadata": {},
   "source": [
    "Syntax: lambda args: expr\n",
    "\n",
    "Example: lambda a, b: a + b"
   ]
  },
  {
   "cell_type": "code",
   "execution_count": 27,
   "id": "6952ddc8-711a-427d-a0c8-395ebd0f7a92",
   "metadata": {},
   "outputs": [
    {
     "data": {
      "text/plain": [
       "9"
      ]
     },
     "execution_count": 27,
     "metadata": {},
     "output_type": "execute_result"
    }
   ],
   "source": [
    "a=lambda x: a**2\n",
    "x(3)"
   ]
  },
  {
   "cell_type": "code",
   "execution_count": 43,
   "id": "3db573ca-7fbc-47c4-836f-a1673664e779",
   "metadata": {},
   "outputs": [
    {
     "data": {
      "text/plain": [
       "36"
      ]
     },
     "execution_count": 43,
     "metadata": {},
     "output_type": "execute_result"
    }
   ],
   "source": [
    "d=lambda x:d**2\n",
    "x(6)"
   ]
  },
  {
   "cell_type": "code",
   "execution_count": 45,
   "id": "1eefd0b3-1f75-4af9-b006-dd62a9cdbe12",
   "metadata": {},
   "outputs": [
    {
     "data": {
      "text/plain": [
       "64"
      ]
     },
     "execution_count": 45,
     "metadata": {},
     "output_type": "execute_result"
    }
   ],
   "source": [
    "a=lambda a:a**2\n",
    "a(8)"
   ]
  },
  {
   "cell_type": "code",
   "execution_count": 63,
   "id": "9476409d-4fc7-4fe7-9401-4a75f9c55010",
   "metadata": {},
   "outputs": [
    {
     "data": {
      "text/plain": [
       "10"
      ]
     },
     "execution_count": 63,
     "metadata": {},
     "output_type": "execute_result"
    }
   ],
   "source": [
    "d=lambda d,s : d+s\n",
    "d(3,7)"
   ]
  },
  {
   "cell_type": "code",
   "execution_count": 65,
   "id": "9c9d0615-3339-498f-9985-17b06ddf7493",
   "metadata": {},
   "outputs": [
    {
     "data": {
      "text/plain": [
       "9"
      ]
     },
     "execution_count": 65,
     "metadata": {},
     "output_type": "execute_result"
    }
   ],
   "source": [
    "a = lambda x, y : x + y\n",
    "a(4, 5)"
   ]
  },
  {
   "cell_type": "code",
   "execution_count": 67,
   "id": "6974755c-0276-480e-9c88-82a7656d8a86",
   "metadata": {},
   "outputs": [
    {
     "data": {
      "text/plain": [
       "25"
      ]
     },
     "execution_count": 67,
     "metadata": {},
     "output_type": "execute_result"
    }
   ],
   "source": [
    "a=lambda a:a**2\n",
    "a(5)"
   ]
  },
  {
   "cell_type": "code",
   "execution_count": 71,
   "id": "bcb22666-b460-47e8-9e28-f6b4f63c80ac",
   "metadata": {},
   "outputs": [
    {
     "data": {
      "text/plain": [
       "15"
      ]
     },
     "execution_count": 71,
     "metadata": {},
     "output_type": "execute_result"
    }
   ],
   "source": [
    "a=lambda a,x:a+x\n",
    "a(6,9)"
   ]
  },
  {
   "cell_type": "code",
   "execution_count": 75,
   "id": "89bd9659-db1c-48b1-ba9f-54597679282b",
   "metadata": {},
   "outputs": [
    {
     "data": {
      "text/plain": [
       "True"
      ]
     },
     "execution_count": 75,
     "metadata": {},
     "output_type": "execute_result"
    }
   ],
   "source": [
    "b=lambda x: x[0]=='a'\n",
    "b('apple')"
   ]
  },
  {
   "cell_type": "code",
   "execution_count": 77,
   "id": "19f5204d-22cb-4abe-863d-915a08f90615",
   "metadata": {},
   "outputs": [],
   "source": [
    "a=[1,2,3]"
   ]
  },
  {
   "cell_type": "code",
   "execution_count": 79,
   "id": "8d4c9caf-4856-43a2-8744-252bcbdade2d",
   "metadata": {},
   "outputs": [
    {
     "data": {
      "text/plain": [
       "[1, 2, 3]"
      ]
     },
     "execution_count": 79,
     "metadata": {},
     "output_type": "execute_result"
    }
   ],
   "source": [
    "a"
   ]
  },
  {
   "cell_type": "code",
   "execution_count": 95,
   "id": "eeca6451-a0b9-478d-9d88-e0d15fcb1569",
   "metadata": {},
   "outputs": [],
   "source": [
    "list=[x for x in a]"
   ]
  },
  {
   "cell_type": "code",
   "execution_count": 97,
   "id": "9b9a86ed-5fc8-4954-9835-42e69f94e595",
   "metadata": {},
   "outputs": [
    {
     "data": {
      "text/plain": [
       "[1, 2, 3]"
      ]
     },
     "execution_count": 97,
     "metadata": {},
     "output_type": "execute_result"
    }
   ],
   "source": [
    "a"
   ]
  },
  {
   "cell_type": "code",
   "execution_count": 101,
   "id": "b192c1b0-e1c7-4d16-9b63-5f5e27d1e1f4",
   "metadata": {},
   "outputs": [],
   "source": [
    "list=[x for x in a if x%2==0]"
   ]
  },
  {
   "cell_type": "code",
   "execution_count": 103,
   "id": "ced5d1d4-988a-410d-8ebc-c5ac76720873",
   "metadata": {},
   "outputs": [
    {
     "data": {
      "text/plain": [
       "[2]"
      ]
     },
     "execution_count": 103,
     "metadata": {},
     "output_type": "execute_result"
    }
   ],
   "source": [
    "list"
   ]
  },
  {
   "cell_type": "code",
   "execution_count": 107,
   "id": "fefe47da-07c1-40b4-90d9-1f119136367a",
   "metadata": {},
   "outputs": [
    {
     "data": {
      "text/plain": [
       "25"
      ]
     },
     "execution_count": 107,
     "metadata": {},
     "output_type": "execute_result"
    }
   ],
   "source": [
    "a=lambda a:a**2\n",
    "a(5)"
   ]
  },
  {
   "cell_type": "code",
   "execution_count": 109,
   "id": "020be20f-749a-4029-a5d2-61e22a26dfdb",
   "metadata": {},
   "outputs": [
    {
     "data": {
      "text/plain": [
       "4"
      ]
     },
     "execution_count": 109,
     "metadata": {},
     "output_type": "execute_result"
    }
   ],
   "source": [
    "a=lambda a,x:(a+x)\n",
    "a(3,1)"
   ]
  },
  {
   "cell_type": "code",
   "execution_count": 117,
   "id": "c57e5384-f4e7-468f-95d3-176afae66877",
   "metadata": {},
   "outputs": [
    {
     "data": {
      "text/plain": [
       "True"
      ]
     },
     "execution_count": 117,
     "metadata": {},
     "output_type": "execute_result"
    }
   ],
   "source": [
    "b= lambda x: x[0]=='o'\n",
    "b('orange')"
   ]
  },
  {
   "cell_type": "code",
   "execution_count": 123,
   "id": "c5c4c63a-49bb-4568-bfb6-ed007ac46a6c",
   "metadata": {},
   "outputs": [
    {
     "data": {
      "text/plain": [
       "'odd'"
      ]
     },
     "execution_count": 123,
     "metadata": {},
     "output_type": "execute_result"
    }
   ],
   "source": [
    "b=lambda x:'even' if x%2 ==0 else 'odd'\n",
    "b(3)"
   ]
  },
  {
   "cell_type": "code",
   "execution_count": 125,
   "id": "155a9849-1f79-4bb8-8a59-297008d1e8a6",
   "metadata": {},
   "outputs": [
    {
     "data": {
      "text/plain": [
       "'odd'"
      ]
     },
     "execution_count": 125,
     "metadata": {},
     "output_type": "execute_result"
    }
   ],
   "source": [
    "b(75)"
   ]
  },
  {
   "cell_type": "code",
   "execution_count": 127,
   "id": "6a221e22-c0e1-4891-b79e-da017684dea6",
   "metadata": {},
   "outputs": [
    {
     "data": {
      "text/plain": [
       "'even'"
      ]
     },
     "execution_count": 127,
     "metadata": {},
     "output_type": "execute_result"
    }
   ],
   "source": [
    "b(80)"
   ]
  },
  {
   "cell_type": "code",
   "execution_count": 2,
   "id": "fca956bb-e2d0-4b69-b521-72073534df23",
   "metadata": {},
   "outputs": [
    {
     "ename": "IndentationError",
     "evalue": "unindent does not match any outer indentation level (<string>, line 12)",
     "output_type": "error",
     "traceback": [
      "\u001b[1;36m  File \u001b[1;32m<string>:12\u001b[1;36m\u001b[0m\n\u001b[1;33m    for i in L:\u001b[0m\n\u001b[1;37m               ^\u001b[0m\n\u001b[1;31mIndentationError\u001b[0m\u001b[1;31m:\u001b[0m unindent does not match any outer indentation level\n"
     ]
    }
   ],
   "source": [
    "L=[12,22,45,36,43,24,63,57,21,37,73,96,10,42,20]\n",
    "def return_sum(L)\n",
    "even_sum(L)=0\n",
    "odd_sum(L)=0\n",
    "div_sum(L)=0\n",
    "for i in L:\n",
    "    if i%2==0:\n",
    "        even_sum=even_sum+i\n",
    "for i in L:\n",
    "    if i%2==0:\n",
    "         odd_sum=odd_sum+i\n",
    " for i in L:\n",
    "    if i%3==0:\n",
    "        div_sum=div_sum+i\n",
    "    print\n"
   ]
  },
  {
   "cell_type": "code",
   "execution_count": null,
   "id": "cbc85e1e-07fd-4b19-8320-22a3656178f7",
   "metadata": {},
   "outputs": [],
   "source": []
  }
 ],
 "metadata": {
  "kernelspec": {
   "display_name": "Python [conda env:base] *",
   "language": "python",
   "name": "conda-base-py"
  },
  "language_info": {
   "codemirror_mode": {
    "name": "ipython",
    "version": 3
   },
   "file_extension": ".py",
   "mimetype": "text/x-python",
   "name": "python",
   "nbconvert_exporter": "python",
   "pygments_lexer": "ipython3",
   "version": "3.12.7"
  }
 },
 "nbformat": 4,
 "nbformat_minor": 5
}
