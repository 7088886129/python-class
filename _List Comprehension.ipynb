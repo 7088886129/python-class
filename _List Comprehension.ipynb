{
 "cells": [
  {
   "cell_type": "code",
   "execution_count": 11,
   "id": "2ccec094-e317-43df-af01-1a5dc69ce3dc",
   "metadata": {},
   "outputs": [],
   "source": [
    "d=[1,2,3,4,5,6,7,8,9,10,11,12]"
   ]
  },
  {
   "cell_type": "code",
   "execution_count": 13,
   "id": "07925a57-50d2-4c9a-9b29-840560f6bc81",
   "metadata": {},
   "outputs": [
    {
     "data": {
      "text/plain": [
       "[1, 2, 3, 4, 5, 6, 7, 8, 9, 10, 11, 12]"
      ]
     },
     "execution_count": 13,
     "metadata": {},
     "output_type": "execute_result"
    }
   ],
   "source": [
    "d"
   ]
  },
  {
   "cell_type": "code",
   "execution_count": 15,
   "id": "2405a5a6-3272-4598-b541-a6ff0d4335cb",
   "metadata": {},
   "outputs": [
    {
     "data": {
      "text/plain": [
       "list"
      ]
     },
     "execution_count": 15,
     "metadata": {},
     "output_type": "execute_result"
    }
   ],
   "source": [
    "type(d)"
   ]
  },
  {
   "cell_type": "code",
   "execution_count": 19,
   "id": "2f90939d-aad7-481c-b893-980407183aae",
   "metadata": {},
   "outputs": [
    {
     "name": "stdout",
     "output_type": "stream",
     "text": [
      "4\n",
      "5\n",
      "6\n"
     ]
    }
   ],
   "source": [
    "e=[4,5,6]\n",
    "for i in e:\n",
    "    print(i)"
   ]
  },
  {
   "cell_type": "code",
   "execution_count": 21,
   "id": "1025f799-0e59-4778-8ce4-61a79de1dc5c",
   "metadata": {},
   "outputs": [],
   "source": [
    "list=[x for x in e]"
   ]
  },
  {
   "cell_type": "code",
   "execution_count": 23,
   "id": "9d0ed20d-47ac-4a24-829a-b5e1fdec0fb8",
   "metadata": {},
   "outputs": [
    {
     "data": {
      "text/plain": [
       "[4, 5, 6]"
      ]
     },
     "execution_count": 23,
     "metadata": {},
     "output_type": "execute_result"
    }
   ],
   "source": [
    "list"
   ]
  },
  {
   "cell_type": "code",
   "execution_count": 57,
   "id": "11657722-eb14-472c-9581-f519f5c7ea38",
   "metadata": {},
   "outputs": [],
   "source": [
    "list=[a for a in e if a%5==0]"
   ]
  },
  {
   "cell_type": "code",
   "execution_count": 59,
   "id": "7793ca75-63d3-4680-b706-ef4273b6687a",
   "metadata": {},
   "outputs": [
    {
     "data": {
      "text/plain": [
       "[5]"
      ]
     },
     "execution_count": 59,
     "metadata": {},
     "output_type": "execute_result"
    }
   ],
   "source": [
    "list"
   ]
  },
  {
   "cell_type": "code",
   "execution_count": 61,
   "id": "fbbe7452-afc6-4d43-afd4-d3ac537772fe",
   "metadata": {},
   "outputs": [],
   "source": [
    "a=[2,3,4,5,6,7,8,9,10,11,12,13,14,15,16,17,18,19,20,21,22,23,24,25]"
   ]
  },
  {
   "cell_type": "code",
   "execution_count": 82,
   "id": "14257f8b-7816-49f2-8494-de129096a919",
   "metadata": {},
   "outputs": [],
   "source": [
    "list=[x for x in a]"
   ]
  },
  {
   "cell_type": "code",
   "execution_count": 86,
   "id": "e88447f1-5295-43fc-b072-951fb2b8175f",
   "metadata": {},
   "outputs": [],
   "source": [
    "list=[x for x in a if x%2==0]"
   ]
  },
  {
   "cell_type": "code",
   "execution_count": 88,
   "id": "e64a5b36-3d81-456b-ae32-2cf684d7d673",
   "metadata": {},
   "outputs": [
    {
     "data": {
      "text/plain": [
       "[2, 4, 6, 8, 10, 12, 14, 16, 18, 20, 22, 24]"
      ]
     },
     "execution_count": 88,
     "metadata": {},
     "output_type": "execute_result"
    }
   ],
   "source": [
    "list"
   ]
  },
  {
   "cell_type": "code",
   "execution_count": 117,
   "id": "790b39e4-c474-4057-a8dd-d23d9a47d6e2",
   "metadata": {},
   "outputs": [],
   "source": [
    "d=[2,3,4,5,6,7,8,9,10,11,12,13,14,15,16,17,18,19,20,21,22,23,24,25,25,27,29,22,35,62,93,83,63,35,25,36,37,96,35]"
   ]
  },
  {
   "cell_type": "code",
   "execution_count": 123,
   "id": "2b71ab19-0b30-4a14-b7d9-e500b0b71f70",
   "metadata": {},
   "outputs": [],
   "source": [
    " list=[x for x in d if x%3==0]"
   ]
  },
  {
   "cell_type": "code",
   "execution_count": 125,
   "id": "5ef0d824-d8bd-4d6e-bb2e-9f0ff1816628",
   "metadata": {},
   "outputs": [
    {
     "data": {
      "text/plain": [
       "[3, 6, 9, 12, 15, 18, 21, 24, 27, 93, 63, 36, 96]"
      ]
     },
     "execution_count": 125,
     "metadata": {},
     "output_type": "execute_result"
    }
   ],
   "source": [
    "list"
   ]
  },
  {
   "cell_type": "code",
   "execution_count": 158,
   "id": "65ccb70b-8384-4e73-be00-947ec6c164d2",
   "metadata": {},
   "outputs": [],
   "source": [
    "e=['mango','banana','apple','orange','papaya']"
   ]
  },
  {
   "cell_type": "code",
   "execution_count": 162,
   "id": "c3b2311b-dc56-42c9-872b-ea5869c4ec62",
   "metadata": {},
   "outputs": [],
   "source": [
    "list=[x for x in e]"
   ]
  },
  {
   "cell_type": "code",
   "execution_count": 164,
   "id": "991d814b-2ba8-4f92-880b-0debf4b571e0",
   "metadata": {},
   "outputs": [
    {
     "data": {
      "text/plain": [
       "['mango', 'banana', 'apple', 'orange', 'papaya']"
      ]
     },
     "execution_count": 164,
     "metadata": {},
     "output_type": "execute_result"
    }
   ],
   "source": [
    "list"
   ]
  },
  {
   "cell_type": "code",
   "execution_count": 166,
   "id": "f9b8148c-356d-4085-b258-a61215eb31d2",
   "metadata": {},
   "outputs": [],
   "source": [
    "list=[x for x in e if x=='mango']"
   ]
  },
  {
   "cell_type": "code",
   "execution_count": 168,
   "id": "85da6033-8a23-4471-be78-aeca174d19cb",
   "metadata": {},
   "outputs": [
    {
     "data": {
      "text/plain": [
       "['mango']"
      ]
     },
     "execution_count": 168,
     "metadata": {},
     "output_type": "execute_result"
    }
   ],
   "source": [
    "list"
   ]
  },
  {
   "cell_type": "code",
   "execution_count": 170,
   "id": "b3c182f9-74a2-42b7-9e15-c2ddb436b883",
   "metadata": {},
   "outputs": [],
   "source": [
    "b=['january','feburay','march','april','may','jun','july','august','september','october','november','december']"
   ]
  },
  {
   "cell_type": "code",
   "execution_count": 172,
   "id": "c70f5318-c620-4b3c-bdfb-45cb12d29b81",
   "metadata": {},
   "outputs": [],
   "source": [
    "list=[x for x in b]"
   ]
  },
  {
   "cell_type": "code",
   "execution_count": 174,
   "id": "773984fa-d90c-48a2-a516-9556490e7a47",
   "metadata": {},
   "outputs": [
    {
     "data": {
      "text/plain": [
       "['january',\n",
       " 'feburay',\n",
       " 'march',\n",
       " 'april',\n",
       " 'may',\n",
       " 'jun',\n",
       " 'july',\n",
       " 'august',\n",
       " 'september',\n",
       " 'october',\n",
       " 'november',\n",
       " 'december']"
      ]
     },
     "execution_count": 174,
     "metadata": {},
     "output_type": "execute_result"
    }
   ],
   "source": [
    "list"
   ]
  },
  {
   "cell_type": "code",
   "execution_count": 176,
   "id": "6d7d7dd1-67e1-4f66-a164-4664ec11b2f2",
   "metadata": {},
   "outputs": [],
   "source": [
    "list=[x for x in b if x=='jun']"
   ]
  },
  {
   "cell_type": "code",
   "execution_count": 188,
   "id": "6a448259-6ebb-4ba5-bb46-130fac7cdff0",
   "metadata": {},
   "outputs": [
    {
     "data": {
      "text/plain": [
       "['jun']"
      ]
     },
     "execution_count": 188,
     "metadata": {},
     "output_type": "execute_result"
    }
   ],
   "source": [
    "list"
   ]
  },
  {
   "cell_type": "code",
   "execution_count": 194,
   "id": "e23d715b-79fa-4329-9f8f-faaa13bdbebd",
   "metadata": {},
   "outputs": [],
   "source": [
    "g=['Sunday','Monday','Tuesday','Wednesday','thuesday','friday','satuarday']"
   ]
  },
  {
   "cell_type": "code",
   "execution_count": 200,
   "id": "db62db59-7bcb-4d2c-8473-2c2758714c62",
   "metadata": {},
   "outputs": [
    {
     "data": {
      "text/plain": [
       "['Sunday', 'Monday', 'Tuesday', 'Wednesday', 'thuesday', 'friday', 'satuarday']"
      ]
     },
     "execution_count": 200,
     "metadata": {},
     "output_type": "execute_result"
    }
   ],
   "source": [
    "g"
   ]
  },
  {
   "cell_type": "code",
   "execution_count": 208,
   "id": "752f45f2-452a-426d-affa-cba87987e47c",
   "metadata": {},
   "outputs": [],
   "source": [
    "g=[x for x in g if x=='monday']"
   ]
  },
  {
   "cell_type": "code",
   "execution_count": 216,
   "id": "457edf45-2322-45d9-9b14-8d0bba710690",
   "metadata": {},
   "outputs": [
    {
     "data": {
      "text/plain": [
       "['jun']"
      ]
     },
     "execution_count": 216,
     "metadata": {},
     "output_type": "execute_result"
    }
   ],
   "source": [
    "list"
   ]
  },
  {
   "cell_type": "code",
   "execution_count": null,
   "id": "daaa3976-5aa7-4020-9fb9-2e3d98fb5d9c",
   "metadata": {},
   "outputs": [],
   "source": []
  }
 ],
 "metadata": {
  "kernelspec": {
   "display_name": "Python [conda env:base] *",
   "language": "python",
   "name": "conda-base-py"
  },
  "language_info": {
   "codemirror_mode": {
    "name": "ipython",
    "version": 3
   },
   "file_extension": ".py",
   "mimetype": "text/x-python",
   "name": "python",
   "nbconvert_exporter": "python",
   "pygments_lexer": "ipython3",
   "version": "3.12.7"
  }
 },
 "nbformat": 4,
 "nbformat_minor": 5
}
