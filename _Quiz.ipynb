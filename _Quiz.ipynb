{
 "cells": [
  {
   "cell_type": "raw",
   "id": "fcb2f0bc-12d3-42b2-9f53-3a0ab2498300",
   "metadata": {},
   "source": [
    "# Which of the following is a mutable data type in Python?\n",
    "Ans . List"
   ]
  },
  {
   "cell_type": "raw",
   "id": "c07170c6-71a3-4068-b976-97ad880e7966",
   "metadata": {},
   "source": [
    "What will be the output of the following code?\n",
    "x = 10\n",
    "y = 2\n",
    "print(x ** y)\n",
    "Ans. 100"
   ]
  },
  {
   "cell_type": "raw",
   "id": "dedeebdc-e927-4e1d-a060-26a3dae12a34",
   "metadata": {},
   "source": [
    "Which of the following is not a valid variable name in Python?\n",
    "\n",
    "a) _var\n",
    "b) 2var\n",
    "c) var_2\n",
    "d) var2\n",
    "Ans. 2var"
   ]
  },
  {
   "cell_type": "raw",
   "id": "11270448-3e49-463d-98c0-c6515826bfb4",
   "metadata": {},
   "source": [
    "for i in range(3):\n",
    "    print(i)\n",
    "else:\n",
    "    print(\"Done\")\n",
    "a) 0 1 2\n",
    "b) 0 1 2 Done\n",
    "c) Done\n",
    "d) 0 1 Done\n",
    "Ans. (b)"
   ]
  },
  {
   "cell_type": "raw",
   "id": "a9f8eebe-0d88-4fcc-8dab-098f40de3a4e",
   "metadata": {},
   "source": [
    "What does the break statement do in a loop?\n",
    "\n",
    "a) Skips the current iteration\n",
    "b) Exits the loop entirely\n",
    "c) Pauses the loop\n",
    "d) Restarts the loop\n",
    "Ans. (d)"
   ]
  },
  {
   "cell_type": "code",
   "execution_count": 7,
   "id": "cb418a00-1a60-4772-b184-18ae4df0a019",
   "metadata": {},
   "outputs": [
    {
     "name": "stdout",
     "output_type": "stream",
     "text": [
      "0\n",
      "1\n",
      "2\n",
      "4\n"
     ]
    }
   ],
   "source": [
    "for i in range(5):\n",
    "    if i == 3:\n",
    "        continue\n",
    "    print(i)\n",
    "    Ans. (b)"
   ]
  },
  {
   "cell_type": "raw",
   "id": "41026ef7-4ad0-4038-ac59-57ca23587430",
   "metadata": {},
   "source": [
    "Which of the following is an immutable data type in Python?\n",
    "\n",
    "a) list\n",
    "b) set\n",
    "c) dict\n",
    "d) tuple\n",
    "Ans. (d)"
   ]
  },
  {
   "cell_type": "raw",
   "id": "537e30b3-182a-4879-97f1-9f5b19b19093",
   "metadata": {},
   "source": [
    "What is the purpose of the pass statement in Python?\n",
    "\n",
    "a) To exit a loop\n",
    "b) To skip the current iteration\n",
    "c) To do nothing; it's a placeholder\n",
    "d) To raise an exception\n",
    "Ans. (c)"
   ]
  },
  {
   "cell_type": "code",
   "execution_count": 9,
   "id": "94122875-82d8-4101-b2cd-5f826778d778",
   "metadata": {},
   "outputs": [
    {
     "name": "stdout",
     "output_type": "stream",
     "text": [
      "4\n",
      "3\n"
     ]
    }
   ],
   "source": [
    "#What will be the output of the following code?\n",
    "\n",
    "x = 5\n",
    "while x > 0:\n",
    "    x -= 1\n",
    "    if x == 2:\n",
    "        break\n",
    "    print(x)\n",
    "\n",
    "Ans. (b)"
   ]
  },
  {
   "cell_type": "raw",
   "id": "58d1f702-73c9-4daf-b5b7-ccc816184d7b",
   "metadata": {},
   "source": [
    "Which keyword is used to define a function in Python?\n",
    "\n",
    "a) func\n",
    "b) def\n",
    "c) function\n",
    "d) define\n",
    "Ans. (b)"
   ]
  },
  {
   "cell_type": "code",
   "execution_count": 11,
   "id": "a19c112a-122e-4238-9dec-511885c47dc7",
   "metadata": {},
   "outputs": [
    {
     "name": "stdout",
     "output_type": "stream",
     "text": [
      "2\n",
      "4\n"
     ]
    }
   ],
   "source": [
    "#What will be the output of the following code?\n",
    "\n",
    "i = 1\n",
    "while i < 4:\n",
    "    i += 1\n",
    "    if i == 3:\n",
    "        continue\n",
    "    print(i)\n",
    "Ans. (b)"
   ]
  },
  {
   "cell_type": "raw",
   "id": "c5846a11-f219-40f1-91a3-a180f22d2d70",
   "metadata": {},
   "source": [
    "Which of the following is not a loop control statement in Python?\n",
    "\n",
    "a) break\n",
    "b) continue\n",
    "c) pass\n",
    "d) return\n",
    "Ans. (c)"
   ]
  },
  {
   "cell_type": "code",
   "execution_count": 13,
   "id": "f737432b-eabd-49db-9660-bbc24effd8e3",
   "metadata": {},
   "outputs": [
    {
     "name": "stdout",
     "output_type": "stream",
     "text": [
      "Object `code` not found.\n",
      "1 0\n",
      "2 0\n",
      "2 1\n"
     ]
    }
   ],
   "source": [
    "What will be the output of the following code?\n",
    "\n",
    "for i in range(3):\n",
    "    for j in range(2):\n",
    "        if i == j:\n",
    "            break\n",
    "        print(i, j)\n",
    "Ans. None of this"
   ]
  },
  {
   "cell_type": "code",
   "execution_count": 17,
   "id": "1167cf05-a114-463c-a2be-2149adb2a1ae",
   "metadata": {},
   "outputs": [],
   "source": [
    "#What is the correct syntax to declare a variable in Python?\n",
    "\n",
    "#a) int x = 10\n",
    "#b) x = 10\n",
    "#c) declare x = 10\n",
    "#d) x := 10\n",
    "x=10\n",
    "Ans. (b)"
   ]
  },
  {
   "cell_type": "raw",
   "id": "4dfa5b9f-1856-4d36-953b-bc4a053b3831",
   "metadata": {},
   "source": [
    "Which of the following is an immutable data type in Python?\n",
    "\n",
    "a) list\n",
    "b) dict\n",
    "c) set\n",
    "d) tuple\n",
    "Ans.(d)"
   ]
  },
  {
   "cell_type": "code",
   "execution_count": 27,
   "id": "bbd41b2b-bbda-47af-8144-b0c02f074547",
   "metadata": {},
   "outputs": [
    {
     "name": "stdout",
     "output_type": "stream",
     "text": [
      "Greater\n"
     ]
    }
   ],
   "source": [
    "#What will be the output of the following code?\n",
    "\n",
    "x = 5\n",
    "if x > 1:\n",
    "    print(\"Greater\")\n",
    "else:\n",
    "    print(\"Lesser\")\n",
    "Ans. (a)\n"
   ]
  },
  {
   "cell_type": "raw",
   "id": "83a4f8bd-593f-448a-bda8-22b7215b92e1",
   "metadata": {},
   "source": [
    "Which loop is guaranteed to execute at least once?\n",
    "\n",
    "a) for loop\n",
    "b) while loop\n",
    "c) do-while loop\n",
    "d) None of the above\n",
    "Ans. (b)"
   ]
  },
  {
   "cell_type": "raw",
   "id": "c556be5d-b249-4e31-8552-d519c373ba6f",
   "metadata": {},
   "source": [
    "What is the purpose of the break statement in loops?\n",
    "\n",
    "a) To skip the current iteration\n",
    "b) To exit the loop immediately\n",
    "c) To pause the loop\n",
    "d) To restart the loop\n",
    "Ans. (b)"
   ]
  },
  {
   "cell_type": "code",
   "execution_count": 37,
   "id": "29be4868-20f4-4245-8453-a0a09370986c",
   "metadata": {},
   "outputs": [
    {
     "name": "stdout",
     "output_type": "stream",
     "text": [
      "0\n",
      "1\n",
      "2\n"
     ]
    }
   ],
   "source": [
    "#What will be the output of the following code?\n",
    "\n",
    "for i in range(5):\n",
    "    if i == 3:\n",
    "        break\n",
    "    print(i)\n",
    "Ans. (b)"
   ]
  },
  {
   "cell_type": "raw",
   "id": "4ad31790-0633-4b2c-8b11-b74fdf5f4aa0",
   "metadata": {},
   "source": [
    "What does the continue statement do in a loop?\n",
    "\n",
    "a) Exits the loop\n",
    "b) Skips the rest of the code inside the loop for the current iteration\n",
    "c) Pauses the loop\n",
    "d) Restarts the loop\n",
    "Ans. (b)"
   ]
  },
  {
   "cell_type": "raw",
   "id": "98bcbf8c-edc0-40cd-9d23-ef31a9e1ffc5",
   "metadata": {},
   "source": [
    "Which of the following is a mutable data type in Python?\n",
    "\n",
    "a) str\n",
    "b) tuple\n",
    "c) list\n",
    "d) frozenset\n",
    "Ans. (c)"
   ]
  },
  {
   "cell_type": "raw",
   "id": "958d7b5e-d809-4d0d-97c2-07b5bb3c44bb",
   "metadata": {},
   "source": [
    "How do you define a function in Python?\n",
    "\n",
    "a) function myFunc():\n",
    "b) def myFunc():\n",
    "c) define myFunc():\n",
    "d) func myFunc():\n",
    "Ans. (b)"
   ]
  },
  {
   "cell_type": "code",
   "execution_count": 1,
   "id": "daf5aa0f-76b1-4798-affd-a54a2ed04728",
   "metadata": {},
   "outputs": [
    {
     "name": "stdout",
     "output_type": "stream",
     "text": [
      "0 1\n",
      "1 0\n",
      "2 0\n",
      "2 1\n"
     ]
    }
   ],
   "source": [
    "for i in range(3):\n",
    "    for j in range(2):\n",
    "        if i == j:\n",
    "            continue\n",
    "        print(i, j)\n",
    "Ans. (d)"
   ]
  },
  {
   "cell_type": "raw",
   "id": "1e6a77da-7cac-4026-81e4-ed5d593f3e26",
   "metadata": {},
   "source": [
    "Which of the following is not a valid variable name in Python?\n",
    "\n",
    "a) _var\n",
    "b) var1\n",
    "c) 1var\n",
    "d) var_1\n",
    "Ans. (b)"
   ]
  },
  {
   "cell_type": "code",
   "execution_count": 5,
   "id": "57ffe461-dcd3-4941-8860-a57f96b78432",
   "metadata": {},
   "outputs": [
    {
     "name": "stdout",
     "output_type": "stream",
     "text": [
      "[1, 2, 3, 4]\n"
     ]
    }
   ],
   "source": [
    "#What will be the output of the following code?\n",
    "\n",
    "x = [1, 2, 3]\n",
    "y = x\n",
    "y.append(4)\n",
    "print(x)\n",
    "Ans. (b)"
   ]
  },
  {
   "cell_type": "code",
   "execution_count": 11,
   "id": "202b61e9-47fc-4e3d-b44a-0e8dc2122c75",
   "metadata": {},
   "outputs": [
    {
     "ename": "NameError",
     "evalue": "name 'dushyant' is not defined",
     "output_type": "error",
     "traceback": [
      "\u001b[1;31m---------------------------------------------------------------------------\u001b[0m",
      "\u001b[1;31mNameError\u001b[0m                                 Traceback (most recent call last)",
      "Cell \u001b[1;32mIn[11], line 1\u001b[0m\n\u001b[1;32m----> 1\u001b[0m v\u001b[38;5;241m=\u001b[39m[dushyant,saini,sadhvi]\n\u001b[0;32m      2\u001b[0m s\u001b[38;5;241m=\u001b[39m v\n\u001b[0;32m      3\u001b[0m y\u001b[38;5;241m.\u001b[39mappend(sharma)\n",
      "\u001b[1;31mNameError\u001b[0m: name 'dushyant' is not defined"
     ]
    }
   ],
   "source": [
    "v=[dushyant,saini,sadhvi]\n",
    "s= v\n",
    "y.append(sharma)\n",
    "print(v)"
   ]
  },
  {
   "cell_type": "code",
   "execution_count": null,
   "id": "4ed90410-2e68-4c7d-8516-76aceebc818d",
   "metadata": {},
   "outputs": [],
   "source": []
  }
 ],
 "metadata": {
  "kernelspec": {
   "display_name": "Python 3 (ipykernel)",
   "language": "python",
   "name": "python3"
  },
  "language_info": {
   "codemirror_mode": {
    "name": "ipython",
    "version": 3
   },
   "file_extension": ".py",
   "mimetype": "text/x-python",
   "name": "python",
   "nbconvert_exporter": "python",
   "pygments_lexer": "ipython3",
   "version": "3.12.7"
  }
 },
 "nbformat": 4,
 "nbformat_minor": 5
}
