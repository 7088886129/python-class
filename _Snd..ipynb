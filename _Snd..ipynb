{
 "cells": [
  {
   "cell_type": "code",
   "execution_count": 1,
   "id": "dd3ee9fa-0bda-4e81-b1cb-fb692afc6c96",
   "metadata": {},
   "outputs": [],
   "source": [
    "a = \" iam Dushyant Saini\"\n",
    "with open('Dushyant.txt','w') as f:\n",
    "    f.write(a)"
   ]
  },
  {
   "cell_type": "code",
   "execution_count": 17,
   "id": "ae18da53-8b05-490d-8c41-05df602b1b37",
   "metadata": {},
   "outputs": [
    {
     "name": "stdout",
     "output_type": "stream",
     "text": [
      " iam Dushyant Saini\n"
     ]
    }
   ],
   "source": [
    "\n",
    "with open('Dushyant.txt','r') as f :\n",
    "    print(f.read())"
   ]
  },
  {
   "cell_type": "code",
   "execution_count": 25,
   "id": "3a03560a-b2df-4419-b5e5-3948e5359286",
   "metadata": {},
   "outputs": [],
   "source": [
    "b=\"  Dushyant Saini\"\n",
    "with open('Dushyant.txt','w') as d:\n",
    "    d.write(b)"
   ]
  },
  {
   "cell_type": "code",
   "execution_count": 27,
   "id": "50a0ff0f-b1b2-4fa5-b9ff-7813ff86c2ff",
   "metadata": {},
   "outputs": [
    {
     "name": "stdout",
     "output_type": "stream",
     "text": [
      "  Dushyant Saini\n"
     ]
    }
   ],
   "source": [
    "with open ('Dushyant.txt','r') as d:\n",
    "    print(d.read())"
   ]
  },
  {
   "cell_type": "code",
   "execution_count": 31,
   "id": "60a10bba-fe7b-4ae5-af35-f6418c687328",
   "metadata": {},
   "outputs": [],
   "source": [
    "d= \"Dussad\"\n",
    "with open (\"Dussad.txt\",'w') as s:\n",
    "    s.write(d)"
   ]
  },
  {
   "cell_type": "code",
   "execution_count": 33,
   "id": "04171a93-e4ef-4b3a-94c2-a59374d16db5",
   "metadata": {},
   "outputs": [
    {
     "name": "stdout",
     "output_type": "stream",
     "text": [
      "Dussad\n"
     ]
    }
   ],
   "source": [
    "with open('Dussad.txt','r') as s:\n",
    "    print(s.read())"
   ]
  },
  {
   "cell_type": "code",
   "execution_count": 37,
   "id": "72c813dc-86c8-4920-a3a8-ac8909443775",
   "metadata": {},
   "outputs": [],
   "source": [
    "d1={\n",
    "    'name':'prince',\n",
    "     'age':'24'\n",
    "}\n",
    "with open('samp.txt','w') as f :\n",
    "    f.write(str(d1))"
   ]
  },
  {
   "cell_type": "code",
   "execution_count": 41,
   "id": "4a99d67c-2867-40dd-9b72-ca3ced088c7d",
   "metadata": {},
   "outputs": [
    {
     "ename": "TypeError",
     "evalue": "argument should be integer or None, not 'str'",
     "output_type": "error",
     "traceback": [
      "\u001b[1;31m---------------------------------------------------------------------------\u001b[0m",
      "\u001b[1;31mTypeError\u001b[0m                                 Traceback (most recent call last)",
      "Cell \u001b[1;32mIn[41], line 2\u001b[0m\n\u001b[0;32m      1\u001b[0m \u001b[38;5;28;01mwith\u001b[39;00m \u001b[38;5;28mopen\u001b[39m(\u001b[38;5;124m'\u001b[39m\u001b[38;5;124msamp.txt\u001b[39m\u001b[38;5;124m'\u001b[39m,\u001b[38;5;124m'\u001b[39m\u001b[38;5;124mr\u001b[39m\u001b[38;5;124m'\u001b[39m) \u001b[38;5;28;01mas\u001b[39;00m f :\n\u001b[1;32m----> 2\u001b[0m     f\u001b[38;5;241m.\u001b[39mread(\u001b[38;5;28mstr\u001b[39m(d1))\n",
      "\u001b[1;31mTypeError\u001b[0m: argument should be integer or None, not 'str'"
     ]
    }
   ],
   "source": [
    "with open('samp.txt','r') as f :\n",
    "    f.read(str(d1))"
   ]
  },
  {
   "cell_type": "raw",
   "id": "5036f746-85ac-4bef-8ff5-d3e21ab1d76e",
   "metadata": {},
   "source": [
    "text, python object --> byte   --  serailization \n",
    "byte --> python object   -- deserilisation "
   ]
  },
  {
   "cell_type": "code",
   "execution_count": 44,
   "id": "eb505799-5f21-447f-854b-eef3205c194e",
   "metadata": {},
   "outputs": [],
   "source": [
    "import json \n",
    "\n",
    "l =[1,23,232,232,3]\n",
    "\n",
    "with open('demo1.json','w') as f:\n",
    "    json.dump(l ,f)"
   ]
  },
  {
   "cell_type": "code",
   "execution_count": 46,
   "id": "0658258c-0b55-4910-a89b-145df3bf8eea",
   "metadata": {},
   "outputs": [
    {
     "name": "stdout",
     "output_type": "stream",
     "text": [
      "[1, 23, 232, 232, 3]\n"
     ]
    }
   ],
   "source": [
    "with open('demo1.json','r') as f:\n",
    "    d=json.load(f)\n",
    "    print(d)"
   ]
  },
  {
   "cell_type": "code",
   "execution_count": 48,
   "id": "d5fb06f6-a84c-430e-8cb9-98af606427c9",
   "metadata": {},
   "outputs": [
    {
     "data": {
      "text/plain": [
       "'C:\\\\Users\\\\DELL\\\\Documents'"
      ]
     },
     "execution_count": 48,
     "metadata": {},
     "output_type": "execute_result"
    }
   ],
   "source": [
    "import os \n",
    "os.getcwd()"
   ]
  },
  {
   "cell_type": "code",
   "execution_count": 7,
   "id": "277303e7-7c83-4338-9c96-d3d72bdc51b3",
   "metadata": {},
   "outputs": [
    {
     "ename": "NameError",
     "evalue": "name 'pwd' is not defined",
     "output_type": "error",
     "traceback": [
      "\u001b[1;31m---------------------------------------------------------------------------\u001b[0m",
      "\u001b[1;31mNameError\u001b[0m                                 Traceback (most recent call last)",
      "Cell \u001b[1;32mIn[7], line 1\u001b[0m\n\u001b[1;32m----> 1\u001b[0m pwd()\n",
      "\u001b[1;31mNameError\u001b[0m: name 'pwd' is not defined"
     ]
    }
   ],
   "source": [
    "pwd()\n",
    "#file dekhna"
   ]
  },
  {
   "cell_type": "code",
   "execution_count": 54,
   "id": "0473e48c-278f-449e-a1af-1db319c76b6b",
   "metadata": {},
   "outputs": [
    {
     "data": {
      "text/plain": [
       "[' Disconery.ipynb',\n",
       " ' inopter. projectipynb',\n",
       " ' Lambda Functions.ipynb',\n",
       " ' List Comprehension.ipynb',\n",
       " ' Snd..ipynb',\n",
       " '.ipynb_checkpoints',\n",
       " 'arun.txt',\n",
       " 'demo1.json',\n",
       " 'Dushyant.txt',\n",
       " 'Dussad.txt',\n",
       " 'My Music',\n",
       " 'My Pictures',\n",
       " 'My Videos',\n",
       " 'Print.ipynb',\n",
       " 'samp.txt',\n",
       " 'Set.ipynb',\n",
       " 'tuple.ipynb',\n",
       " 'Zip.ipynb']"
      ]
     },
     "execution_count": 54,
     "metadata": {},
     "output_type": "execute_result"
    }
   ],
   "source": [
    "os.listdir()\n",
    "# file ko find karne ke liye\n"
   ]
  },
  {
   "cell_type": "code",
   "execution_count": null,
   "id": "88965278-9c8b-4545-932d-cb5b7f13c88a",
   "metadata": {},
   "outputs": [],
   "source": []
  }
 ],
 "metadata": {
  "kernelspec": {
   "display_name": "Python [conda env:base] *",
   "language": "python",
   "name": "conda-base-py"
  },
  "language_info": {
   "codemirror_mode": {
    "name": "ipython",
    "version": 3
   },
   "file_extension": ".py",
   "mimetype": "text/x-python",
   "name": "python",
   "nbconvert_exporter": "python",
   "pygments_lexer": "ipython3",
   "version": "3.12.7"
  }
 },
 "nbformat": 4,
 "nbformat_minor": 5
}
