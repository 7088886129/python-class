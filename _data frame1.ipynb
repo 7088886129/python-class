{
 "cells": [
  {
   "cell_type": "code",
   "execution_count": 21,
   "id": "af032cf1-f723-4ffa-baf4-186291c55087",
   "metadata": {},
   "outputs": [],
   "source": [
    "import numpy as np\n",
    "import pandas as pd"
   ]
  },
  {
   "cell_type": "code",
   "execution_count": 66,
   "id": "b032a966-22f8-4e35-98a0-9cbf0173ccd6",
   "metadata": {},
   "outputs": [
    {
     "name": "stdout",
     "output_type": "stream",
     "text": [
      "    Name  Age    City\n",
      "0   Arun   25   Noida\n",
      "1  Rohit   30   Delhi\n",
      "2   Neha   22  Mumbai\n",
      "3  Pooja   28    Pune\n"
     ]
    }
   ],
   "source": [
    "d = {\n",
    "    'Name': ['Arun','Dushyant','Nishant','Mohit','Ashish','Mukul','Nandini','Akash'],\n",
    "    'Age': [23,24,25,26,27,28,29,30],\n",
    "    'City': ['Agra','Mathura','Aligarh','Nodia','Delhi','Lucknow','Gurgaon','Prayajraj']\n",
    "}\n",
    "d= pd.DataFrame(data)\n",
    "print(d)"
   ]
  },
  {
   "cell_type": "code",
   "execution_count": 23,
   "id": "b842251d-8cfd-4f02-82ec-e8094d5acdbe",
   "metadata": {},
   "outputs": [
    {
     "name": "stdout",
     "output_type": "stream",
     "text": [
      "    Name  Age    City\n",
      "0   Arun   25   Noida\n",
      "1  Rohit   30   Delhi\n",
      "2   Neha   22  Mumbai\n",
      "3  Pooja   28    Pune\n"
     ]
    }
   ],
   "source": [
    "# Sample data\n",
    "data = {\n",
    "    'Name': ['Arun', 'Rohit', 'Neha', 'Pooja'],\n",
    "    'Age': [25, 30, 22, 28],\n",
    "    'City': ['Noida', 'Delhi', 'Mumbai', 'Pune']\n",
    "}\n",
    "\n",
    "# Creating a DataFrame\n",
    "df = pd.DataFrame(data)\n",
    "\n",
    "# Display DataFrame\n",
    "print(df)"
   ]
  },
  {
   "cell_type": "code",
   "execution_count": 31,
   "id": "1b609939-56ff-46eb-907a-2e0bb4aa5478",
   "metadata": {},
   "outputs": [
    {
     "name": "stdout",
     "output_type": "stream",
     "text": [
      "(4, 3)\n",
      "Index(['Name', 'Age', 'City'], dtype='object')\n",
      "Name    object\n",
      "Age      int64\n",
      "City    object\n",
      "dtype: object\n",
      "<class 'pandas.core.frame.DataFrame'>\n",
      "RangeIndex: 4 entries, 0 to 3\n",
      "Data columns (total 3 columns):\n",
      " #   Column  Non-Null Count  Dtype \n",
      "---  ------  --------------  ----- \n",
      " 0   Name    4 non-null      object\n",
      " 1   Age     4 non-null      int64 \n",
      " 2   City    4 non-null      object\n",
      "dtypes: int64(1), object(2)\n",
      "memory usage: 228.0+ bytes\n",
      "None\n",
      "         Age\n",
      "count   4.00\n",
      "mean   26.25\n",
      "std     3.50\n",
      "min    22.00\n",
      "25%    24.25\n",
      "50%    26.50\n",
      "75%    28.50\n",
      "max    30.00\n"
     ]
    }
   ],
   "source": [
    "print(df.shape)   # Rows & Columns ka size batata hai\n",
    "print(df.columns) # Column ke names batata hai\n",
    "print(df.dtypes)  # Column ka data type batata hai\n",
    "print(df.info())  # Complete summary deta hai\n",
    "print(df.describe()) # Numerical columns ka statistics deta hai"
   ]
  },
  {
   "cell_type": "code",
   "execution_count": 57,
   "id": "fd894937-d6b8-437c-8de7-b3c393147aaf",
   "metadata": {},
   "outputs": [
    {
     "name": "stdout",
     "output_type": "stream",
     "text": [
      "(8, 3)\n"
     ]
    }
   ],
   "source": [
    "print(d.shape)"
   ]
  },
  {
   "cell_type": "code",
   "execution_count": 59,
   "id": "4c5df6fd-596e-4541-a482-06fa96866b09",
   "metadata": {},
   "outputs": [
    {
     "name": "stdout",
     "output_type": "stream",
     "text": [
      "Index(['name', 'age', 'city'], dtype='object')\n"
     ]
    }
   ],
   "source": [
    "print(df.columns)"
   ]
  },
  {
   "cell_type": "code",
   "execution_count": 43,
   "id": "7e3a0c96-d4b6-4379-87ca-08294e589277",
   "metadata": {},
   "outputs": [
    {
     "name": "stdout",
     "output_type": "stream",
     "text": [
      "name    object\n",
      "age      int64\n",
      "city    object\n",
      "dtype: object\n"
     ]
    }
   ],
   "source": [
    "print(df.dtypes)"
   ]
  },
  {
   "cell_type": "code",
   "execution_count": 47,
   "id": "195a5205-e2fe-4964-b87b-bbfc515a37c6",
   "metadata": {},
   "outputs": [
    {
     "name": "stdout",
     "output_type": "stream",
     "text": [
      "<class 'pandas.core.frame.DataFrame'>\n",
      "RangeIndex: 8 entries, 0 to 7\n",
      "Data columns (total 3 columns):\n",
      " #   Column  Non-Null Count  Dtype \n",
      "---  ------  --------------  ----- \n",
      " 0   name    8 non-null      object\n",
      " 1   age     8 non-null      int64 \n",
      " 2   city    8 non-null      object\n",
      "dtypes: int64(1), object(2)\n",
      "memory usage: 324.0+ bytes\n",
      "None\n"
     ]
    }
   ],
   "source": [
    "print(df.info())"
   ]
  },
  {
   "cell_type": "code",
   "execution_count": 51,
   "id": "27816403-9ed5-4c53-9b03-41ca28ea9e70",
   "metadata": {},
   "outputs": [
    {
     "name": "stdout",
     "output_type": "stream",
     "text": [
      "            age\n",
      "count   8.00000\n",
      "mean   26.50000\n",
      "std     2.44949\n",
      "min    23.00000\n",
      "25%    24.75000\n",
      "50%    26.50000\n",
      "75%    28.25000\n",
      "max    30.00000\n"
     ]
    }
   ],
   "source": [
    "print(df.describe())"
   ]
  },
  {
   "cell_type": "code",
   "execution_count": 69,
   "id": "8b3e8b90-5385-4b3e-abb2-cebbd9e6c17c",
   "metadata": {},
   "outputs": [
    {
     "name": "stdout",
     "output_type": "stream",
     "text": [
      "name    nishant\n",
      "age          25\n",
      "city    aligarh\n",
      "Name: 2, dtype: object\n"
     ]
    }
   ],
   "source": [
    "print(df.iloc[2])   # 2nd row ko access karna (index 1)"
   ]
  },
  {
   "cell_type": "code",
   "execution_count": 67,
   "id": "8e888c0b-741e-4f9c-8bc8-6191feeee686",
   "metadata": {},
   "outputs": [
    {
     "name": "stdout",
     "output_type": "stream",
     "text": [
      "       name  age     city\n",
      "1  dushyant   24  mathura\n",
      "2   nishant   25  aligarh\n",
      "3     mohit   26    nodia\n"
     ]
    }
   ],
   "source": [
    "print(df.iloc[1:4]) # 2nd aur 3rd row ko access karna"
   ]
  },
  {
   "cell_type": "markdown",
   "id": "b53e2f2c-07a7-4774-9a9f-79ce8035e1dc",
   "metadata": {},
   "source": [
    "Data Manipulation\n",
    "(a) Naye column add karna"
   ]
  },
  {
   "cell_type": "code",
   "execution_count": 74,
   "id": "85295cb4-8a68-44fa-9131-169320fe8912",
   "metadata": {},
   "outputs": [
    {
     "name": "stdout",
     "output_type": "stream",
     "text": [
      "       name  age       city  salary\n",
      "0      arun   23       agra    6500\n",
      "1  dushyant   24    mathura    7500\n",
      "2   nishant   25    aligarh    8500\n",
      "3     mohit   26      nodia    9500\n",
      "4    ashish   27      delhi   10500\n",
      "5     mukul   28    lucknow   11500\n",
      "6   nandini   29    gurgaon   12500\n",
      "7     akash   30  prayajraj   13500\n"
     ]
    }
   ],
   "source": [
    "df['salary']=[6500,7500,8500,9500,10500,11500,12500,13500]\n",
    "print(df)"
   ]
  },
  {
   "cell_type": "code",
   "execution_count": 76,
   "id": "0758d2f9-c5f6-46c1-86db-f278685b905b",
   "metadata": {},
   "outputs": [
    {
     "data": {
      "text/html": [
       "<div>\n",
       "<style scoped>\n",
       "    .dataframe tbody tr th:only-of-type {\n",
       "        vertical-align: middle;\n",
       "    }\n",
       "\n",
       "    .dataframe tbody tr th {\n",
       "        vertical-align: top;\n",
       "    }\n",
       "\n",
       "    .dataframe thead th {\n",
       "        text-align: right;\n",
       "    }\n",
       "</style>\n",
       "<table border=\"1\" class=\"dataframe\">\n",
       "  <thead>\n",
       "    <tr style=\"text-align: right;\">\n",
       "      <th></th>\n",
       "      <th>name</th>\n",
       "      <th>age</th>\n",
       "      <th>city</th>\n",
       "      <th>salary</th>\n",
       "    </tr>\n",
       "  </thead>\n",
       "  <tbody>\n",
       "    <tr>\n",
       "      <th>0</th>\n",
       "      <td>False</td>\n",
       "      <td>False</td>\n",
       "      <td>False</td>\n",
       "      <td>False</td>\n",
       "    </tr>\n",
       "    <tr>\n",
       "      <th>1</th>\n",
       "      <td>False</td>\n",
       "      <td>False</td>\n",
       "      <td>False</td>\n",
       "      <td>False</td>\n",
       "    </tr>\n",
       "    <tr>\n",
       "      <th>2</th>\n",
       "      <td>False</td>\n",
       "      <td>False</td>\n",
       "      <td>False</td>\n",
       "      <td>False</td>\n",
       "    </tr>\n",
       "    <tr>\n",
       "      <th>3</th>\n",
       "      <td>False</td>\n",
       "      <td>False</td>\n",
       "      <td>False</td>\n",
       "      <td>False</td>\n",
       "    </tr>\n",
       "    <tr>\n",
       "      <th>4</th>\n",
       "      <td>False</td>\n",
       "      <td>False</td>\n",
       "      <td>False</td>\n",
       "      <td>False</td>\n",
       "    </tr>\n",
       "    <tr>\n",
       "      <th>5</th>\n",
       "      <td>False</td>\n",
       "      <td>False</td>\n",
       "      <td>False</td>\n",
       "      <td>False</td>\n",
       "    </tr>\n",
       "    <tr>\n",
       "      <th>6</th>\n",
       "      <td>False</td>\n",
       "      <td>False</td>\n",
       "      <td>False</td>\n",
       "      <td>False</td>\n",
       "    </tr>\n",
       "    <tr>\n",
       "      <th>7</th>\n",
       "      <td>False</td>\n",
       "      <td>False</td>\n",
       "      <td>False</td>\n",
       "      <td>False</td>\n",
       "    </tr>\n",
       "  </tbody>\n",
       "</table>\n",
       "</div>"
      ],
      "text/plain": [
       "    name    age   city  salary\n",
       "0  False  False  False   False\n",
       "1  False  False  False   False\n",
       "2  False  False  False   False\n",
       "3  False  False  False   False\n",
       "4  False  False  False   False\n",
       "5  False  False  False   False\n",
       "6  False  False  False   False\n",
       "7  False  False  False   False"
      ]
     },
     "execution_count": 76,
     "metadata": {},
     "output_type": "execute_result"
    }
   ],
   "source": [
    "df.isnull()"
   ]
  },
  {
   "cell_type": "code",
   "execution_count": 80,
   "id": "af89e3c4-1e14-494a-87ce-51d0755ac136",
   "metadata": {},
   "outputs": [
    {
     "name": "stdout",
     "output_type": "stream",
     "text": [
      "       name  age       city  salary     Contact\n",
      "0      arun   23       agra    6500    99999999\n",
      "1  dushyant   24    mathura    7500   525762532\n",
      "2   nishant   25    aligarh    8500   852037426\n",
      "3     mohit   26      nodia    9500   163573592\n",
      "4    ashish   27      delhi   10500  1283665373\n",
      "5     mukul   28    lucknow   11500  3421886895\n",
      "6   nandini   29    gurgaon   12500  8006053914\n",
      "7     akash   30  prayajraj   13500   164676567\n"
     ]
    }
   ],
   "source": [
    "df['Contact']=[99999999,525762532,852037426,163573592,1283665373,3421886895,8006053914,164676567]\n",
    "print(df)"
   ]
  },
  {
   "cell_type": "code",
   "execution_count": 1,
   "id": "3ff86ad3-4655-4839-907d-913e06ee5304",
   "metadata": {},
   "outputs": [],
   "source": [
    "import numpy as np\n",
    "import pandas as pd"
   ]
  },
  {
   "cell_type": "code",
   "execution_count": 64,
   "id": "58dcc954-ad44-4872-a520-5e16945c88b3",
   "metadata": {},
   "outputs": [
    {
     "data": {
      "text/html": [
       "<div>\n",
       "<style scoped>\n",
       "    .dataframe tbody tr th:only-of-type {\n",
       "        vertical-align: middle;\n",
       "    }\n",
       "\n",
       "    .dataframe tbody tr th {\n",
       "        vertical-align: top;\n",
       "    }\n",
       "\n",
       "    .dataframe thead th {\n",
       "        text-align: right;\n",
       "    }\n",
       "</style>\n",
       "<table border=\"1\" class=\"dataframe\">\n",
       "  <thead>\n",
       "    <tr style=\"text-align: right;\">\n",
       "      <th></th>\n",
       "      <th>Name</th>\n",
       "      <th>Age</th>\n",
       "      <th>City</th>\n",
       "    </tr>\n",
       "  </thead>\n",
       "  <tbody>\n",
       "    <tr>\n",
       "      <th>0</th>\n",
       "      <td>Arun</td>\n",
       "      <td>25</td>\n",
       "      <td>Noida</td>\n",
       "    </tr>\n",
       "    <tr>\n",
       "      <th>1</th>\n",
       "      <td>Rohit</td>\n",
       "      <td>30</td>\n",
       "      <td>Delhi</td>\n",
       "    </tr>\n",
       "    <tr>\n",
       "      <th>2</th>\n",
       "      <td>Neha</td>\n",
       "      <td>22</td>\n",
       "      <td>Mumbai</td>\n",
       "    </tr>\n",
       "    <tr>\n",
       "      <th>3</th>\n",
       "      <td>Pooja</td>\n",
       "      <td>28</td>\n",
       "      <td>Pune</td>\n",
       "    </tr>\n",
       "  </tbody>\n",
       "</table>\n",
       "</div>"
      ],
      "text/plain": [
       "    Name  Age    City\n",
       "0   Arun   25   Noida\n",
       "1  Rohit   30   Delhi\n",
       "2   Neha   22  Mumbai\n",
       "3  Pooja   28    Pune"
      ]
     },
     "execution_count": 64,
     "metadata": {},
     "output_type": "execute_result"
    }
   ],
   "source": [
    "df.head(4)"
   ]
  },
  {
   "cell_type": "code",
   "execution_count": null,
   "id": "4b479367-d98f-494f-a490-e7c219e51774",
   "metadata": {},
   "outputs": [],
   "source": []
  }
 ],
 "metadata": {
  "kernelspec": {
   "display_name": "Python 3 (ipykernel)",
   "language": "python",
   "name": "python3"
  },
  "language_info": {
   "codemirror_mode": {
    "name": "ipython",
    "version": 3
   },
   "file_extension": ".py",
   "mimetype": "text/x-python",
   "name": "python",
   "nbconvert_exporter": "python",
   "pygments_lexer": "ipython3",
   "version": "3.12.7"
  }
 },
 "nbformat": 4,
 "nbformat_minor": 5
}
