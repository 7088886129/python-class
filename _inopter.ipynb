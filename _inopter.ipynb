{
 "cells": [
  {
   "cell_type": "code",
   "execution_count": 5,
   "id": "7b8f5ede-0f4b-45bf-a422-967a81e27d3c",
   "metadata": {},
   "outputs": [
    {
     "name": "stdin",
     "output_type": "stream",
     "text": [
      "Enter the first age:  14\n",
      "Enter the second age:  15\n",
      "Enter the third age:  23\n"
     ]
    },
    {
     "name": "stdout",
     "output_type": "stream",
     "text": [
      "23\n"
     ]
    }
   ],
   "source": [
    "a = int(input(\"Enter the first age: \"))\n",
    "b = int(input(\"Enter the second age: \"))\n",
    "c = int(input(\"Enter the third age: \"))\n",
    "\n",
    "max_age = a\n",
    "\n",
    "if max_age < b:\n",
    "    max_age = b\n",
    "if max_age < c:\n",
    "    max_age = c\n",
    "\n",
    "print(max_age)"
   ]
  },
  {
   "cell_type": "code",
   "execution_count": 7,
   "id": "bb843c9b-a3ac-4be9-8d3f-e2359333899d",
   "metadata": {},
   "outputs": [
    {
     "name": "stdin",
     "output_type": "stream",
     "text": [
      "Enter the temperature in Celsius:  32\n"
     ]
    },
    {
     "name": "stdout",
     "output_type": "stream",
     "text": [
      "89.6\n"
     ]
    }
   ],
   "source": [
    "temp = float(input(\"Enter the temperature in Celsius: \"))\n",
    "fahrenheit = (temp * 1.8) + 32\n",
    "print(fahrenheit)"
   ]
  },
  {
   "cell_type": "code",
   "execution_count": 11,
   "id": "21b21100-3db3-48d8-a6cb-af11390ae452",
   "metadata": {},
   "outputs": [
    {
     "name": "stdin",
     "output_type": "stream",
     "text": [
      "Enter the value of a :  13\n",
      "Enter the value of b:  12\n"
     ]
    },
    {
     "name": "stdout",
     "output_type": "stream",
     "text": [
      "value of a:  12\n",
      "value of b:  13\n"
     ]
    }
   ],
   "source": [
    "a = int(input(\"Enter the value of a : \"))\n",
    "b = int(input(\"Enter the value of b: \"))\n",
    "\n",
    "temp = a\n",
    "a = b\n",
    "b = temp\n",
    "\n",
    "print(\"value of a: \", a)\n",
    "print(\"value of b: \", b)"
   ]
  },
  {
   "cell_type": "code",
   "execution_count": 37,
   "id": "0f2d09a9-bb3d-4929-95a4-a5a783f50849",
   "metadata": {},
   "outputs": [
    {
     "name": "stdin",
     "output_type": "stream",
     "text": [
      "Enter the three-digit number:  35\n"
     ]
    },
    {
     "name": "stdout",
     "output_type": "stream",
     "text": [
      "8\n"
     ]
    }
   ],
   "source": [
    "num = int(input(\"Enter the three-digit number: \"))\n",
    "\n",
    "a = num % 10  # (123 % 10 = 3)\n",
    "num = num // 10  # (123 // 10 = 12)\n",
    "b = num % 10  # (12 % 10 = 2)\n",
    "c = num // 10  # (12 // 10 = 1)\n",
    "rev = (a + b + c)\n",
    "\n",
    "print(rev)"
   ]
  },
  {
   "cell_type": "code",
   "execution_count": 39,
   "id": "019586c3-f4c4-4e45-837d-6f6135e238c6",
   "metadata": {},
   "outputs": [],
   "source": [
    "num=35"
   ]
  },
  {
   "cell_type": "code",
   "execution_count": 41,
   "id": "b7c202fc-f5a9-449b-895f-b7911aae7a38",
   "metadata": {},
   "outputs": [],
   "source": [
    "a = num % 10 "
   ]
  },
  {
   "cell_type": "code",
   "execution_count": 43,
   "id": "1e224146-bf23-43eb-a581-7bed4d974dfe",
   "metadata": {},
   "outputs": [
    {
     "data": {
      "text/plain": [
       "5"
      ]
     },
     "execution_count": 43,
     "metadata": {},
     "output_type": "execute_result"
    }
   ],
   "source": [
    "a"
   ]
  },
  {
   "cell_type": "code",
   "execution_count": 45,
   "id": "1c807195-b112-47d9-94ad-4c317d683683",
   "metadata": {},
   "outputs": [],
   "source": [
    "num = num // 10"
   ]
  },
  {
   "cell_type": "code",
   "execution_count": 47,
   "id": "6b4ad954-eff8-4371-9396-c606beb2a7b1",
   "metadata": {},
   "outputs": [
    {
     "data": {
      "text/plain": [
       "3"
      ]
     },
     "execution_count": 47,
     "metadata": {},
     "output_type": "execute_result"
    }
   ],
   "source": [
    "num"
   ]
  },
  {
   "cell_type": "code",
   "execution_count": 49,
   "id": "046d05e5-c5e8-4db9-8eef-edeed82f3d04",
   "metadata": {},
   "outputs": [],
   "source": [
    "b = num % 10"
   ]
  },
  {
   "cell_type": "code",
   "execution_count": 51,
   "id": "d7cb3bc7-077c-4dd6-8b5f-f57a6fb55f8d",
   "metadata": {},
   "outputs": [
    {
     "data": {
      "text/plain": [
       "3"
      ]
     },
     "execution_count": 51,
     "metadata": {},
     "output_type": "execute_result"
    }
   ],
   "source": [
    "b"
   ]
  },
  {
   "cell_type": "code",
   "execution_count": 53,
   "id": "8a3651b0-407d-4ea9-9da8-8f8565822a09",
   "metadata": {},
   "outputs": [],
   "source": [
    "c = num // 10"
   ]
  },
  {
   "cell_type": "code",
   "execution_count": 55,
   "id": "3ce66ddf-991f-4759-a952-18bbf43e1e46",
   "metadata": {},
   "outputs": [
    {
     "data": {
      "text/plain": [
       "0"
      ]
     },
     "execution_count": 55,
     "metadata": {},
     "output_type": "execute_result"
    }
   ],
   "source": [
    "c"
   ]
  },
  {
   "cell_type": "code",
   "execution_count": 57,
   "id": "530eb8b1-024a-4c8d-9b48-53b2244cd230",
   "metadata": {},
   "outputs": [],
   "source": [
    "rev = (a + b + c)"
   ]
  },
  {
   "cell_type": "code",
   "execution_count": 59,
   "id": "ad921f78-1faa-4885-acf1-61cde4d07e7d",
   "metadata": {},
   "outputs": [
    {
     "data": {
      "text/plain": [
       "8"
      ]
     },
     "execution_count": 59,
     "metadata": {},
     "output_type": "execute_result"
    }
   ],
   "source": [
    "rev"
   ]
  },
  {
   "cell_type": "code",
   "execution_count": 61,
   "id": "a51fbeef-7e70-46bc-8028-7697c3050819",
   "metadata": {},
   "outputs": [
    {
     "name": "stdin",
     "output_type": "stream",
     "text": [
      "Enter your number:  36\n"
     ]
    },
    {
     "name": "stdout",
     "output_type": "stream",
     "text": [
      "Even\n"
     ]
    }
   ],
   "source": [
    "num = int(input(\"Enter your number: \"))\n",
    "\n",
    "if num % 2 == 0:\n",
    "    print(\"Even\")\n",
    "else:\n",
    "    print(\"Odd\")\n",
    "    "
   ]
  },
  {
   "cell_type": "code",
   "execution_count": 63,
   "id": "e26e6f74-2934-4959-9421-cbad2c363419",
   "metadata": {},
   "outputs": [
    {
     "name": "stdin",
     "output_type": "stream",
     "text": [
      "Enter your year:  2025\n"
     ]
    },
    {
     "name": "stdout",
     "output_type": "stream",
     "text": [
      "Not a leap year\n"
     ]
    }
   ],
   "source": [
    "year = int(input(\"Enter your year: \"))\n",
    "\n",
    "if year % 4 == 0:\n",
    "    print(\"Leap year\")\n",
    "else:\n",
    "    print(\"Not a leap year\")"
   ]
  },
  {
   "cell_type": "code",
   "execution_count": 65,
   "id": "48fe9a56-9c18-4375-b70c-6278cc4117fd",
   "metadata": {},
   "outputs": [
    {
     "name": "stdin",
     "output_type": "stream",
     "text": [
      "Enter x1 of x coordinate:  3\n",
      "Enter y1 of y coordinate:  5\n",
      "Enter x2 of x coordinate:  4\n",
      "Enter y2 of y coordinate:  6\n"
     ]
    },
    {
     "name": "stdout",
     "output_type": "stream",
     "text": [
      "1.4142135623730951\n"
     ]
    }
   ],
   "source": [
    "x_1 = float(input(\"Enter x1 of x coordinate: \"))\n",
    "y_1 = float(input(\"Enter y1 of y coordinate: \"))\n",
    "\n",
    "x_2 = float(input(\"Enter x2 of x coordinate: \"))\n",
    "y_2 = float(input(\"Enter y2 of y coordinate: \"))\n",
    "\n",
    "d = ((x_2 - x_1)**2 + (y_2 - y_1)**2)**0.5\n",
    "\n",
    "print(d)"
   ]
  },
  {
   "cell_type": "code",
   "execution_count": 69,
   "id": "98f42aae-8f62-47d2-b3f3-983dd55bf2de",
   "metadata": {},
   "outputs": [
    {
     "name": "stdin",
     "output_type": "stream",
     "text": [
      "Enter your first angle:  50\n",
      "Enter your second angle:  50\n",
      "Enter your third angle:  80\n"
     ]
    },
    {
     "name": "stdout",
     "output_type": "stream",
     "text": [
      "Possible\n"
     ]
    }
   ],
   "source": [
    "a = int(input(\"Enter your first angle: \"))   \n",
    "b = int(input(\"Enter your second angle: \"))  \n",
    "c = int(input(\"Enter your third angle: \"))   \n",
    "\n",
    "if a + b + c == 180 and a != 0 and b != 0 and c != 0:\n",
    "    print(\"Possible\")\n",
    "else:\n",
    "    print(\"Not Possible\")"
   ]
  },
  {
   "cell_type": "code",
   "execution_count": 3,
   "id": "4d604e41-d474-4e0d-8138-b5f68c213273",
   "metadata": {},
   "outputs": [
    {
     "name": "stdin",
     "output_type": "stream",
     "text": [
      "Enter your cost price:  12300\n",
      "Enter your selling price:  15000\n"
     ]
    },
    {
     "name": "stdout",
     "output_type": "stream",
     "text": [
      "Profit: 2700.0\n"
     ]
    }
   ],
   "source": [
    "cp = float(input(\"Enter your cost price: \"))\n",
    "sp = float(input(\"Enter your selling price: \"))\n",
    "\n",
    "if cp > sp:\n",
    "    amount = cp - sp\n",
    "    print(\"Loss:\", amount)\n",
    "else:\n",
    "    amount = sp - cp\n",
    "    print(\"Profit:\", amount)"
   ]
  },
  {
   "cell_type": "code",
   "execution_count": 1,
   "id": "5e719d42-6c98-4f41-92ba-d3072f613e5d",
   "metadata": {},
   "outputs": [
    {
     "name": "stdin",
     "output_type": "stream",
     "text": [
      "Enter principal:  125542\n",
      "Enter rate of interest:  12\n",
      "Enter time period in years:  3\n"
     ]
    },
    {
     "name": "stdout",
     "output_type": "stream",
     "text": [
      "Your Simple Interest is:  45195.12\n",
      "Your Amount is:  170737.12\n"
     ]
    }
   ],
   "source": [
    "p = int(input(\"Enter principal: \"))\n",
    "r = int(input(\"Enter rate of interest: \"))\n",
    "t = int(input(\"Enter time period in years: \"))\n",
    "\n",
    "si = (p * r * t) / 100\n",
    "\n",
    "print(\"Your Simple Interest is: \", si)\n",
    "\n",
    "a = p + si\n",
    "print(\"Your Amount is: \", a)"
   ]
  },
  {
   "cell_type": "code",
   "execution_count": 5,
   "id": "68e99289-02a3-43e8-b5f7-0db292c752d1",
   "metadata": {},
   "outputs": [
    {
     "name": "stdin",
     "output_type": "stream",
     "text": [
      "Enter the temperature in Celsius:  12\n"
     ]
    },
    {
     "name": "stdout",
     "output_type": "stream",
     "text": [
      "53.6\n"
     ]
    }
   ],
   "source": [
    "temp = float(input(\"Enter the temperature in Celsius: \"))\n",
    "fahrenheit = (temp * 1.8) + 32\n",
    "print(fahrenheit)"
   ]
  },
  {
   "cell_type": "code",
   "execution_count": 23,
   "id": "aaccb74e-9ed5-4794-8551-ee566619f291",
   "metadata": {},
   "outputs": [
    {
     "name": "stdin",
     "output_type": "stream",
     "text": [
      "Enter the fahrenheit in kelwin:  12\n"
     ]
    },
    {
     "name": "stdout",
     "output_type": "stream",
     "text": [
      "262.0388888888889\n"
     ]
    }
   ],
   "source": [
    "fahr=float(input(\"Enter the fahrenheit in kelwin: \"))\n",
    "temperature = (fahr-32)*5/9+273.15\n",
    "print(temperature)"
   ]
  },
  {
   "cell_type": "code",
   "execution_count": null,
   "id": "ca5e9e98-a09b-46d2-b07d-d4561aaabb9f",
   "metadata": {},
   "outputs": [],
   "source": []
  }
 ],
 "metadata": {
  "kernelspec": {
   "display_name": "Python [conda env:base] *",
   "language": "python",
   "name": "conda-base-py"
  },
  "language_info": {
   "codemirror_mode": {
    "name": "ipython",
    "version": 3
   },
   "file_extension": ".py",
   "mimetype": "text/x-python",
   "name": "python",
   "nbconvert_exporter": "python",
   "pygments_lexer": "ipython3",
   "version": "3.12.7"
  }
 },
 "nbformat": 4,
 "nbformat_minor": 5
}
