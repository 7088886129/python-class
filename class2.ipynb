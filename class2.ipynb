{
 "cells": [
  {
   "cell_type": "code",
   "execution_count": 2,
   "id": "20b188b6-f5ee-4bdb-a5eb-026830d4824f",
   "metadata": {},
   "outputs": [],
   "source": [
    "a = 10"
   ]
  },
  {
   "cell_type": "code",
   "execution_count": 4,
   "id": "d642e0b9-d0b9-4bd8-ba12-181a0310e357",
   "metadata": {},
   "outputs": [],
   "source": [
    "a = str(10)"
   ]
  },
  {
   "cell_type": "code",
   "execution_count": 6,
   "id": "a07130e5-1264-4f8c-9472-acbf2b6242e2",
   "metadata": {},
   "outputs": [
    {
     "data": {
      "text/plain": [
       "str"
      ]
     },
     "execution_count": 6,
     "metadata": {},
     "output_type": "execute_result"
    }
   ],
   "source": [
    "type(a)"
   ]
  },
  {
   "cell_type": "code",
   "execution_count": 1,
   "id": "cbf6256d-8345-45b8-a557-755fa918118f",
   "metadata": {},
   "outputs": [],
   "source": [
    "b = (\"ram\")"
   ]
  },
  {
   "cell_type": "markdown",
   "id": "a60deab6-7286-4138-998d-aad2a71e8cfc",
   "metadata": {},
   "source": [
    "int\n",
    "float\n",
    "string\n",
    "boolean"
   ]
  },
  {
   "cell_type": "code",
   "execution_count": 16,
   "id": "cedbf1d9-9d01-4ae8-a290-f46916a420fb",
   "metadata": {},
   "outputs": [
    {
     "name": "stdout",
     "output_type": "stream",
     "text": [
      "\n"
     ]
    }
   ],
   "source": [
    "print() # statement"
   ]
  },
  {
   "cell_type": "code",
   "execution_count": null,
   "id": "b6d344d6-159f-4c0a-b174-deebad9d04f2",
   "metadata": {},
   "outputs": [],
   "source": [
    "return # statment\n",
    "pass - "
   ]
  },
  {
   "cell_type": "markdown",
   "id": "70ddeec0-32d9-492c-a211-916312261f8b",
   "metadata": {},
   "source": [
    "opreator"
   ]
  },
  {
   "cell_type": "code",
   "execution_count": 23,
   "id": "c75c63fd-6471-4176-8a3d-427f070142c6",
   "metadata": {},
   "outputs": [],
   "source": [
    "a=10\n",
    "c=5"
   ]
  },
  {
   "cell_type": "code",
   "execution_count": 25,
   "id": "bfa6c212-79d4-4b27-975f-907d25e409b6",
   "metadata": {},
   "outputs": [
    {
     "name": "stdout",
     "output_type": "stream",
     "text": [
      "addition:- 15\n",
      "sutraction:- 5\n",
      "multiply:- 50\n",
      "devidation:- 2.0\n",
      "Integer Division:- 2\n",
      "modulas:- 0\n",
      "expotential:- 100000\n"
     ]
    }
   ],
   "source": [
    "#arithme\n",
    "print(\"addition:-\",a+c)\n",
    "print(\"sutraction:-\",a-c)\n",
    "print(\"multiply:-\",a*c)\n",
    "print(\"devidation:-\",a/c)\n",
    "print(\"Integer Division:-\",a//c)\n",
    "print(\"modulas:-\",a%c)\n",
    "print(\"expotential:-\",a**c)"
   ]
  },
  {
   "cell_type": "code",
   "execution_count": 27,
   "id": "4edadd02-a5d6-4b22-90c8-0ceafa046a5f",
   "metadata": {},
   "outputs": [
    {
     "name": "stdout",
     "output_type": "stream",
     "text": [
      "False\n",
      "True\n",
      "False\n",
      "True\n",
      "False\n",
      "True\n"
     ]
    }
   ],
   "source": [
    "x = 5\n",
    "y = 8\n",
    "\n",
    "print(x == y)  # False\n",
    "print(x != y)  # True\n",
    "print(x > y)   # False\n",
    "print(x < y)   # True\n",
    "print(x >= y)  # False\n",
    "print(x <= y)  # True"
   ]
  },
  {
   "cell_type": "code",
   "execution_count": 29,
   "id": "329c6917-42c3-4139-a2df-ff78a82888d8",
   "metadata": {},
   "outputs": [
    {
     "name": "stdout",
     "output_type": "stream",
     "text": [
      "False\n",
      "True\n",
      "False\n",
      "True\n"
     ]
    }
   ],
   "source": [
    "a = True\n",
    "b = False\n",
    "\n",
    "print(a and b)  # False\n",
    "print(a or b)   # True\n",
    "print(not a)    # False\n",
    "print(not b)    # True"
   ]
  },
  {
   "cell_type": "code",
   "execution_count": 31,
   "id": "52303b0a-89e1-4212-82ed-572fd69e1bcc",
   "metadata": {},
   "outputs": [
    {
     "name": "stdout",
     "output_type": "stream",
     "text": [
      "0\n",
      "1\n",
      "False\n",
      "True\n"
     ]
    }
   ],
   "source": [
    "a = 1\n",
    "b = 0\n",
    "\n",
    "print(a and b)  # False\n",
    "print(a or b)   # True\n",
    "print(not a)    # False\n",
    "print(not b)    # True"
   ]
  },
  {
   "cell_type": "code",
   "execution_count": 35,
   "id": "1f238a0b-c55b-454e-90a2-18a5c39310f0",
   "metadata": {},
   "outputs": [
    {
     "data": {
      "text/plain": [
       "2"
      ]
     },
     "execution_count": 35,
     "metadata": {},
     "output_type": "execute_result"
    }
   ],
   "source": [
    "True+True"
   ]
  },
  {
   "cell_type": "code",
   "execution_count": 37,
   "id": "f72102ea-ebba-4d6a-a632-214dd7a5a69b",
   "metadata": {},
   "outputs": [
    {
     "data": {
      "text/plain": [
       "1"
      ]
     },
     "execution_count": 37,
     "metadata": {},
     "output_type": "execute_result"
    }
   ],
   "source": [
    "True+False"
   ]
  },
  {
   "cell_type": "code",
   "execution_count": 39,
   "id": "d7c1e125-8dfa-407e-8989-6ada8d00efba",
   "metadata": {},
   "outputs": [
    {
     "data": {
      "text/plain": [
       "0"
      ]
     },
     "execution_count": 39,
     "metadata": {},
     "output_type": "execute_result"
    }
   ],
   "source": [
    "False+False"
   ]
  },
  {
   "cell_type": "code",
   "execution_count": 43,
   "id": "9bec2fcd-9473-4445-8f4f-e02f6beabcbf",
   "metadata": {},
   "outputs": [
    {
     "name": "stdout",
     "output_type": "stream",
     "text": [
      "x = 10\n",
      "x after += 5: 15\n",
      "x after -= 3: 12\n",
      "x after *= 2: 24\n",
      "x after /= 4: 6.0\n",
      "x after %= 2: 0.0\n",
      "x after **= 3: 8\n"
     ]
    }
   ],
   "source": [
    "# +=, -=, *=, /=, %=, **=, //=\n",
    "\n",
    "x = 10  # Assign\n",
    "print(\"x =\", x)\n",
    "\n",
    "x += 5  # x = x + 5\n",
    "print(\"x after += 5:\", x)\n",
    "\n",
    "x -= 3  # x = x - 3\n",
    "print(\"x after -= 3:\", x)\n",
    "\n",
    "x *= 2  # x = x * 2\n",
    "print(\"x after *= 2:\", x)\n",
    "\n",
    "x /= 4  # x = x / 4\n",
    "print(\"x after /= 4:\", x)\n",
    "\n",
    "x %= 2  # x = x % 2\n",
    "print(\"x after %= 2:\", x)\n",
    "\n",
    "x = 2\n",
    "x **= 3  # x = x ** 3\n",
    "print(\"x after **= 3:\", x)\n",
    "\n"
   ]
  },
  {
   "cell_type": "code",
   "execution_count": 45,
   "id": "26eca3f8-378f-45a3-abbe-987da305419a",
   "metadata": {},
   "outputs": [
    {
     "name": "stdout",
     "output_type": "stream",
     "text": [
      "True\n",
      "False\n",
      "True\n"
     ]
    }
   ],
   "source": [
    "lst = [1, 2, 3, 4]\n",
    "\n",
    "print(2 in lst)  # True\n",
    "print(5 in lst)  # False\n",
    "print(5 not in lst)  # True"
   ]
  },
  {
   "cell_type": "code",
   "execution_count": null,
   "id": "1bed4140-c59b-4175-9583-e248e3dc875b",
   "metadata": {},
   "outputs": [],
   "source": []
  }
 ],
 "metadata": {
  "kernelspec": {
   "display_name": "Python [conda env:base] *",
   "language": "python",
   "name": "conda-base-py"
  },
  "language_info": {
   "codemirror_mode": {
    "name": "ipython",
    "version": 3
   },
   "file_extension": ".py",
   "mimetype": "text/x-python",
   "name": "python",
   "nbconvert_exporter": "python",
   "pygments_lexer": "ipython3",
   "version": "3.12.7"
  }
 },
 "nbformat": 4,
 "nbformat_minor": 5
}
