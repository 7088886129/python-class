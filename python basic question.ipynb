{
 "cells": [
  {
   "cell_type": "code",
   "execution_count": 1,
   "id": "67b59cf7-7e10-4e3b-ace8-ae0864a6344c",
   "metadata": {},
   "outputs": [],
   "source": [
    "# data type( string , float, bolean, tuple, )"
   ]
  },
  {
   "cell_type": "raw",
   "id": "4ff8fe39-5b33-45ee-badc-db0a99fb7d1b",
   "metadata": {},
   "source": [
    "what is python ?\n",
    "ans/. Python is high lavel programning language Known for simpleycity and releblity  "
   ]
  },
  {
   "cell_type": "raw",
   "id": "bdf63dcd-c798-4412-8141-ccca542e1480",
   "metadata": {},
   "source": [
    "What are the key features of Python?\n",
    "Ans. python esaly to Learn its dimacially and object in programning language And Support AI (M.L)"
   ]
  },
  {
   "cell_type": "raw",
   "id": "e9e7b795-7ac0-42ba-a19d-ab3f600a876f",
   "metadata": {},
   "source": [
    "What are Difference B/W python And C++ ?\n",
    "Ans. python Dimcially language And C++ its statical with complile."
   ]
  },
  {
   "cell_type": "raw",
   "id": "3768ff42-1883-4791-b363-4affba597b44",
   "metadata": {},
   "source": [
    "Why is indentation important in Python?\n",
    "Ans. indentation defind code of block in python its replace 4 space."
   ]
  },
  {
   "cell_type": "raw",
   "id": "0ecb0e70-a9dc-41b6-ad44-bdcad38a442b",
   "metadata": {},
   "source": [
    "What does it mean that Python is a dynamically typed language?\n",
    "Ans. Depand On Declaied in barivale in C++ not in python"
   ]
  },
  {
   "cell_type": "raw",
   "id": "07b29f41-8473-4cb6-975f-466520dc72f2",
   "metadata": {},
   "source": [
    "What are the different data types in Python?\n",
    "Ans. Data type Basic( String , Float, Tuple, Bolean)\n",
    "     Data type Cantiner( List, Set, Dict , )"
   ]
  },
  {
   "cell_type": "raw",
   "id": "c46d7a1b-40d9-4b8b-9284-1b57d5986c53",
   "metadata": {},
   "source": [
    "What are mutable and immutable data types? with  examples.\n",
    "Ans. mmutable data type. ( list , set , dict)\n",
    "     immutable data type. ( string , tuple , boolean)"
   ]
  },
  {
   "cell_type": "raw",
   "id": "95a34878-752f-4ef0-8bf9-3cd7a26b3b06",
   "metadata": {},
   "source": [
    "What is the difference between `list`, `tuple`, and `set` in Python?\n",
    "Ans. list is mmutable , tuple is immutable , set has unique in elements.  "
   ]
  },
  {
   "cell_type": "raw",
   "id": "702e3bf3-54f8-4870-becd-add2a9637107",
   "metadata": {},
   "source": [
    "How do you check the data type of a variable in Python?\n",
    "Ans. type "
   ]
  },
  {
   "cell_type": "raw",
   "id": "7d3a688a-2513-4c3f-8cdc-df18b6233488",
   "metadata": {},
   "source": [
    "What is type casting in Python? Give an example.\n",
    "Ans. kissi bhi data ko convert karne ke liye casting And Conversion Kehte hai. \n"
   ]
  },
  {
   "cell_type": "raw",
   "id": "d4d8352f-6b0e-447c-b3e5-54d13b51a52a",
   "metadata": {},
   "source": [
    "What are the different types of loops in Python?\n",
    "Ans. For loop .2 while loop"
   ]
  },
  {
   "cell_type": "raw",
   "id": "0b46916e-ee88-4dcc-88fc-b58d22f185c2",
   "metadata": {},
   "source": [
    "What is the difference between `break`, `continue`, and `pass` statements?\n",
    "Ans. break in element to break And Continue is value in skip value And . pass it is the place holder"
   ]
  },
  {
   "cell_type": "raw",
   "id": "d43868f9-7eb7-4f6d-98f9-5fdd85ddd6c7",
   "metadata": {},
   "source": [
    "What are conditional statements in Python? Explain with examples.\n",
    "Ans. if And iflse, elief"
   ]
  },
  {
   "cell_type": "raw",
   "id": "d47efe0a-3223-4ee9-8f2f-e1f55ddba008",
   "metadata": {},
   "source": [
    "How does a `for` loop work in Python?\n",
    "Ans.  for X in a"
   ]
  },
  {
   "cell_type": "code",
   "execution_count": null,
   "id": "dfd7174c-f416-4e12-8deb-d62d744b99f0",
   "metadata": {},
   "outputs": [],
   "source": [
    "What is the difference between `while` loop and `for` loop?\n",
    "Ans. while loop is Gives is Condition (Ture, False)\n",
    "     for loop is (for variable in sequence)"
   ]
  },
  {
   "cell_type": "raw",
   "id": "2651a494-dcd0-4dc6-bbe3-32ed62bfa6eb",
   "metadata": {},
   "source": [
    "How do you define a function in Python?\n",
    "Ans. def"
   ]
  },
  {
   "cell_type": "code",
   "execution_count": null,
   "id": "1c1f1ef9-afa6-46fc-85d3-e3d9cae01671",
   "metadata": {},
   "outputs": [],
   "source": []
  }
 ],
 "metadata": {
  "kernelspec": {
   "display_name": "Python 3 (ipykernel)",
   "language": "python",
   "name": "python3"
  },
  "language_info": {
   "codemirror_mode": {
    "name": "ipython",
    "version": 3
   },
   "file_extension": ".py",
   "mimetype": "text/x-python",
   "name": "python",
   "nbconvert_exporter": "python",
   "pygments_lexer": "ipython3",
   "version": "3.12.7"
  }
 },
 "nbformat": 4,
 "nbformat_minor": 5
}
