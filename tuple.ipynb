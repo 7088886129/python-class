{
 "cells": [
  {
   "cell_type": "markdown",
   "id": "829060e6-8f1f-4503-8b7c-78e0cac912c2",
   "metadata": {},
   "source": [
    "tuple"
   ]
  },
  {
   "cell_type": "code",
   "execution_count": null,
   "id": "9c4ef76a-e816-4b17-96c2-e4b6ed1416bf",
   "metadata": {},
   "outputs": [],
   "source": [
    "# Define a tuple\n",
    "my_tuple = (1, 2, 3, 4, 5, 6, 7, 8, 9, 10)\n",
    "\n",
    "# Questions about the tuple\n",
    "questions = [\n",
    "    \"1. What is the length of the tuple?\",\n",
    "    \"2. What is the first element of the tuple?\",\n",
    "    \"3. What is the last element of the tuple?\",\n",
    "    \"4. What is the index of the element 5 in the tuple?\",\n",
    "    \"5. How can you slice the tuple to get the first 5 elements?\",\n",
    "    \"6. How can you slice the tuple to get the last 5 elements?\",\n",
    "    \"7. How can you check if the element 7 is in the tuple?\",\n",
    "    \"8. How can you concatenate this tuple with another tuple (11, 12, 13)?\",\n",
    "    \"9. How can you repeat the elements of the tuple 3 times?\",\n",
    "    \"10. How can you convert the tuple to a list?"
   ]
  },
  {
   "cell_type": "code",
   "execution_count": 2,
   "id": "d71ae9fd-159c-4ff3-a7ea-31e7419fee43",
   "metadata": {},
   "outputs": [],
   "source": [
    "my_tuple = (1, 2, 3, 4, 5, 6, 7, 8, 9, 10)"
   ]
  },
  {
   "cell_type": "code",
   "execution_count": 4,
   "id": "2778de98-7a17-40ae-95a1-f6c3028687c6",
   "metadata": {},
   "outputs": [
    {
     "name": "stdout",
     "output_type": "stream",
     "text": [
      "(1, 2, 3, 4, 5, 6, 7, 8, 9, 10)\n"
     ]
    }
   ],
   "source": [
    "print(my_tuple)"
   ]
  },
  {
   "cell_type": "code",
   "execution_count": 6,
   "id": "01e7aed0-91ac-492e-99d1-7d69460d8efd",
   "metadata": {},
   "outputs": [
    {
     "data": {
      "text/plain": [
       "10"
      ]
     },
     "execution_count": 6,
     "metadata": {},
     "output_type": "execute_result"
    }
   ],
   "source": [
    "len(my_tuple)"
   ]
  },
  {
   "cell_type": "code",
   "execution_count": 8,
   "id": "ef0e1163-55c3-421d-b372-37f2041cacfa",
   "metadata": {},
   "outputs": [
    {
     "data": {
      "text/plain": [
       "1"
      ]
     },
     "execution_count": 8,
     "metadata": {},
     "output_type": "execute_result"
    }
   ],
   "source": [
    "my_tuple[0]"
   ]
  },
  {
   "cell_type": "code",
   "execution_count": 10,
   "id": "1e358fbf-c08c-48df-bee2-a847c1453522",
   "metadata": {},
   "outputs": [
    {
     "data": {
      "text/plain": [
       "10"
      ]
     },
     "execution_count": 10,
     "metadata": {},
     "output_type": "execute_result"
    }
   ],
   "source": [
    "my_tuple[-1]"
   ]
  },
  {
   "cell_type": "code",
   "execution_count": 12,
   "id": "4cbe5286-1dad-466c-b0c0-2225ba37a501",
   "metadata": {},
   "outputs": [
    {
     "data": {
      "text/plain": [
       "4"
      ]
     },
     "execution_count": 12,
     "metadata": {},
     "output_type": "execute_result"
    }
   ],
   "source": [
    "my_tuple.index(5)"
   ]
  },
  {
   "cell_type": "code",
   "execution_count": 14,
   "id": "303f88fb-1434-43d5-a33a-1f09ba44db6b",
   "metadata": {},
   "outputs": [
    {
     "data": {
      "text/plain": [
       "(1, 2, 3, 4, 5)"
      ]
     },
     "execution_count": 14,
     "metadata": {},
     "output_type": "execute_result"
    }
   ],
   "source": [
    "my_tuple[:5]"
   ]
  },
  {
   "cell_type": "code",
   "execution_count": 16,
   "id": "59cb074c-253b-4401-8666-02cdd837ec17",
   "metadata": {},
   "outputs": [
    {
     "data": {
      "text/plain": [
       "(6, 7, 8, 9, 10)"
      ]
     },
     "execution_count": 16,
     "metadata": {},
     "output_type": "execute_result"
    }
   ],
   "source": [
    "my_tuple[5:]"
   ]
  },
  {
   "cell_type": "code",
   "execution_count": 20,
   "id": "6250074a-ccb9-42d2-86f6-964c4f09e452",
   "metadata": {},
   "outputs": [
    {
     "data": {
      "text/plain": [
       "(3, 4, 5)"
      ]
     },
     "execution_count": 20,
     "metadata": {},
     "output_type": "execute_result"
    }
   ],
   "source": [
    "my_tuple[2:5]"
   ]
  },
  {
   "cell_type": "code",
   "execution_count": 24,
   "id": "18445cc2-d84c-4461-9f25-eaaf4031ecd0",
   "metadata": {},
   "outputs": [
    {
     "data": {
      "text/plain": [
       "False"
      ]
     },
     "execution_count": 24,
     "metadata": {},
     "output_type": "execute_result"
    }
   ],
   "source": [
    "11 in my_tuple"
   ]
  },
  {
   "cell_type": "code",
   "execution_count": 26,
   "id": "91af66e5-c94f-438d-9c1a-87d66be29aa5",
   "metadata": {},
   "outputs": [
    {
     "data": {
      "text/plain": [
       "False"
      ]
     },
     "execution_count": 26,
     "metadata": {},
     "output_type": "execute_result"
    }
   ],
   "source": [
    "5 not in my_tuple"
   ]
  },
  {
   "cell_type": "code",
   "execution_count": 28,
   "id": "93cdbe6a-4f75-43c2-b5d1-50b72328dd1d",
   "metadata": {},
   "outputs": [
    {
     "data": {
      "text/plain": [
       "(1, 2, 3, 4, 5, 6, 7, 8, 9, 10, 11, 12, 13)"
      ]
     },
     "execution_count": 28,
     "metadata": {},
     "output_type": "execute_result"
    }
   ],
   "source": [
    "my_tuple+(11, 12, 13)#concinate"
   ]
  },
  {
   "cell_type": "code",
   "execution_count": 30,
   "id": "b5a47a9f-431c-48e1-81a5-770b8685e785",
   "metadata": {},
   "outputs": [
    {
     "data": {
      "text/plain": [
       "(1,\n",
       " 2,\n",
       " 3,\n",
       " 4,\n",
       " 5,\n",
       " 6,\n",
       " 7,\n",
       " 8,\n",
       " 9,\n",
       " 10,\n",
       " 1,\n",
       " 2,\n",
       " 3,\n",
       " 4,\n",
       " 5,\n",
       " 6,\n",
       " 7,\n",
       " 8,\n",
       " 9,\n",
       " 10,\n",
       " 1,\n",
       " 2,\n",
       " 3,\n",
       " 4,\n",
       " 5,\n",
       " 6,\n",
       " 7,\n",
       " 8,\n",
       " 9,\n",
       " 10)"
      ]
     },
     "execution_count": 30,
     "metadata": {},
     "output_type": "execute_result"
    }
   ],
   "source": [
    "my_tuple*3"
   ]
  },
  {
   "cell_type": "code",
   "execution_count": 32,
   "id": "8a260ea9-4939-41ed-af8d-00d9d44ebb96",
   "metadata": {},
   "outputs": [],
   "source": [
    "a=tuple()"
   ]
  },
  {
   "cell_type": "code",
   "execution_count": 34,
   "id": "5ddd9a1b-fede-46c5-b6d5-9036de34a2c3",
   "metadata": {},
   "outputs": [
    {
     "data": {
      "text/plain": [
       "()"
      ]
     },
     "execution_count": 34,
     "metadata": {},
     "output_type": "execute_result"
    }
   ],
   "source": [
    "a"
   ]
  },
  {
   "cell_type": "code",
   "execution_count": 36,
   "id": "1f6acb24-1c55-4bc1-96fd-7dbbc2aac4b2",
   "metadata": {},
   "outputs": [
    {
     "data": {
      "text/plain": [
       "tuple"
      ]
     },
     "execution_count": 36,
     "metadata": {},
     "output_type": "execute_result"
    }
   ],
   "source": [
    "type(a)"
   ]
  },
  {
   "cell_type": "code",
   "execution_count": 38,
   "id": "41040916-88e2-4543-acd8-bd01c93064ef",
   "metadata": {},
   "outputs": [],
   "source": [
    "b=list()"
   ]
  },
  {
   "cell_type": "code",
   "execution_count": 40,
   "id": "7cdb2d74-99a6-4a92-b786-6f91552c5757",
   "metadata": {},
   "outputs": [
    {
     "data": {
      "text/plain": [
       "[]"
      ]
     },
     "execution_count": 40,
     "metadata": {},
     "output_type": "execute_result"
    }
   ],
   "source": [
    "b"
   ]
  },
  {
   "cell_type": "code",
   "execution_count": 42,
   "id": "44525542-5871-4940-8663-12e8e083076b",
   "metadata": {},
   "outputs": [
    {
     "data": {
      "text/plain": [
       "list"
      ]
     },
     "execution_count": 42,
     "metadata": {},
     "output_type": "execute_result"
    }
   ],
   "source": [
    "type(b)"
   ]
  },
  {
   "cell_type": "code",
   "execution_count": 44,
   "id": "d370276a-91fe-4d97-a569-ae6b691d60fa",
   "metadata": {},
   "outputs": [],
   "source": [
    "c=list(my_tuple)"
   ]
  },
  {
   "cell_type": "code",
   "execution_count": 46,
   "id": "32d47743-bca4-4e04-9155-b43cb36b5c30",
   "metadata": {},
   "outputs": [
    {
     "data": {
      "text/plain": [
       "[1, 2, 3, 4, 5, 6, 7, 8, 9, 10]"
      ]
     },
     "execution_count": 46,
     "metadata": {},
     "output_type": "execute_result"
    }
   ],
   "source": [
    "c"
   ]
  },
  {
   "cell_type": "code",
   "execution_count": 48,
   "id": "df472141-dbd6-49d1-abee-e6318ae4a10e",
   "metadata": {},
   "outputs": [
    {
     "data": {
      "text/plain": [
       "list"
      ]
     },
     "execution_count": 48,
     "metadata": {},
     "output_type": "execute_result"
    }
   ],
   "source": [
    "type(c)"
   ]
  },
  {
   "cell_type": "code",
   "execution_count": 50,
   "id": "1329fd70-07dd-42c2-893f-718b63d5cf2c",
   "metadata": {},
   "outputs": [
    {
     "data": {
      "text/plain": [
       "tuple"
      ]
     },
     "execution_count": 50,
     "metadata": {},
     "output_type": "execute_result"
    }
   ],
   "source": [
    "type(my_tuple)"
   ]
  },
  {
   "cell_type": "code",
   "execution_count": 52,
   "id": "d3a89493-7f18-4c7b-8d11-bb9baa3a79f2",
   "metadata": {},
   "outputs": [],
   "source": [
    "a=[1,2]"
   ]
  },
  {
   "cell_type": "code",
   "execution_count": 54,
   "id": "0028e638-1f3a-4af4-b7dd-1bfceb7168f9",
   "metadata": {},
   "outputs": [
    {
     "data": {
      "text/plain": [
       "list"
      ]
     },
     "execution_count": 54,
     "metadata": {},
     "output_type": "execute_result"
    }
   ],
   "source": [
    "type(a)"
   ]
  },
  {
   "cell_type": "code",
   "execution_count": 56,
   "id": "3afd4db8-1edb-49c9-af50-eaa18d1249a3",
   "metadata": {},
   "outputs": [],
   "source": [
    "c=tuple(a)"
   ]
  },
  {
   "cell_type": "code",
   "execution_count": 58,
   "id": "141d590f-cc60-4a92-920d-5819ff954904",
   "metadata": {},
   "outputs": [
    {
     "data": {
      "text/plain": [
       "(1, 2)"
      ]
     },
     "execution_count": 58,
     "metadata": {},
     "output_type": "execute_result"
    }
   ],
   "source": [
    "c"
   ]
  },
  {
   "cell_type": "code",
   "execution_count": null,
   "id": "ceb0f2e1-aba8-401e-b324-2e65e9969438",
   "metadata": {},
   "outputs": [],
   "source": []
  }
 ],
 "metadata": {
  "kernelspec": {
   "display_name": "Python [conda env:base] *",
   "language": "python",
   "name": "conda-base-py"
  },
  "language_info": {
   "codemirror_mode": {
    "name": "ipython",
    "version": 3
   },
   "file_extension": ".py",
   "mimetype": "text/x-python",
   "name": "python",
   "nbconvert_exporter": "python",
   "pygments_lexer": "ipython3",
   "version": "3.12.7"
  }
 },
 "nbformat": 4,
 "nbformat_minor": 5
}
